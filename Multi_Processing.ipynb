{
 "cells": [
  {
   "cell_type": "markdown",
   "id": "2fbe6f66-924f-4410-9c87-5aa49f2b1076",
   "metadata": {},
   "source": [
    "#### Q1. What is multiprocessing in python? Why is it useful?"
   ]
  },
  {
   "cell_type": "markdown",
   "id": "39d6823d-0a12-41a5-8fa4-f02982f53575",
   "metadata": {},
   "source": [
    "Multiprocessing is the capacity of python program to run in the different cores of a processor Simultaneously.\n",
    "\n",
    "It is useful because:\n",
    "1. Increases efficiency\n",
    "2. Increases performance\n",
    "3. Increases Responsiveness "
   ]
  },
  {
   "cell_type": "markdown",
   "id": "9bd7bf84-9990-4613-a7de-484e51a3031c",
   "metadata": {},
   "source": [
    "#### Q2. What are the differences between multiprocessing and multithreading?"
   ]
  },
  {
   "cell_type": "markdown",
   "id": "19658cb0-672f-490f-9ac0-714b458cb92d",
   "metadata": {},
   "source": [
    "| Multiprocessing | Multithreading |\n",
    "| --- | --- |\n",
    "| Multiprocessing is capacity of program to run different modules in different cores simultaneously. | Multithreding is capacity of program to run different modules concurrently in same core by taking turns. |\n",
    "| Suitable for CPU oriented tasks. | Suitable for I/O oriented tasks. |\n",
    "|Processes run in separate memory spaces.|Threads share the same memory space.|"
   ]
  },
  {
   "cell_type": "markdown",
   "id": "4d3a8641-d20b-46c0-b023-1ff816510698",
   "metadata": {},
   "source": [
    "#### Q3. Write a python code to create a process using the multiprocessing module."
   ]
  },
  {
   "cell_type": "code",
   "execution_count": 7,
   "id": "d57a6638-6c3d-45bb-b1e5-5b9dafd396d3",
   "metadata": {},
   "outputs": [
    {
     "name": "stdout",
     "output_type": "stream",
     "text": [
      "[1, 4, 9, 16, 25]\n",
      "[1, 8, 27, 64, 125]\n"
     ]
    }
   ],
   "source": [
    "from multiprocessing import Process\n",
    "\n",
    "def fun1(*args):\n",
    "    result = []\n",
    "    for i in args:\n",
    "        result.append(i ** 2)\n",
    "    print(result)\n",
    "\n",
    "def fun2(*args):\n",
    "    result = []\n",
    "    for i in args:\n",
    "        result.append(i ** 3)\n",
    "    print(result)\n",
    "\n",
    "def main():\n",
    "    m1 =multiprocessing.Process(target=fun1, args=([1, 2, 3, 4, 5]))\n",
    "    m2 =multiprocessing.Process(target=fun2, args=([1, 2, 3, 4, 5]))\n",
    "\n",
    "    m1.start()\n",
    "    m2.start()\n",
    "\n",
    "    m1.join()\n",
    "    m2.join()\n",
    "\n",
    "if __name__ == '__main__':\n",
    "    main()"
   ]
  },
  {
   "cell_type": "markdown",
   "id": "84aa5d67-efcb-4539-90ca-8175707a7c24",
   "metadata": {},
   "source": [
    "#### Q4. What is a multiprocessing pool in python? Why is it used?"
   ]
  },
  {
   "cell_type": "markdown",
   "id": "a9877a85-8826-4652-bdac-848b61ac4453",
   "metadata": {},
   "source": [
    "In Python, a multiprocessing pool is a construct provided by the multiprocessing module that enables efficient parallel execution of a function across multiple inputs by distributing the workload among a pool of worker processes.\n",
    "\n",
    "It is used to divide a program and distribute to different cores for efficiency."
   ]
  },
  {
   "cell_type": "markdown",
   "id": "46ba9a91-466b-4b74-aae7-01209cc4d3af",
   "metadata": {},
   "source": [
    "#### Q5. How can we create a pool of worker processes in python using the multiprocessing module?"
   ]
  },
  {
   "cell_type": "code",
   "execution_count": 40,
   "id": "df0b4587-b1ba-4bcd-b308-b01857d664a7",
   "metadata": {},
   "outputs": [
    {
     "name": "stdout",
     "output_type": "stream",
     "text": [
      "[1, 4, 9, 16, 25]\n"
     ]
    }
   ],
   "source": [
    "#Here is how it is done\n",
    "\n",
    "import multiprocessing\n",
    "\n",
    "\n",
    "def sqr(n):\n",
    "    return(n**2)\n",
    "\n",
    "if __name__=='__main__':\n",
    "    \n",
    "    a= multiprocessing.Pool(processes=4)\n",
    "\n",
    "    b= a.map(sqr,[1,2,3,4,5])\n",
    "    print(b)\n",
    "    \n",
    "    a.close()\n",
    "    a.join()"
   ]
  },
  {
   "cell_type": "markdown",
   "id": "69e1354b-72ab-4fbd-a283-6170aa840eed",
   "metadata": {},
   "source": [
    "#### Q6. Write a python program to create 4 processes, each process should print a different number using the multiprocessing module in python."
   ]
  },
  {
   "cell_type": "code",
   "execution_count": 48,
   "id": "725f6ede-88dc-4998-92ea-eb71a51d15a0",
   "metadata": {},
   "outputs": [
    {
     "name": "stdout",
     "output_type": "stream",
     "text": [
      "Process 0 prints 0\n",
      "Process 1 prints 1\n",
      "Process 2 prints 2\n",
      "Process 3 prints 3\n",
      "<Process name='Process-118' pid=2830 parent=77 stopped exitcode=0>\n",
      "<Process name='Process-119' pid=2847 parent=77 stopped exitcode=0>\n",
      "<Process name='Process-120' pid=2864 parent=77 stopped exitcode=0>\n",
      "<Process name='Process-121' pid=2881 parent=77 stopped exitcode=0>\n"
     ]
    }
   ],
   "source": [
    "import multiprocessing\n",
    "\n",
    "def print_number(number):\n",
    "    print(\"Process\", number, \"prints\", number)\n",
    "\n",
    "if __name__ == '__main__':\n",
    "    processes = []\n",
    "    \n",
    "    for i in range(4):\n",
    "        p = multiprocessing.Process(target=print_number, args=(i,))\n",
    "        processes.append(p)\n",
    "        p.start()\n",
    "        p.join()\n",
    "        \n",
    "    #verifies that 4 different processes are created\n",
    "    for p in processes:\n",
    "        print(p)\n",
    "       "
   ]
  },
  {
   "cell_type": "code",
   "execution_count": null,
   "id": "754a2dfc-8fe5-45b7-9537-c81c7c069848",
   "metadata": {},
   "outputs": [],
   "source": []
  }
 ],
 "metadata": {
  "kernelspec": {
   "display_name": "Python 3 (ipykernel)",
   "language": "python",
   "name": "python3"
  },
  "language_info": {
   "codemirror_mode": {
    "name": "ipython",
    "version": 3
   },
   "file_extension": ".py",
   "mimetype": "text/x-python",
   "name": "python",
   "nbconvert_exporter": "python",
   "pygments_lexer": "ipython3",
   "version": "3.10.8"
  }
 },
 "nbformat": 4,
 "nbformat_minor": 5
}
