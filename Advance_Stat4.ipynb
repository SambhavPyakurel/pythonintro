{
 "cells": [
  {
   "cell_type": "markdown",
   "id": "a02cf215-bd17-4bde-b27c-52903fffa261",
   "metadata": {},
   "source": [
    "#### Q1: What is the difference between a t-test and a z-test? Provide an example scenario where you would use each type of test."
   ]
  },
  {
   "cell_type": "markdown",
   "id": "2ba94220-585e-4a79-b9da-d2069187af26",
   "metadata": {},
   "source": [
    "|t-test|z-test|\n",
    "|---|---|\n",
    "|t-test is used when sample size is below 30 and population standard deviation is not known.|z-test us used when sample size is above 30 and population standard deviation is known.|\n",
    "\n",
    "*e.g.*\n",
    "\n",
    "You randomly select 20 individuals from Group A and 20 individuals from Group B, measure their heights, and want to know if there's a significant difference in the mean heights between the two groups.\n",
    "\n",
    "In this case we use t-test. Had the sample size been greater than 30 and population standard deviation was known, z-test could have been used."
   ]
  },
  {
   "cell_type": "markdown",
   "id": "a955a060-f15b-4b64-b917-556132b29f90",
   "metadata": {},
   "source": [
    "#### Q2: Differentiate between one-tailed and two-tailed tests."
   ]
  },
  {
   "cell_type": "markdown",
   "id": "c3f45843-19c8-45a0-826a-b74257c336d8",
   "metadata": {},
   "source": [
    "|One-tailed test|Two-tailed test|\n",
    "|---|---|\n",
    "|Tests that are directed towards one direction.|Tests that are directed towards two direction.|\n",
    "|Tests for direction of effect.|Tests for any significant difference.|\n",
    "|*e.g* Testing if a drug increase concentration|*e.g.* Testing if a drug has any effect on concentration|"
   ]
  },
  {
   "cell_type": "markdown",
   "id": "1768c6f3-c2da-4e21-887f-64800bcf13d5",
   "metadata": {},
   "source": [
    "#### Q3: Explain the concept of Type 1 and Type 2 errors in hypothesis testing. Provide an example scenario for each type of error."
   ]
  },
  {
   "cell_type": "markdown",
   "id": "6ddd4722-b213-43c1-ae25-d62d4663e962",
   "metadata": {},
   "source": [
    "Type-1 Error:\n",
    "If a null hypothesis is rejected even if it is true in reality then it is Type-1 error.\n",
    "\n",
    "*e.g.*\n",
    "\n",
    "Suppose there's a diagnostic test for a rare disease, and the null hypothesis (H0) is that the person does not have the disease. The alternative hypothesis (Ha) is that the person has the disease. If the test incorrectly indicates a person has the disease (Ha), but they are actually healthy (H0), it is a Type 1 error.\n",
    "\n",
    "Type-2 Error:\n",
    "If a null hypothesis is not rejected even if it is not true in reality then it is Type-2 error.\n",
    "\n",
    "*e.g.*\n",
    "\n",
    "Suppose there's a diagnostic test for a rare disease, and the null hypothesis (H0) is that the person has the disease. The alternative hypothesis (Ha) is that the person does not have the disease. If the test incorrectly indicates a person has the disease (H0), but they are actually healthy (Ha), it is a Type 2 error."
   ]
  },
  {
   "cell_type": "markdown",
   "id": "0c386a89-b263-403b-acb7-7ede19cd7b0a",
   "metadata": {},
   "source": [
    "#### Q4: Explain Bayes's theorem with an example."
   ]
  },
  {
   "cell_type": "markdown",
   "id": "3714f62e-8b9b-4990-9fe5-9312cb6e745c",
   "metadata": {},
   "source": [
    "Bayes' Theorem states that \"the conditional probability of an event, based on the occurrence of another event, is equal to the likelihood of the second event given the first event multiplied by the probability of the first event.\"\n",
    "\n",
    "*i.e.* P(A and B)=P(A)* P(B/A)\n",
    "or, P(A/B)=P(A)* P(B/A)/P(B)\n",
    "\n",
    "*e.g.*\n",
    "\n",
    "If we draw a card from the deck and it is Ace of spades, Again if we are to draw the card from the same deck and expect an ace, the probability of getting an ace after getting ace of spades is equal to product of probability of getting ace of spades and probability of geeting ace given that first draw was ace of spade.\n",
    "\n",
    "P(Ace of spades)=1/52\n",
    "P(Ace/Ace of spades)=3/51\n",
    "P(Ace)=4/52\n",
    "\n",
    "P(Ace of Spades and ace)= 1/52 * 3/51\n",
    "\n",
    "P(Ace of spade given that First draw is ace) = (1/52 * 3/51)/4/52 = 0.0147"
   ]
  },
  {
   "cell_type": "markdown",
   "id": "ae8628f5-1a06-4e9a-84b0-bd319dba4f2b",
   "metadata": {},
   "source": [
    "#### Q5: What is a confidence interval? How to calculate the confidence interval, explain with an example."
   ]
  },
  {
   "cell_type": "markdown",
   "id": "50b24110-c3b8-4949-8a5e-6c3d0ed3ac54",
   "metadata": {},
   "source": [
    "Confidence interval is the range of values you expect your estimate to fall between if you redo your test, within a certain level of confidence.\n",
    "\n",
    "Confidence interval = Point estimate ± Margin of error\n",
    "\n",
    "*e.g.*\n",
    "\n",
    "Suppose we randomly select a sample of 50 students from a school and measure their heights. We want to calculate a 95% confidence interval for the average height of all students in the school.\n",
    "\n",
    "Here,\n",
    "\n",
    "Sample size (n) = 50\n",
    "\n",
    "Sample mean (x̄) = 165 cm\n",
    "\n",
    "Sample standard deviation (s) = 8 cm\n",
    "\n",
    "confidence level = 95%\n",
    "\n",
    "aplha=0.05\n",
    "\n",
    "degree of freedom = n-1 = 50-1 = 49\n",
    "\n",
    "from t-table,\n",
    "\n",
    "t-critical = 2.010\n",
    "\n",
    "Margin of error = t-critical * s/sqrt(n) = 2.010 * 8/sqrt(50) = 2.277\n",
    "\n",
    "finally for confidence interval,\n",
    "\n",
    "Lower Confidence = sample mean - Margin of error = 165 - 2.277 = 162.723 cm\n",
    "\n",
    "Upper Confidence = sample mean + Margin of error = 165 + 2.277 = 167.277 cm\n",
    "\n",
    "We are 95% confident that the true average height of all students in the school lies within the range of approximately 162.7 cm to 167.3 cm."
   ]
  },
  {
   "cell_type": "markdown",
   "id": "1fdfe436-4d47-41a2-8cc1-3af7b67d3a87",
   "metadata": {},
   "source": [
    "#### Q6. Use Bayes' Theorem to calculate the probability of an event occurring given prior knowledge of the event's probability and new evidence. Provide a sample problem and solution."
   ]
  },
  {
   "cell_type": "markdown",
   "id": "794f9ec2-6e8d-41aa-ae7b-684c67f1d7a8",
   "metadata": {},
   "source": [
    "Suppose In a fun park 50% of the visitors are children. The park also have 20% of the visitors disabled. 10% of the visitors are disabled as well as children.\n",
    "\n",
    "Here,\n",
    "\n",
    "Probability of visitor being child, P(A) = 50% = 0.5\n",
    "\n",
    "Probability of visitor being disabled, P(B) = 20% = 0.2\n",
    "\n",
    "Probability of visitors being child as well as disabled, P(B|A) = 10% = 0.1\n",
    "\n",
    "According to Bayes theorem, \n",
    "\n",
    "Probability of visitors being disabled if they're child, P(A|B) = P(A)* P(B|A)/P(B) = 0.5 * 0.1/0.2 = 0.25\n",
    "\n",
    "Therefore, there is 25% probability that visiting children are disabled."
   ]
  },
  {
   "cell_type": "markdown",
   "id": "c0cc36b6-e229-4d6a-996a-e5e07b72dd0a",
   "metadata": {},
   "source": [
    "#### Q7. Calculate the 95% confidence interval for a sample of data with a mean of 50 and a standard deviation of 5. Interpret the results."
   ]
  },
  {
   "cell_type": "markdown",
   "id": "49f908ad-078d-4d93-9bce-576fc512b677",
   "metadata": {},
   "source": [
    "let total sample be 100.\n",
    "\n",
    "Given,\n",
    "\n",
    "n=100\n",
    "\n",
    "Confidence interval = 95%\n",
    "\n",
    "mean = 50\n",
    "\n",
    "std = 5\n",
    "\n",
    "from z- table for 95% confidence interval,\n",
    "\n",
    "Z = 1.96\n",
    "\n",
    "now for confidence interval,\n",
    "\n",
    "Upper interval level = mean + Z * std/sqrt(n) = 50 + 1.96 * 5/10 = 50.98\n",
    "\n",
    "Lower interval level = mean - Z * std/sqrt(n) = 50 - 1.96 * 5/10 = 49.02\n",
    "\n",
    "Interpretation: \n",
    "We can interpret the 95% confidence interval as follows: If we were to take many random samples of the same size from the population, and calculate the mean for each sample, 95% of those means would fall within the interval [49.02, 50.98]. In other words, we are 95% confident that the true population mean falls within this interval. Additionally, we can say that if we were to repeat this process many times, 5% of the time the true population mean would fall outside of this interval."
   ]
  },
  {
   "cell_type": "markdown",
   "id": "ba62d084-a1b1-4e41-8ad5-5bf490ee9791",
   "metadata": {},
   "source": [
    "#### Q8. What is the margin of error in a confidence interval? How does sample size affect the margin of error? Provide an example of a scenario where a larger sample size would result in a smaller margin of error."
   ]
  },
  {
   "cell_type": "markdown",
   "id": "811f94bd-360a-45a9-a431-3a2aba027951",
   "metadata": {},
   "source": [
    "Margin of error is a statistical term that refers to the range of values that is added or subtracted to the point estimate of a population parameter, such as the mean or proportion, in order to create a confidence interval.\n",
    "\n",
    "More the sample size less the margin of error and vice versa.\n",
    "\n",
    "*e.g.*\n",
    "\n",
    "Lets take the sample size of 100 and its margin of error is 2. Let us increase the sample size to 1000 keeping every other parameter same.\n",
    "\n",
    "n = 100\n",
    "\n",
    "n' = 1000\n",
    "\n",
    "now, \n",
    "\n",
    "MOE = Z * std/sqrt(n)\n",
    "\n",
    "MOE * sqrt(n) = Z * std\n",
    "\n",
    "Z * std = 2 * 10 = 20 -------(i)\n",
    "\n",
    "now for n' , \n",
    "\n",
    "MOE' = Z * std/sqrt(n') = 20/31.62 = 0.63\n",
    "\n",
    "Here, MOE' < MOE\n",
    "\n",
    "Which proves that larger data sample results in small margin of error."
   ]
  },
  {
   "cell_type": "markdown",
   "id": "e855c776-91f7-4fee-bd83-b2bf80325015",
   "metadata": {},
   "source": [
    "#### Q9. Calculate the z-score for a data point with a value of 75, a population mean of 70, and a population standard deviation of 5. Interpret the results."
   ]
  },
  {
   "cell_type": "markdown",
   "id": "987d42f9-6ed3-498d-881f-66da862f8405",
   "metadata": {},
   "source": [
    "Here, \n",
    "\n",
    "x = 75\n",
    "\n",
    "mean = 70\n",
    "\n",
    "std = 5\n",
    "\n",
    "z-score = (x-mean)/std = (75-70)/5 = 1\n",
    "\n",
    "Interpretation: \n",
    "z-score being 1 suggests that the value 75 is one standard deviation away from the mean(70). "
   ]
  },
  {
   "cell_type": "markdown",
   "id": "932defbc-9276-42f8-92b2-47b26bbe436a",
   "metadata": {},
   "source": [
    "#### Q10. In a study of the effectiveness of a new weight loss drug, a sample of 50 participants lost an average of 6 pounds with a standard deviation of 2.5 pounds. Conduct a hypothesis test to determine if the drug is significantly effective at a 95% confidence level using a t-test."
   ]
  },
  {
   "cell_type": "markdown",
   "id": "da7abe32-8a91-41c6-8294-1a83cbd9bbd1",
   "metadata": {},
   "source": [
    "Null hypothesis: The weight loss drug is not significantly effective, and the true population mean weight loss is equal to or less than 0 pounds. H0: µ < 0.\n",
    "\n",
    "Alternative hypothesis: The weight loss drug is significantly effective, and the true population mean weight loss is greater than 0 pounds. Ha: µ > 0.\n",
    "\n",
    "Given, \n",
    "\n",
    "pop. mean = 0\n",
    "\n",
    "n = 50\n",
    "\n",
    "sample mean = 6\n",
    "\n",
    "std = 2.5 \n",
    "\n",
    "confidence level = 95%\n",
    "\n",
    "now,\n",
    "\n",
    "T-score = (sample mean - pop. mean)/std/sqrt(n) = (6-0)/2.5/7.01 = 16.97\n",
    "\n",
    "now for critical t-score,\n",
    "\n",
    "df = n-1 = 49\n",
    "\n",
    "confidence interval = 95%\n",
    "\n",
    "from t-table, \n",
    "\n",
    "t_critical = 1.6766\n",
    "\n",
    "since, t-score > t_critical we can reject the null hypothesis and conclude that the weight loss drug is significantly effective at a 95% confidence level."
   ]
  },
  {
   "cell_type": "markdown",
   "id": "b6d95093-238d-41d2-a582-0d090bbc25e8",
   "metadata": {},
   "source": [
    "#### Q11. In a survey of 500 people, 65% reported being satisfied with their current job. Calculate the 95% confidence interval for the true proportion of people who are satisfied with their job."
   ]
  },
  {
   "cell_type": "markdown",
   "id": "465f665e-5cfb-431a-85b7-f87aef5319fa",
   "metadata": {},
   "source": [
    "Here,\n",
    "\n",
    "p = 0.65\n",
    "\n",
    "n = 500\n",
    "\n",
    "z = 1.96 (for a 95% confidence level, two-tailed)\n",
    "\n",
    "now for confidence interval,\n",
    "\n",
    "CI = p ± z*(sqrt(p*(1-p)/n))\n",
    "\n",
    "CI = 0.65 ± 1.96*(sqrt(0.65*(1-0.65)/500))\n",
    "\n",
    "CI = 0.65 ± 0.045\n",
    "\n",
    "CI = (0.605, 0.695)\n",
    "\n",
    "Therefore, we can say with 95% confidence that the true proportion of people who are satisfied with their job is between 0.605 and 0.695. This means that if we were to repeat this survey many times, about 95% of the time, the true proportion of people who are satisfied with their job would fall within this interval."
   ]
  },
  {
   "cell_type": "markdown",
   "id": "c7e24f98-0797-427b-91e2-7f5b1f7c6ec7",
   "metadata": {},
   "source": [
    "#### Q12. A researcher is testing the effectiveness of two different teaching methods on student performance. Sample A has a mean score of 85 with a standard deviation of 6, while sample B has a mean score of 82 with a standard deviation of 5. Conduct a hypothesis test to determine if the two teaching methods have a significant difference in student performance using a t-test with a significance level of 0.01."
   ]
  },
  {
   "cell_type": "markdown",
   "id": "f5970b57-b413-4a3b-bb36-cda3e03b8023",
   "metadata": {},
   "source": [
    "Null hypothesis: The two teaching methods have no significant difference in student performance. H0: µA = µB.\n",
    "\n",
    "Alternative hypothesis: The two teaching methods have a significant difference in student performance.Ha: µA≠µB. \n",
    "\n",
    "sp = sqrt(((nA-1)sA^2 + (nB-1)sB^2) / (nA + nB - 2))\n",
    "\n",
    "where sA and sB are the sample standard deviations, nA and nB are the sample sizes.\n",
    "\n",
    "Since, sample size is required for the calculation of pooled standard deviation lets take sample size to be 50 each.\n",
    "\n",
    "sp = sqrt(((49)(6^2) + (49)(5^2)) / (98))\n",
    "\n",
    "sp = 5.51\n",
    "\n",
    "now,\n",
    "\n",
    "t-score = (x̄A - x̄B) / (sp * sqrt(1/nA + 1/nB))\n",
    "\n",
    "t = (85 - 82) / (5.51 * sqrt(1/49 + 1/49))\n",
    "\n",
    "t = 2.56\n",
    "\n",
    "\n",
    "for t-critical,\n",
    "\n",
    "df = nA + nB - 2 = 50 + 50 - 2 = 98\n",
    "\n",
    "significance level = 0.01 \n",
    "\n",
    "from t-table,\n",
    "\n",
    "t_critical = ±2.68\n",
    "\n",
    "Since, t-score is within the range of t_critical, we fail to reject null hypothesis and conclude that there is not enough evidence to suggest a significant difference between the two teaching methods at a 99% confidence level."
   ]
  },
  {
   "cell_type": "markdown",
   "id": "c19bcf24-4114-4fa1-8a54-74a938faf709",
   "metadata": {},
   "source": [
    "#### Q13. A population has a mean of 60 and a standard deviation of 8. A sample of 50 observations has a mean of 65. Calculate the 90% confidence interval for the true population mean."
   ]
  },
  {
   "cell_type": "markdown",
   "id": "670266b3-1914-442d-abf0-c631c2b9c99d",
   "metadata": {},
   "source": [
    "Here,\n",
    "\n",
    "x̄ = 65\n",
    "\n",
    "σ = 8\n",
    "\n",
    "n = 50\n",
    "\n",
    "z = 1.645 (for a 90% confidence level, two-tailed)\n",
    "\n",
    "now for confidence interval,\n",
    "\n",
    "CI = x̄ ± z*(σ/√n)\n",
    "\n",
    "CI = 65 ± 1.645*(8/√50)\n",
    "\n",
    "CI = 65 ± 1.854\n",
    "\n",
    "CI = (63.146, 66.854)\n",
    "\n",
    "Therefore, we can say with 90% confidence that the true population mean falls between 63.146 and 66.854. This means that if we were to repeat this sampling process many times, about 90% of the time, the true population mean would fall within this interval."
   ]
  },
  {
   "cell_type": "markdown",
   "id": "a2b92a52-6cdd-4867-ad51-529b832f11e8",
   "metadata": {},
   "source": [
    "#### Q14. In a study of the effects of caffeine on reaction time, a sample of 30 participants had an average reaction time of 0.25 seconds with a standard deviation of 0.05 seconds. Conduct a hypothesis test to determine if the caffeine has a significant effect on reaction time at a 90% confidence level using a t-test."
   ]
  },
  {
   "cell_type": "markdown",
   "id": "0005d7f9-d6d0-415e-94eb-982a4258047c",
   "metadata": {},
   "source": [
    "Null hypothesis: Caffeine has no significant effect on reaction time. H0: µ = 0.25.\n",
    "\n",
    "Alternative hypothesis: Caffeine has a significant effect on reaction time. Ha: µ ≠ 0.25.\n",
    "\n",
    "Here,\n",
    "\n",
    "x̄ = 0.25\n",
    "\n",
    "µ = 0.25\n",
    "\n",
    "s = 0.05\n",
    "\n",
    "n = 30\n",
    "\n",
    "\n",
    "for t-score,\n",
    "\n",
    "t = (x̄ - µ0) / (s / sqrt(n))\n",
    "\n",
    "t = (0.25 - 0.25) / (0.05 / sqrt(30))\n",
    "\n",
    "t = 0 / 0.009146\n",
    "\n",
    "t = 0\n",
    "\n",
    "now for t_critical,\n",
    "\n",
    "df = n - 1 = 30 - 1 = 29\n",
    "\n",
    "significance level = 0.1\n",
    "\n",
    "from t-table,\n",
    "\n",
    "t_critical = ±1.699\n",
    "\n",
    "\n",
    "Since, t_score lies in between t_critical, we fail to reject the null hypothesis and conclude that there is not enough evidence to suggest a significant difference in reaction time with and without caffeine at a 90% confidence level."
   ]
  }
 ],
 "metadata": {
  "kernelspec": {
   "display_name": "Python 3 (ipykernel)",
   "language": "python",
   "name": "python3"
  },
  "language_info": {
   "codemirror_mode": {
    "name": "ipython",
    "version": 3
   },
   "file_extension": ".py",
   "mimetype": "text/x-python",
   "name": "python",
   "nbconvert_exporter": "python",
   "pygments_lexer": "ipython3",
   "version": "3.10.8"
  }
 },
 "nbformat": 4,
 "nbformat_minor": 5
}
