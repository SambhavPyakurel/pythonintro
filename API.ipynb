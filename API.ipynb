{
 "cells": [
  {
   "cell_type": "markdown",
   "id": "c60ae074-4f53-4bd0-8136-9d9aab0b13cc",
   "metadata": {},
   "source": [
    "#### Q1. What is an API? Give an example, where an API is used in real life."
   ]
  },
  {
   "cell_type": "markdown",
   "id": "e3703046-ba21-495e-b101-ee424dce5372",
   "metadata": {},
   "source": [
    "API(Application Programming Interface) is a set of rules and protocols that allows different software applications to communicate and interact with each other. An API defines the methods, data structures, and protocols that software components can use to exchange information and perform actions.\n",
    "\n",
    "\n",
    "e.g.\n",
    "\n",
    "When we use the google to search something, Google as a search engine doesn't have the information that is asked for. So, it contacts the server where it has to get data from. It must need something to act as a bridge to make the data retrival possible. That bridge is API."
   ]
  },
  {
   "cell_type": "markdown",
   "id": "0bc2802e-8aeb-4cda-ab56-8becf2c15fca",
   "metadata": {},
   "source": [
    "#### Q2. Give advantages and disadvantages of using API."
   ]
  },
  {
   "cell_type": "markdown",
   "id": "4d0cb2cb-696c-421d-a9c1-2da1c6dc7c12",
   "metadata": {},
   "source": [
    "Advantages:\n",
    "1. Modularity and Reuseablility: API promotes modularity and makes it easier for programmers for the use of data accross the programs written in different language as well.\n",
    "2. Interoperability: API makes it possible for different softwares to communicate and work together.\n",
    "3. Flexiblity and Scalability: API makes the software flexible as it helps to integrate additional functions easily. \n",
    "\n",
    "\n",
    "Disadvantages\n",
    "1. Complexity: While dealing with large API ecosystem it can make the program complex.\n",
    "2. Dependencies: APIs make app dependent on it, any error in API affects entire program."
   ]
  },
  {
   "cell_type": "markdown",
   "id": "ba7f57c2-258d-4d76-b4de-b13ce8ed576d",
   "metadata": {},
   "source": [
    "#### Q3. What is a Web API? Differentiate between API and Web API."
   ]
  },
  {
   "cell_type": "markdown",
   "id": "727395de-84c2-47ae-8c04-aa6cbbeb5027",
   "metadata": {},
   "source": [
    "Web APIs are basically APIs of Web.\n",
    "\n",
    "| API |Web API|\n",
    "|---|---|\n",
    "|APIs are the protocols that allows the different applications to communicate to eachother.|Web APIs are the protocols that allows different web applications to communicate to eachother.|\n",
    "| Can be implemented using various protocols such as REST, SOAP, GraphQL, etc. | Commonly implemented using RESTful architecture and HTTP/HTTPS protocols |\n",
    "| Can be used for different purposes, including system-level APIs, library APIs, operating system APIs, etc. | Typically used to provide access to web services, functionality, or data |\n",
    "| Can be implemented in different programming languages | Can be implemented using web technologies such as HTTP, JSON, XML, etc. |\n",
    "| Examples: Database APIs, Operating System APIs, Third-party APIs, etc. | Examples: Google Maps API, Twitter API, Facebook Graph API, etc. |"
   ]
  },
  {
   "cell_type": "markdown",
   "id": "4084a053-c806-4c6a-aa7f-dc57b27500d1",
   "metadata": {},
   "source": [
    "#### Q4. Explain REST and SOAP Architecture. Mention shortcomings of SOAP."
   ]
  },
  {
   "cell_type": "markdown",
   "id": "645de0d2-9a14-41f5-be2b-84f5b105c223",
   "metadata": {},
   "source": [
    "REST:\n",
    "Representational State Transfer(REST) is a architectural style used to provide webservices. Rest use HTTP/HTTPs protocol. It is lightweight and uses REST methods(GET,POST) to manipulate resources.It supports different data formats(JSON,XML). It is commonly used to create Web APIs.\n",
    "\n",
    "SOAP:\n",
    "Simple Object Access Protocol is a protocol used to provide different webservices. REST are more complex and uses XML for data exchange. It is commonly used in enterprise level integration.\n",
    "\n",
    "Shortcomings of SOAP:\n",
    "1. Complexity: SOAP is complex as it uses XML.\n",
    "2. Performance Overhead: SOAP is relatively slow as XML is used.\n",
    "3. Cacheability: SOAP does not have inherent support for caching mechanisms, which can impact performance and scalability in distributed systems. "
   ]
  },
  {
   "cell_type": "markdown",
   "id": "ed74f90c-1356-42a7-9d6d-4f1b23fbf930",
   "metadata": {},
   "source": [
    "#### Q5. Differentiate between REST and SOAP."
   ]
  },
  {
   "cell_type": "markdown",
   "id": "f312916c-a6ea-4c02-b55d-e47367902d95",
   "metadata": {},
   "source": [
    "| REST                                        | SOAP                                         |\n",
    "|---------------------------------------------|----------------------------------------------|\n",
    "| Stands for Representational State Transfer | Stands for Simple Object Access Protocol      |\n",
    "| Architectural style                          | Protocol                                     |\n",
    "| Uses HTTP/HTTPS protocols                    | Can use various protocols, including HTTP, SMTP, etc. |\n",
    "| Lightweight and simpler to implement        | More complex and heavyweight                  |\n",
    "| Utilizes URLs and HTTP methods (GET, POST, PUT, DELETE) for resource manipulation | Uses XML for data exchange and SOAP envelopes for message structure |\n",
    "| Supports multiple data formats (XML, JSON, etc.) | Primarily uses XML for data exchange |\n",
    "| Caches data to improve performance            | Does not inherently support caching            |\n",
    "| Highly popular for web services and APIs    | Commonly used in enterprise-level integrations |\n",
    "\n"
   ]
  },
  {
   "cell_type": "code",
   "execution_count": null,
   "id": "6c2c69c5-d3f2-48be-9f7f-562688c7ea2c",
   "metadata": {},
   "outputs": [],
   "source": []
  }
 ],
 "metadata": {
  "kernelspec": {
   "display_name": "Python 3 (ipykernel)",
   "language": "python",
   "name": "python3"
  },
  "language_info": {
   "codemirror_mode": {
    "name": "ipython",
    "version": 3
   },
   "file_extension": ".py",
   "mimetype": "text/x-python",
   "name": "python",
   "nbconvert_exporter": "python",
   "pygments_lexer": "ipython3",
   "version": "3.10.8"
  }
 },
 "nbformat": 4,
 "nbformat_minor": 5
}
