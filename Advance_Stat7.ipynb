{
 "cells": [
  {
   "cell_type": "markdown",
   "id": "6c842993-d86a-40f5-a182-e06b7a48f55f",
   "metadata": {},
   "source": [
    "#### Q1. Write a Python function that takes in two arrays of data and calculates the F-value for a variance ratio test. The function should return the F-value and the corresponding p-value for the test."
   ]
  },
  {
   "cell_type": "code",
   "execution_count": 1,
   "id": "30f94d09-c53f-452c-a0e9-4f927b83d73d",
   "metadata": {},
   "outputs": [
    {
     "name": "stdout",
     "output_type": "stream",
     "text": [
      "F-value: 3.6\n",
      "p-value: 0.0943497728424377\n"
     ]
    }
   ],
   "source": [
    "from scipy.stats import f_oneway\n",
    "\n",
    "def variance_ratio_test(data1, data2):\n",
    "    f_val, p_val = f_oneway(data1, data2)\n",
    "    return f_val, p_val\n",
    "\n",
    "data1 = [1, 2, 3, 4, 5]\n",
    "data2 = [2, 4, 6, 8, 10]\n",
    "\n",
    "f_val, p_val = variance_ratio_test(data1, data2)\n",
    "\n",
    "print(\"F-value:\", f_val)\n",
    "print(\"p-value:\", p_val)"
   ]
  },
  {
   "cell_type": "markdown",
   "id": "e9a97965-a7f7-4be4-a912-750fc68148c5",
   "metadata": {},
   "source": [
    "#### Q2. Given a significance level of 0.05 and the degrees of freedom for the numerator and denominator of an F-distribution, write a Python function that returns the critical F-value for a two-tailed test."
   ]
  },
  {
   "cell_type": "code",
   "execution_count": 2,
   "id": "8962ab4e-7f4a-4843-807f-ad435d0b9dd2",
   "metadata": {},
   "outputs": [
    {
     "name": "stdout",
     "output_type": "stream",
     "text": [
      "Critical F-value: 4.07682306196248\n"
     ]
    }
   ],
   "source": [
    "from scipy.stats import f\n",
    "\n",
    "def critical_f_value(sig_level, dfn, dfd):\n",
    "    alpha = 1 - sig_level/2\n",
    "    return f.ppf(alpha, dfn, dfd)\n",
    "\n",
    "sig_level = 0.05\n",
    "dfn = 3\n",
    "dfd = 16\n",
    "\n",
    "f_crit = critical_f_value(sig_level, dfn, dfd)\n",
    "\n",
    "print(\"Critical F-value:\", f_crit)"
   ]
  },
  {
   "cell_type": "markdown",
   "id": "0f36ad33-7e51-4748-8dcf-bdcdae1bc74d",
   "metadata": {},
   "source": [
    "#### Q3. Write a Python program that generates random samples from two normal distributions with known variances and uses an F-test to determine if the variances are equal. The program should output the F- value, degrees of freedom, and p-value for the test."
   ]
  },
  {
   "cell_type": "code",
   "execution_count": 6,
   "id": "e9c16333-354c-4e7b-9f4f-f667a0b0534f",
   "metadata": {},
   "outputs": [
    {
     "name": "stdout",
     "output_type": "stream",
     "text": [
      "F-value: 0.7529251251622423\n",
      "Degrees of freedom (numerator, denominator): 49 , 59\n",
      "p-value: 1.6916946009732095\n"
     ]
    }
   ],
   "source": [
    "import numpy as np\n",
    "from scipy.stats import f\n",
    "\n",
    "np.random.seed(1234)\n",
    "\n",
    "n1 = 50\n",
    "n2 = 60\n",
    "var1 = 4.0\n",
    "var2 = 5.0\n",
    "sample1 = np.random.normal(loc=0, scale=np.sqrt(var1), size=n1)\n",
    "sample2 = np.random.normal(loc=0, scale=np.sqrt(var2), size=n2)\n",
    "\n",
    "\n",
    "f_value = np.var(sample1, ddof=1) / np.var(sample2, ddof=1)\n",
    "dfn = n1 - 1\n",
    "dfd = n2 - 1\n",
    "p_value = 2 * (1 - f.cdf(f_value, dfn, dfd))\n",
    "\n",
    "\n",
    "print(\"F-value:\", f_value)\n",
    "print(\"Degrees of freedom (numerator, denominator):\", dfn,',' ,dfd)\n",
    "print(\"p-value:\", p_value)"
   ]
  },
  {
   "cell_type": "markdown",
   "id": "339b15fc-7054-4225-a3c0-79ead3dddd73",
   "metadata": {},
   "source": [
    "#### Q4.The variances of two populations are known to be 10 and 15. A sample of 12 observations is taken from each population. Conduct an F-test at the 5% significance level to determine if the variances are significantly different."
   ]
  },
  {
   "cell_type": "code",
   "execution_count": 10,
   "id": "5c00001b-5201-4fce-ba68-7ff3614e3408",
   "metadata": {},
   "outputs": [
    {
     "name": "stdout",
     "output_type": "stream",
     "text": [
      "F-statistic: 0.6666666666666666\n",
      "Degrees of freedom (numerator, denominator): 11 , 11\n",
      "p-value: 1.4876102012642005\n",
      "Fail to reject null hypothesis: The variances are not significantly different.\n"
     ]
    }
   ],
   "source": [
    "\"\"\"\n",
    "Null hypothesis: The variances of the two populations are equal.\n",
    "\n",
    "Alternative hypothesis: The variances of the two populations are significantly different.\n",
    "\"\"\"\n",
    "import scipy.stats as stats\n",
    "\n",
    "var1 = 10\n",
    "var2 = 15\n",
    "n1 = 12\n",
    "n2 = 12\n",
    "\n",
    "f_stat = var1 / var2\n",
    "dfn = n1 - 1\n",
    "dfd = n2 - 1\n",
    "p_value = 2 * (1 - stats.f.cdf(f_stat, dfn, dfd))\n",
    "\n",
    "print(\"F-statistic:\", f_stat)\n",
    "print(\"Degrees of freedom (numerator, denominator):\", dfn,',', dfd)\n",
    "print(\"p-value:\", p_value)\n",
    "\n",
    "if p_value < 0.05:\n",
    "    print(\"Reject null hypothesis: The variances are significantly different.\")\n",
    "else:\n",
    "    print(\"Fail to reject null hypothesis: The variances are not significantly different.\")"
   ]
  },
  {
   "cell_type": "markdown",
   "id": "b0c5d935-2db1-42bc-95fd-b48b713d77e1",
   "metadata": {},
   "source": [
    "#### Q5. A manufacturer claims that the variance of the diameter of a certain product is 0.005. A sample of 25 products is taken, and the sample variance is found to be 0.006. Conduct an F-test at the 1% significance level to determine if the claim is justified."
   ]
  },
  {
   "cell_type": "code",
   "execution_count": 13,
   "id": "9463629c-1d64-4999-ab95-7c599e219464",
   "metadata": {},
   "outputs": [
    {
     "name": "stdout",
     "output_type": "stream",
     "text": [
      "F-statistic: 1.2\n",
      "Degrees of freedom (numerator, denominator): 24 , 24\n",
      "p-value: 0.6587309365634488\n",
      "Fail to reject null hypothesis: The claimed variance is justified.\n"
     ]
    }
   ],
   "source": [
    "\"\"\"\n",
    "Null hypothesis: The true variance of the product's diameter is equal to the claimed variance of 0.005.\n",
    "\n",
    "Alternative hypothesis: The true variance of the product's diameter is significantly different from the claimed variance of 0.005.\n",
    "\"\"\"\n",
    "import scipy.stats as stats\n",
    "\n",
    "sigma_sq = 0.005\n",
    "s_sq = 0.006\n",
    "n = 25\n",
    "\n",
    "f_stat = s_sq / sigma_sq\n",
    "dfn = n - 1\n",
    "dfd = n - 1\n",
    "p_value = 2 * (1 - stats.f.cdf(f_stat, dfn, dfd))\n",
    "\n",
    "print(\"F-statistic:\", f_stat)\n",
    "print(\"Degrees of freedom (numerator, denominator):\", dfn,',', dfd)\n",
    "print(\"p-value:\", p_value)\n",
    "\n",
    "if p_value < 0.01:\n",
    "    print(\"Reject null hypothesis: The claimed variance is not justified.\")\n",
    "else:\n",
    "    print(\"Fail to reject null hypothesis: The claimed variance is justified.\")"
   ]
  },
  {
   "cell_type": "markdown",
   "id": "504b0269-2c1d-4e51-9d1e-386339ea3f30",
   "metadata": {},
   "source": [
    "#### Q6. Write a Python function that takes in the degrees of freedom for the numerator and denominator of an F-distribution and calculates the mean and variance of the distribution. The function should return the mean and variance as a tuple."
   ]
  },
  {
   "cell_type": "code",
   "execution_count": 14,
   "id": "3252df70-caad-4d02-a0eb-0363c8eedbc8",
   "metadata": {},
   "outputs": [
    {
     "name": "stdout",
     "output_type": "stream",
     "text": [
      "Mean: 1.1428571428571428\n",
      "Variance: 1.2335600907029478\n"
     ]
    }
   ],
   "source": [
    "def f_distribution_mean_and_var(dfn, dfd):\n",
    "    if dfn <= 0 or dfd <= 0:\n",
    "        raise ValueError(\"Degrees of freedom must be positive.\")\n",
    "    mean = dfd / (dfd - 2)\n",
    "    if dfd <= 4:\n",
    "        var = float('inf')\n",
    "    else:\n",
    "        var = 2 * dfd ** 2 * (dfn + dfd - 2) / (dfn * (dfd - 2) ** 2 * (dfd - 4))\n",
    "    return mean, var\n",
    "\n",
    "\n",
    "dfn = 3\n",
    "dfd = 16\n",
    "\n",
    "mean, var = f_distribution_mean_and_var(dfn, dfd)\n",
    "\n",
    "print(\"Mean:\", mean)\n",
    "print(\"Variance:\", var)"
   ]
  },
  {
   "cell_type": "markdown",
   "id": "81019f58-6e2d-48ff-aa7e-7d900ac86369",
   "metadata": {},
   "source": [
    "#### Q7. A random sample of 10 measurements is taken from a normal population with unknown variance. The sample variance is found to be 25. Another random sample of 15 measurements is taken from another normal population with unknown variance, and the sample variance is found to be 20. Conduct an F-test at the 10% significance level to determine if the variances are significantly different."
   ]
  },
  {
   "cell_type": "code",
   "execution_count": 17,
   "id": "f2ccfbc2-4ffa-4f8c-9b04-f44f864450cc",
   "metadata": {},
   "outputs": [
    {
     "name": "stdout",
     "output_type": "stream",
     "text": [
      "F-statistic: 1.25\n",
      "Degrees of freedom (numerator, denominator): 9 , 14\n",
      "p-value: 0.6832194382585954\n",
      "Fail to reject null hypothesis: The variances are not significantly different.\n"
     ]
    }
   ],
   "source": [
    "\"\"\"\n",
    "Null hypothesis: The variances of the two populations are equal.\n",
    "\n",
    "Alternative hypothesis: The variances of the two populations are significantly different.\n",
    "\"\"\"\n",
    "import scipy.stats as stats\n",
    "\n",
    "s1_sq = 25\n",
    "s2_sq = 20\n",
    "n1 = 10\n",
    "n2 = 15\n",
    "\n",
    "f_stat = s1_sq / s2_sq\n",
    "dfn = n1 - 1\n",
    "dfd = n2 - 1\n",
    "p_value = 2 * (1 - stats.f.cdf(f_stat, dfn, dfd))\n",
    "\n",
    "print(\"F-statistic:\", f_stat)\n",
    "print(\"Degrees of freedom (numerator, denominator):\", dfn,',', dfd)\n",
    "print(\"p-value:\", p_value)\n",
    "\n",
    "if p_value < 0.1:\n",
    "    print(\"Reject null hypothesis: The variances are significantly different.\")\n",
    "else:\n",
    "    print(\"Fail to reject null hypothesis: The variances are not significantly different.\")"
   ]
  },
  {
   "cell_type": "markdown",
   "id": "4ec7156f-fea7-4f90-9b79-77977154e9cf",
   "metadata": {},
   "source": [
    "#### Q8. The following data represent the waiting times in minutes at two different restaurants on a Saturday night: Restaurant A: 24, 25, 28, 23, 22, 20, 27; Restaurant B: 31, 33, 35, 30, 32, 36. Conduct an F-test at the 5% significance level to determine if the variances are significantly different."
   ]
  },
  {
   "cell_type": "code",
   "execution_count": 22,
   "id": "e48dc288-523d-4f3a-8ad4-e83fa3777258",
   "metadata": {},
   "outputs": [
    {
     "name": "stdout",
     "output_type": "stream",
     "text": [
      "F-statistic: 1.4551907719609583\n",
      "Degrees of freedom (numerator, denominator): 6 , 5\n",
      "p-value: 0.6974815747937484\n",
      "Fail to reject null hypothesis: The variances are not significantly different.\n"
     ]
    }
   ],
   "source": [
    "\"\"\"\n",
    "Null hypothesis: The variances of the two populations are equal.\n",
    "\n",
    "Alternative hypothesis: The variances of the two populations are significantly different.\n",
    "\"\"\"\n",
    "\n",
    "import numpy as np\n",
    "import scipy.stats as stats\n",
    "\n",
    "restaurant_a = np.array([24, 25, 28, 23, 22, 20, 27])\n",
    "restaurant_b = np.array([31, 33, 35, 30, 32, 36])\n",
    "\n",
    "s1_sq = np.var(restaurant_a, ddof=1)\n",
    "s2_sq = np.var(restaurant_b, ddof=1)\n",
    "n1 = len(restaurant_a)\n",
    "n2 = len(restaurant_b)\n",
    "\n",
    "f_stat = s1_sq / s2_sq\n",
    "dfn = n1 - 1\n",
    "dfd = n2 - 1\n",
    "p_value = 2 * (1 - stats.f.cdf(f_stat, dfn, dfd))\n",
    "\n",
    "print(\"F-statistic:\", f_stat)\n",
    "print(\"Degrees of freedom (numerator, denominator):\", dfn,',', dfd)\n",
    "print(\"p-value:\", p_value)\n",
    "\n",
    "if p_value < 0.05:\n",
    "    print(\"Reject null hypothesis: The variances are significantly different.\")\n",
    "else:\n",
    "    print(\"Fail to reject null hypothesis: The variances are not significantly different.\")"
   ]
  },
  {
   "cell_type": "markdown",
   "id": "a49baf4d-da8c-47cb-abcf-8fdd2072b6cd",
   "metadata": {},
   "source": [
    "#### Q9. The following data represent the test scores of two groups of students: Group A: 80, 85, 90, 92, 87, 83; Group B: 75, 78, 82, 79, 81, 84. Conduct an F-test at the 1% significance level to determine if the variances are significantly different."
   ]
  },
  {
   "cell_type": "code",
   "execution_count": 24,
   "id": "0e34845c-51a2-4207-a96f-72ea17cc330e",
   "metadata": {},
   "outputs": [
    {
     "name": "stdout",
     "output_type": "stream",
     "text": [
      "F-statistic: 1.9442622950819677\n",
      "Degrees of freedom (numerator, denominator): 5 , 5\n",
      "p-value: 0.4831043549070688\n",
      "Fail to reject null hypothesis: The variances are not significantly different.\n"
     ]
    }
   ],
   "source": [
    "\"\"\"\n",
    "Null hypothesis: The variances of the two groups are equal.\n",
    "\n",
    "Alternative hypothesis: The variances of the two groups are significantly different.\n",
    "\"\"\"\n",
    "\n",
    "import numpy as np\n",
    "import scipy.stats as stats\n",
    "\n",
    "group_a = np.array([80, 85, 90, 92, 87, 83])\n",
    "group_b = np.array([75, 78, 82, 79, 81, 84])\n",
    "\n",
    "s1_sq = np.var(group_a, ddof=1)\n",
    "s2_sq = np.var(group_b, ddof=1)\n",
    "n1 = len(group_a)\n",
    "n2 = len(group_b)\n",
    "\n",
    "f_stat = s1_sq / s2_sq\n",
    "dfn = n1 - 1\n",
    "dfd = n2 - 1\n",
    "p_value = 2 * (1 - stats.f.cdf(f_stat, dfn, dfd))\n",
    "\n",
    "print(\"F-statistic:\", f_stat)\n",
    "print(\"Degrees of freedom (numerator, denominator):\", dfn,',', dfd)\n",
    "print(\"p-value:\", p_value)\n",
    "\n",
    "if p_value < 0.01:\n",
    "    print(\"Reject null hypothesis: The variances are significantly different.\")\n",
    "else:\n",
    "    print(\"Fail to reject null hypothesis: The variances are not significantly different.\")"
   ]
  },
  {
   "cell_type": "code",
   "execution_count": null,
   "id": "5dfb2e7c-1f98-400f-831e-e110889fcc6f",
   "metadata": {},
   "outputs": [],
   "source": []
  }
 ],
 "metadata": {
  "kernelspec": {
   "display_name": "Python 3 (ipykernel)",
   "language": "python",
   "name": "python3"
  },
  "language_info": {
   "codemirror_mode": {
    "name": "ipython",
    "version": 3
   },
   "file_extension": ".py",
   "mimetype": "text/x-python",
   "name": "python",
   "nbconvert_exporter": "python",
   "pygments_lexer": "ipython3",
   "version": "3.10.8"
  }
 },
 "nbformat": 4,
 "nbformat_minor": 5
}
