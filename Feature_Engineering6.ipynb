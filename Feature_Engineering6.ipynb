{
 "cells": [
  {
   "cell_type": "markdown",
   "id": "342ecdb5-723a-405c-9aa6-f58880aa37ee",
   "metadata": {},
   "source": [
    "#### Q1. Pearson correlation coefficient is a measure of the linear relationship between two variables. Suppose you have collected data on the amount of time students spend studying for an exam and their final exam scores. Calculate the Pearson correlation coefficient between these two variables and interpret the result."
   ]
  },
  {
   "cell_type": "code",
   "execution_count": 19,
   "id": "c492ff3e-7bf1-407b-9df1-15e76721275c",
   "metadata": {},
   "outputs": [
    {
     "data": {
      "text/html": [
       "<div>\n",
       "<style scoped>\n",
       "    .dataframe tbody tr th:only-of-type {\n",
       "        vertical-align: middle;\n",
       "    }\n",
       "\n",
       "    .dataframe tbody tr th {\n",
       "        vertical-align: top;\n",
       "    }\n",
       "\n",
       "    .dataframe thead th {\n",
       "        text-align: right;\n",
       "    }\n",
       "</style>\n",
       "<table border=\"1\" class=\"dataframe\">\n",
       "  <thead>\n",
       "    <tr style=\"text-align: right;\">\n",
       "      <th></th>\n",
       "      <th>Time_spent_studying</th>\n",
       "      <th>Final_score</th>\n",
       "    </tr>\n",
       "  </thead>\n",
       "  <tbody>\n",
       "    <tr>\n",
       "      <th>Time_spent_studying</th>\n",
       "      <td>1.000000</td>\n",
       "      <td>0.976481</td>\n",
       "    </tr>\n",
       "    <tr>\n",
       "      <th>Final_score</th>\n",
       "      <td>0.976481</td>\n",
       "      <td>1.000000</td>\n",
       "    </tr>\n",
       "  </tbody>\n",
       "</table>\n",
       "</div>"
      ],
      "text/plain": [
       "                     Time_spent_studying  Final_score\n",
       "Time_spent_studying             1.000000     0.976481\n",
       "Final_score                     0.976481     1.000000"
      ]
     },
     "execution_count": 19,
     "metadata": {},
     "output_type": "execute_result"
    }
   ],
   "source": [
    "import pandas as pd\n",
    "\n",
    "data = [[8,9,10,7,5],[90,92,95,90,85]]\n",
    "data_transposed = list(zip(*data))\n",
    "df = pd.DataFrame(data_transposed,columns=['Time_spent_studying','Final_score'])\n",
    "df.corr(method = 'pearson')"
   ]
  },
  {
   "cell_type": "markdown",
   "id": "dbb36c0c-80a1-42ad-8c68-50adf5f3be50",
   "metadata": {},
   "source": [
    "The results shows that Time spent studying has positive and strong correlation with the final score as 0.976481 is very close to positive 1."
   ]
  },
  {
   "cell_type": "markdown",
   "id": "b3918069-0604-4c62-9efc-373e29f8c8b6",
   "metadata": {},
   "source": [
    "#### Q2. Spearman's rank correlation is a measure of the monotonic relationship between two variables. Suppose you have collected data on the amount of sleep individuals get each night and their overall job satisfaction level on a scale of 1 to 10. Calculate the Spearman's rank correlation between these two variables and interpret the result."
   ]
  },
  {
   "cell_type": "code",
   "execution_count": 24,
   "id": "665828dd-3604-460d-bd54-c72cf6216047",
   "metadata": {},
   "outputs": [
    {
     "data": {
      "text/html": [
       "<div>\n",
       "<style scoped>\n",
       "    .dataframe tbody tr th:only-of-type {\n",
       "        vertical-align: middle;\n",
       "    }\n",
       "\n",
       "    .dataframe tbody tr th {\n",
       "        vertical-align: top;\n",
       "    }\n",
       "\n",
       "    .dataframe thead th {\n",
       "        text-align: right;\n",
       "    }\n",
       "</style>\n",
       "<table border=\"1\" class=\"dataframe\">\n",
       "  <thead>\n",
       "    <tr style=\"text-align: right;\">\n",
       "      <th></th>\n",
       "      <th>Time_spent_sleeping</th>\n",
       "      <th>Satisfaction_level</th>\n",
       "    </tr>\n",
       "  </thead>\n",
       "  <tbody>\n",
       "    <tr>\n",
       "      <th>Time_spent_sleeping</th>\n",
       "      <td>1.000000</td>\n",
       "      <td>0.820783</td>\n",
       "    </tr>\n",
       "    <tr>\n",
       "      <th>Satisfaction_level</th>\n",
       "      <td>0.820783</td>\n",
       "      <td>1.000000</td>\n",
       "    </tr>\n",
       "  </tbody>\n",
       "</table>\n",
       "</div>"
      ],
      "text/plain": [
       "                     Time_spent_sleeping  Satisfaction_level\n",
       "Time_spent_sleeping             1.000000            0.820783\n",
       "Satisfaction_level              0.820783            1.000000"
      ]
     },
     "execution_count": 24,
     "metadata": {},
     "output_type": "execute_result"
    }
   ],
   "source": [
    "import pandas as pd\n",
    "\n",
    "data = [[8,9,6,7,5],[9,8,7,8,5]]\n",
    "data_transposed = list(zip(*data))\n",
    "df = pd.DataFrame(data_transposed,columns=['Time_spent_sleeping','Satisfaction_level'])\n",
    "df.corr(method = 'spearman')"
   ]
  },
  {
   "cell_type": "markdown",
   "id": "eb7cb7f0-a278-4490-97b4-139990f2d4d1",
   "metadata": {},
   "source": [
    "The results shows that Time spent sleeping has positive and strong correlation with the final score as 0.820783 is very close to positive 1."
   ]
  },
  {
   "cell_type": "markdown",
   "id": "684b03ce-466a-4e16-a64d-c5aae0329794",
   "metadata": {},
   "source": [
    "#### Q3. Suppose you are conducting a study to examine the relationship between the number of hours of exercise per week and body mass index (BMI) in a sample of adults. You collected data on both variables for 50 participants. Calculate the Pearson correlation coefficient and the Spearman's rank correlation between these two variables and compare the results."
   ]
  },
  {
   "cell_type": "code",
   "execution_count": 43,
   "id": "8f4feb1c-f889-41a3-a6cb-2399989652ef",
   "metadata": {},
   "outputs": [
    {
     "data": {
      "text/html": [
       "<div>\n",
       "<style scoped>\n",
       "    .dataframe tbody tr th:only-of-type {\n",
       "        vertical-align: middle;\n",
       "    }\n",
       "\n",
       "    .dataframe tbody tr th {\n",
       "        vertical-align: top;\n",
       "    }\n",
       "\n",
       "    .dataframe thead th {\n",
       "        text-align: right;\n",
       "    }\n",
       "</style>\n",
       "<table border=\"1\" class=\"dataframe\">\n",
       "  <thead>\n",
       "    <tr style=\"text-align: right;\">\n",
       "      <th></th>\n",
       "      <th>Hour_spent_exercising</th>\n",
       "      <th>BMI</th>\n",
       "    </tr>\n",
       "  </thead>\n",
       "  <tbody>\n",
       "    <tr>\n",
       "      <th>Hour_spent_exercising</th>\n",
       "      <td>1.0</td>\n",
       "      <td>-1.0</td>\n",
       "    </tr>\n",
       "    <tr>\n",
       "      <th>BMI</th>\n",
       "      <td>-1.0</td>\n",
       "      <td>1.0</td>\n",
       "    </tr>\n",
       "  </tbody>\n",
       "</table>\n",
       "</div>"
      ],
      "text/plain": [
       "                       Hour_spent_exercising  BMI\n",
       "Hour_spent_exercising                    1.0 -1.0\n",
       "BMI                                     -1.0  1.0"
      ]
     },
     "execution_count": 43,
     "metadata": {},
     "output_type": "execute_result"
    }
   ],
   "source": [
    "import pandas as pd\n",
    "\n",
    "data = [[7,3.5,14,21,0],[22.5,24,22,21,28]]\n",
    "data_transposed = list(zip(*data))\n",
    "df = pd.DataFrame(data_transposed,columns=['Hour_spent_exercising','BMI'])\n",
    "df.corr(method = 'spearman')"
   ]
  },
  {
   "cell_type": "code",
   "execution_count": 27,
   "id": "7a6a5459-e660-4525-a566-505f1f39b944",
   "metadata": {},
   "outputs": [
    {
     "data": {
      "text/html": [
       "<div>\n",
       "<style scoped>\n",
       "    .dataframe tbody tr th:only-of-type {\n",
       "        vertical-align: middle;\n",
       "    }\n",
       "\n",
       "    .dataframe tbody tr th {\n",
       "        vertical-align: top;\n",
       "    }\n",
       "\n",
       "    .dataframe thead th {\n",
       "        text-align: right;\n",
       "    }\n",
       "</style>\n",
       "<table border=\"1\" class=\"dataframe\">\n",
       "  <thead>\n",
       "    <tr style=\"text-align: right;\">\n",
       "      <th></th>\n",
       "      <th>Hour_spent_exercising</th>\n",
       "      <th>BMI</th>\n",
       "    </tr>\n",
       "  </thead>\n",
       "  <tbody>\n",
       "    <tr>\n",
       "      <th>Hour_spent_exercising</th>\n",
       "      <td>1.00000</td>\n",
       "      <td>-0.85286</td>\n",
       "    </tr>\n",
       "    <tr>\n",
       "      <th>BMI</th>\n",
       "      <td>-0.85286</td>\n",
       "      <td>1.00000</td>\n",
       "    </tr>\n",
       "  </tbody>\n",
       "</table>\n",
       "</div>"
      ],
      "text/plain": [
       "                       Hour_spent_exercising      BMI\n",
       "Hour_spent_exercising                1.00000 -0.85286\n",
       "BMI                                 -0.85286  1.00000"
      ]
     },
     "execution_count": 27,
     "metadata": {},
     "output_type": "execute_result"
    }
   ],
   "source": [
    "df.corr(method = 'pearson')"
   ]
  },
  {
   "cell_type": "markdown",
   "id": "74a495ea-432c-4069-a4a8-aa5461aa5666",
   "metadata": {},
   "source": [
    "The results shows that Time spent exercising has negative but strong correlation with the BMI as -1 (spearman correlation) is perfect negative correlation and -0.85386 (pearson correlation) is very close to negative 1."
   ]
  },
  {
   "cell_type": "markdown",
   "id": "beb67fd7-6363-4879-9977-f420b5aafc28",
   "metadata": {},
   "source": [
    "#### Q4. A researcher is interested in examining the relationship between the number of hours individuals spend watching television per day and their level of physical activity. The researcher collected data on both variables from a sample of 50 participants. Calculate the Pearson correlation coefficient between these two variables."
   ]
  },
  {
   "cell_type": "code",
   "execution_count": 42,
   "id": "d9cfe1d4-67f7-45f1-bc43-bcc168ef80df",
   "metadata": {},
   "outputs": [
    {
     "data": {
      "text/html": [
       "<div>\n",
       "<style scoped>\n",
       "    .dataframe tbody tr th:only-of-type {\n",
       "        vertical-align: middle;\n",
       "    }\n",
       "\n",
       "    .dataframe tbody tr th {\n",
       "        vertical-align: top;\n",
       "    }\n",
       "\n",
       "    .dataframe thead th {\n",
       "        text-align: right;\n",
       "    }\n",
       "</style>\n",
       "<table border=\"1\" class=\"dataframe\">\n",
       "  <thead>\n",
       "    <tr style=\"text-align: right;\">\n",
       "      <th></th>\n",
       "      <th>Hour_spent_on_TV</th>\n",
       "      <th>Physical_activity</th>\n",
       "    </tr>\n",
       "  </thead>\n",
       "  <tbody>\n",
       "    <tr>\n",
       "      <th>Hour_spent_on_TV</th>\n",
       "      <td>1.000000</td>\n",
       "      <td>0.110072</td>\n",
       "    </tr>\n",
       "    <tr>\n",
       "      <th>Physical_activity</th>\n",
       "      <td>0.110072</td>\n",
       "      <td>1.000000</td>\n",
       "    </tr>\n",
       "  </tbody>\n",
       "</table>\n",
       "</div>"
      ],
      "text/plain": [
       "                   Hour_spent_on_TV  Physical_activity\n",
       "Hour_spent_on_TV           1.000000           0.110072\n",
       "Physical_activity          0.110072           1.000000"
      ]
     },
     "execution_count": 42,
     "metadata": {},
     "output_type": "execute_result"
    }
   ],
   "source": [
    "import numpy as np\n",
    "np.random.seed(42)\n",
    "hours_tv = np.random.normal(4, 1.5, 50) \n",
    "physical_activity = np.random.normal(6, 2, 50)\n",
    "data = [hours_tv,physical_activity]\n",
    "data_transposed = list(zip(*data))\n",
    "df = pd.DataFrame(data_transposed,columns=['Hour_spent_on_TV','Physical_activity'])\n",
    "df.corr(method = 'pearson')\n"
   ]
  },
  {
   "cell_type": "markdown",
   "id": "d99f39d1-2027-42b3-beaa-d3a5476ad403",
   "metadata": {},
   "source": [
    "The results shows that Time spent watching television per day has near to no correlation with physical activity as 0.110072 is close to 0."
   ]
  },
  {
   "cell_type": "markdown",
   "id": "fd035eba-62f7-45cd-90f8-8f29a426ff7d",
   "metadata": {},
   "source": [
    "#### Q5. A survey was conducted to examine the relationship between age and preference for a particular brand of soft drink. The survey results are shown below:\n",
    "|Age(Yrs)|Soft drink preference|\n",
    "|--|--|\n",
    "|25|Coke|\n",
    "|42|Pepsi|\n",
    "|37|Mountain Dew|\n",
    "|19|Coke|\n",
    "|31|Pepsi|\n",
    "|28|Coke|"
   ]
  },
  {
   "cell_type": "markdown",
   "id": "9162344b-e1d9-4916-acce-4536bd897f9b",
   "metadata": {},
   "source": [
    "Since the question is incomplete, I could not answer it."
   ]
  },
  {
   "cell_type": "markdown",
   "id": "2fa4aaf9-16c8-417c-b11a-45092769d63a",
   "metadata": {},
   "source": [
    "#### Q6. A company is interested in examining the relationship between the number of sales calls made per day and the number of sales made per week. The company collected data on both variables from a sample of 30 sales representatives. Calculate the Pearson correlation coefficient between these two variables."
   ]
  },
  {
   "cell_type": "code",
   "execution_count": 41,
   "id": "5498dd18-82e2-421a-9bd2-6dfa4e13fadd",
   "metadata": {},
   "outputs": [
    {
     "data": {
      "text/html": [
       "<div>\n",
       "<style scoped>\n",
       "    .dataframe tbody tr th:only-of-type {\n",
       "        vertical-align: middle;\n",
       "    }\n",
       "\n",
       "    .dataframe tbody tr th {\n",
       "        vertical-align: top;\n",
       "    }\n",
       "\n",
       "    .dataframe thead th {\n",
       "        text-align: right;\n",
       "    }\n",
       "</style>\n",
       "<table border=\"1\" class=\"dataframe\">\n",
       "  <thead>\n",
       "    <tr style=\"text-align: right;\">\n",
       "      <th></th>\n",
       "      <th>sales_calls_per_day</th>\n",
       "      <th>sales_per_week</th>\n",
       "    </tr>\n",
       "  </thead>\n",
       "  <tbody>\n",
       "    <tr>\n",
       "      <th>sales_calls_per_day</th>\n",
       "      <td>1.000000</td>\n",
       "      <td>-0.023002</td>\n",
       "    </tr>\n",
       "    <tr>\n",
       "      <th>sales_per_week</th>\n",
       "      <td>-0.023002</td>\n",
       "      <td>1.000000</td>\n",
       "    </tr>\n",
       "  </tbody>\n",
       "</table>\n",
       "</div>"
      ],
      "text/plain": [
       "                     sales_calls_per_day  sales_per_week\n",
       "sales_calls_per_day             1.000000       -0.023002\n",
       "sales_per_week                 -0.023002        1.000000"
      ]
     },
     "execution_count": 41,
     "metadata": {},
     "output_type": "execute_result"
    }
   ],
   "source": [
    "import numpy as np\n",
    "\n",
    "np.random.seed(42)\n",
    "\n",
    "sales_calls_per_day = np.random.randint(30, 60, 30)\n",
    "sales_per_week = np.random.randint(5, 15, 30)\n",
    "\n",
    "data = [sales_calls_per_day,sales_per_week]\n",
    "data_transposed = list(zip(*data))\n",
    "df = pd.DataFrame(data_transposed,columns=['sales_calls_per_day','sales_per_week'])\n",
    "df.corr(method = 'pearson')\n"
   ]
  },
  {
   "cell_type": "markdown",
   "id": "3059f310-9748-485b-b051-6fad7a53a4d5",
   "metadata": {},
   "source": [
    "The results shows that Sales Calls per day has near to no correlation with Sales per week as -0.023002 is close to 0."
   ]
  },
  {
   "cell_type": "code",
   "execution_count": null,
   "id": "f140633d-dd8e-402e-924b-65f7d42d7d95",
   "metadata": {},
   "outputs": [],
   "source": []
  }
 ],
 "metadata": {
  "kernelspec": {
   "display_name": "Python 3 (ipykernel)",
   "language": "python",
   "name": "python3"
  },
  "language_info": {
   "codemirror_mode": {
    "name": "ipython",
    "version": 3
   },
   "file_extension": ".py",
   "mimetype": "text/x-python",
   "name": "python",
   "nbconvert_exporter": "python",
   "pygments_lexer": "ipython3",
   "version": "3.10.8"
  }
 },
 "nbformat": 4,
 "nbformat_minor": 5
}
