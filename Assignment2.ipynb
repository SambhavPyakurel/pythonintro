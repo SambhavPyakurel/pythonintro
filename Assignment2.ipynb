{
 "cells": [
  {
   "cell_type": "markdown",
   "id": "b4303731-53d7-4d72-8ce9-a8531c219e06",
   "metadata": {},
   "source": [
    "#### Q1. How do you comment code in Python? What are the different types of comments?"
   ]
  },
  {
   "cell_type": "markdown",
   "id": "0436a403-9ae8-4568-a3c8-59eccb93f2ac",
   "metadata": {},
   "source": [
    "In python I would use '#' for single line comment and \"\"\" \"\"\" for multiple line comment.\n",
    "\n",
    "Single line comment and Multiline comment anre the types of comment in python."
   ]
  },
  {
   "cell_type": "code",
   "execution_count": 14,
   "id": "a723d193-9cd0-4b43-a1fa-7c1bb48ad5f5",
   "metadata": {},
   "outputs": [
    {
     "name": "stdout",
     "output_type": "stream",
     "text": [
      "Hello, World!\n"
     ]
    }
   ],
   "source": [
    "#e.g.\n",
    "\n",
    "# This is single line comment.\n",
    "\n",
    "\"\"\"\n",
    "This is a multiline\n",
    "comment.\n",
    "\"\"\"\n",
    "print(\"Hello, World!\") \n"
   ]
  },
  {
   "cell_type": "markdown",
   "id": "7e9126bc-8c9a-4394-aaff-bd1c7a807102",
   "metadata": {},
   "source": [
    "#### Q2. What are variables in Python? How do you declare and assign values to variables?"
   ]
  },
  {
   "cell_type": "markdown",
   "id": "cd06c19f-307e-44f1-9d93-bedc8bc713d5",
   "metadata": {},
   "source": [
    "Variables are the containers to store certain value.\n",
    "\n",
    "There is no keyword in python to declare variable, the variable will be created as the value is assigned to it."
   ]
  },
  {
   "cell_type": "code",
   "execution_count": 17,
   "id": "ba130dba-a84e-4802-910f-ca44b7836ff5",
   "metadata": {},
   "outputs": [
    {
     "name": "stdout",
     "output_type": "stream",
     "text": [
      "5\n",
      "String\n"
     ]
    }
   ],
   "source": [
    "#e.g\n",
    "\n",
    "#These are variables.\n",
    "\n",
    "a=5\n",
    "b=\"String\"\n",
    "\n",
    "print(a)\n",
    "print(b)"
   ]
  },
  {
   "cell_type": "markdown",
   "id": "bd2ad993-9f7f-413d-aa39-fbc374a40419",
   "metadata": {},
   "source": [
    "#### Q3. How do you convert one data type to another in Python?"
   ]
  },
  {
   "cell_type": "markdown",
   "id": "99088118-fa0b-438f-b4b1-6d4772633676",
   "metadata": {},
   "source": [
    "In Python one data type can be converted to another by typecasting. It is done by using certain built in function."
   ]
  },
  {
   "cell_type": "code",
   "execution_count": 20,
   "id": "05568938-a604-4ab4-b643-18c41d41ce82",
   "metadata": {},
   "outputs": [
    {
     "data": {
      "text/plain": [
       "str"
      ]
     },
     "execution_count": 20,
     "metadata": {},
     "output_type": "execute_result"
    }
   ],
   "source": [
    "#e.g\n",
    "\n",
    "#string to integer\n",
    "\n",
    "x='1'\n",
    "type(x)"
   ]
  },
  {
   "cell_type": "code",
   "execution_count": 21,
   "id": "e733a973-6aac-4c37-aba0-8a42928c3380",
   "metadata": {},
   "outputs": [
    {
     "data": {
      "text/plain": [
       "int"
      ]
     },
     "execution_count": 21,
     "metadata": {},
     "output_type": "execute_result"
    }
   ],
   "source": [
    "x=int(x)\n",
    "type(x)"
   ]
  },
  {
   "cell_type": "code",
   "execution_count": 22,
   "id": "b22d0ef1-0e32-4069-974b-703e5789f0ce",
   "metadata": {},
   "outputs": [
    {
     "data": {
      "text/plain": [
       "int"
      ]
     },
     "execution_count": 22,
     "metadata": {},
     "output_type": "execute_result"
    }
   ],
   "source": [
    "#integer to string\n",
    "\n",
    "y=5\n",
    "type(y)"
   ]
  },
  {
   "cell_type": "code",
   "execution_count": 23,
   "id": "1626b160-07dd-4079-b7c9-b0fe32e12e38",
   "metadata": {},
   "outputs": [
    {
     "data": {
      "text/plain": [
       "str"
      ]
     },
     "execution_count": 23,
     "metadata": {},
     "output_type": "execute_result"
    }
   ],
   "source": [
    "y=str(y)\n",
    "type(y)"
   ]
  },
  {
   "cell_type": "code",
   "execution_count": 24,
   "id": "09b5a706-03f0-47da-8533-8c41a6456459",
   "metadata": {},
   "outputs": [
    {
     "data": {
      "text/plain": [
       "list"
      ]
     },
     "execution_count": 24,
     "metadata": {},
     "output_type": "execute_result"
    }
   ],
   "source": [
    "#list to set\n",
    "\n",
    "a=[1,2,3,7,4,9]\n",
    "type(a)"
   ]
  },
  {
   "cell_type": "code",
   "execution_count": 26,
   "id": "286bf4f4-1014-4a13-b17a-136db0f2bea4",
   "metadata": {},
   "outputs": [
    {
     "data": {
      "text/plain": [
       "set"
      ]
     },
     "execution_count": 26,
     "metadata": {},
     "output_type": "execute_result"
    }
   ],
   "source": [
    "a=set(a)\n",
    "type(a)"
   ]
  },
  {
   "cell_type": "markdown",
   "id": "cbee7a47-34a3-4804-a769-fdc7630494b7",
   "metadata": {},
   "source": [
    "Similarly float() can be used to convert any data type to float, list() for list, tuple() for tuple etc."
   ]
  },
  {
   "cell_type": "markdown",
   "id": "386931ba-9c10-4b54-92df-262090b64cdd",
   "metadata": {},
   "source": [
    "#### Q4. How do you write and execute a Python script from the command line?"
   ]
  },
  {
   "cell_type": "markdown",
   "id": "13b98932-8d83-4c82-8c78-7659cd5d123f",
   "metadata": {},
   "source": [
    "To write and execute a python script from command line we can do following:\n",
    "\n",
    "*Create a python script:*  \n",
    "C:\\Users\\Computer\\Desktop>cd.>script.py\n",
    "\n",
    "*Write into the script:*  \n",
    "C:\\Users\\Computer\\Desktop>echo print(\"Hello World\")>script.py\n",
    "\n",
    "*Execute the script:*  \n",
    "C:\\Users\\Computer\\Desktop>python script.py\n",
    "Hello World."
   ]
  },
  {
   "cell_type": "markdown",
   "id": "a4231fb8-ca38-471d-9cda-7a7aec28a2ee",
   "metadata": {},
   "source": [
    "#### Q5. Given a list my_list = [1, 2, 3, 4, 5], write the code to slice the list and obtain the sub-list [2, 3]."
   ]
  },
  {
   "cell_type": "code",
   "execution_count": 30,
   "id": "090ea466-6719-4df2-9e92-48334bbca119",
   "metadata": {},
   "outputs": [
    {
     "name": "stdout",
     "output_type": "stream",
     "text": [
      "[2, 3]\n"
     ]
    }
   ],
   "source": [
    "my_list=[1,2,3,4,5]\n",
    "\n",
    "print(my_list[1:3])"
   ]
  },
  {
   "cell_type": "markdown",
   "id": "a3416cf4-b1b1-49b1-9c0b-b6aec7ef44b4",
   "metadata": {},
   "source": [
    "#### Q6. What is a complex number in mathematics, and how is it represented in Python?"
   ]
  },
  {
   "cell_type": "markdown",
   "id": "d8c66933-6e23-4af6-b64f-461ffc0ffd7b",
   "metadata": {},
   "source": [
    "Complex number is collection of real and imaginary number written in the form 'x+iy' where x and y are real number but i is imaginary.\n",
    "\n",
    "In python it is written in the form 'x+jy' where x and y are real number but j is imaginary."
   ]
  },
  {
   "cell_type": "code",
   "execution_count": 32,
   "id": "4f344878-5fb2-42cc-ae44-d8d131ac41b2",
   "metadata": {},
   "outputs": [
    {
     "data": {
      "text/plain": [
       "complex"
      ]
     },
     "execution_count": 32,
     "metadata": {},
     "output_type": "execute_result"
    }
   ],
   "source": [
    "#e.g\n",
    "\n",
    "type(5+4j)"
   ]
  },
  {
   "cell_type": "markdown",
   "id": "116dad2a-bed1-43af-a77c-cbde26f90030",
   "metadata": {},
   "source": [
    "#### Q7. What is the correct way to declare a variable named age and assign the value 25 to it?"
   ]
  },
  {
   "cell_type": "code",
   "execution_count": 34,
   "id": "46cfa1c4-95c5-40fc-98ec-7d75ad53ecf5",
   "metadata": {},
   "outputs": [],
   "source": [
    "#To declare variable named age following can be done\n",
    "\n",
    "age=25\n",
    "age=int(25)\n",
    "\n",
    "#both will be of datatype integer."
   ]
  },
  {
   "cell_type": "markdown",
   "id": "81f41a86-842d-435e-94f6-92f5868f82e3",
   "metadata": {},
   "source": [
    "#### Q8. Declare a variable named price and assign the value 9.99 to it. What data type does this variable belong to?"
   ]
  },
  {
   "cell_type": "code",
   "execution_count": 35,
   "id": "7f09b7d7-8716-4127-8a11-84d3efde135b",
   "metadata": {},
   "outputs": [
    {
     "data": {
      "text/plain": [
       "float"
      ]
     },
     "execution_count": 35,
     "metadata": {},
     "output_type": "execute_result"
    }
   ],
   "source": [
    "price=9.99\n",
    "type(price)"
   ]
  },
  {
   "cell_type": "markdown",
   "id": "45a8e895-ea2a-40b1-ba63-f8f6fe3b8ee5",
   "metadata": {},
   "source": [
    "The data type will be float."
   ]
  },
  {
   "cell_type": "markdown",
   "id": "2ec413d8-cb15-44b1-8835-ce390f6801ec",
   "metadata": {},
   "source": [
    "#### Q9. Create a variable named name and assign your full name to it as a string. How would you print the value of this variable?"
   ]
  },
  {
   "cell_type": "code",
   "execution_count": 36,
   "id": "5b7bb538-a993-4ddc-b4c4-3b14031aad86",
   "metadata": {},
   "outputs": [
    {
     "name": "stdout",
     "output_type": "stream",
     "text": [
      "Sambhav Pyakurel\n"
     ]
    }
   ],
   "source": [
    "name=\"Sambhav Pyakurel\"\n",
    "\n",
    "#To print\n",
    "\n",
    "print(name)"
   ]
  },
  {
   "cell_type": "markdown",
   "id": "fff4ba4b-3065-4ae9-812d-354e1c84b5f9",
   "metadata": {},
   "source": [
    "#### Q10. Given the string \"Hello, World!\", extract the substring \"World\"."
   ]
  },
  {
   "cell_type": "code",
   "execution_count": 39,
   "id": "c6ecb972-45f6-49a5-b186-73162470f79c",
   "metadata": {},
   "outputs": [
    {
     "data": {
      "text/plain": [
       "'World'"
      ]
     },
     "execution_count": 39,
     "metadata": {},
     "output_type": "execute_result"
    }
   ],
   "source": [
    "str=\"Hello World\"\n",
    "str[6:]"
   ]
  },
  {
   "cell_type": "markdown",
   "id": "aac346a2-b262-40a6-915e-cd6219a42bc0",
   "metadata": {},
   "source": [
    "#### Q11. Create a variable named \"is_student\" and assign it a boolean value indicating whether you are currently a student or not."
   ]
  },
  {
   "cell_type": "code",
   "execution_count": null,
   "id": "4b0d7309-c1d0-4b5a-aa95-39af5d0a49f5",
   "metadata": {},
   "outputs": [],
   "source": [
    "is_student=True\n",
    "\n",
    "#The value would be False if I was not a student."
   ]
  }
 ],
 "metadata": {
  "kernelspec": {
   "display_name": "Python 3 (ipykernel)",
   "language": "python",
   "name": "python3"
  },
  "language_info": {
   "codemirror_mode": {
    "name": "ipython",
    "version": 3
   },
   "file_extension": ".py",
   "mimetype": "text/x-python",
   "name": "python",
   "nbconvert_exporter": "python",
   "pygments_lexer": "ipython3",
   "version": "3.10.8"
  }
 },
 "nbformat": 4,
 "nbformat_minor": 5
}
