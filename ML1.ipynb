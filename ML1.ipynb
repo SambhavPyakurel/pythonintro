{
 "cells": [
  {
   "cell_type": "markdown",
   "id": "5abdcbe1-7f76-46a1-b071-60736fc68898",
   "metadata": {},
   "source": [
    "#### Q1- Explain the following with an example:\n",
    "1. Artificial Intelligence\n",
    "2. Machine Learning\n",
    "3. Deep Learing"
   ]
  },
  {
   "cell_type": "markdown",
   "id": "82106638-1e3d-4b0b-9f6d-361a1c94765a",
   "metadata": {},
   "source": [
    "1. Artificial Intelligence: It is the ability of machines to mimic human intelligence by performing tasks that normally require human intelligence. For example, self-driving cars use AI to perceive their environment and navigate roads autonomously.\n",
    "\n",
    "2. Machine Learning: It is a subset of AI where systems can learn from data and improve with experience without being explicitly programmed. For example, spam filters use machine learning models to learn from incoming emails and get better at identifying spam messages over time.\n",
    "\n",
    "3. Deep Learning: It is a powerful type of machine learning that uses artificial neural networks with multiple layers to perform tasks like image and speech recognition. Convolutional neural networks are a type of deep learning used for image recognition tasks. They have been used to identify objects in photos with a high accuracy."
   ]
  },
  {
   "cell_type": "markdown",
   "id": "e0d33def-12bc-4090-8d69-d40891e8801c",
   "metadata": {},
   "source": [
    "#### Q2- What is supervised learning? List some examples of supervised learning."
   ]
  },
  {
   "cell_type": "markdown",
   "id": "9a3b801e-b9bd-4d08-a3fb-4ecedfbe43b6",
   "metadata": {},
   "source": [
    "Supervised learning is a machine learning task where the training data contains labels or targets that the model learns to predict. In supervised learning, the model learns by analyzing the labeled training examples and finds patterns that correlate the input features with the target output. Then when new, unlabeled data is presented, the model makes predictions for that data based on what it has learned from the training data. \n",
    "\n",
    "Some examples of supervised learning are:\n",
    "\n",
    "Classification - The model learns to assign discrete class labels to new data. Examples include spam detection, sentiment analysis, object recognition in photos.\n",
    "\n",
    "Regression - The model learns to predict continuous valued targets given some input data. Examples include predicting housing prices based on features, estimating stock prices, predicting salary based on job experience."
   ]
  },
  {
   "cell_type": "markdown",
   "id": "9e77336e-f20d-40eb-9164-b90bb0b91a0b",
   "metadata": {},
   "source": [
    "#### Q3- What is unsupervised learning? List some examples of unsupervied learning."
   ]
  },
  {
   "cell_type": "markdown",
   "id": "beda79a9-8d49-4556-8f94-4c3fcfc005d2",
   "metadata": {},
   "source": [
    "Unsupervised learning is a type of machine learning where the training data given to the model is unlabeled. The key difference from supervised learning is that in unsupervised learning, the model does not have any labels to guide it during training. Instead, the model must learn the underlying structure and patterns in the data on its own, without being told the correct answers.\n",
    "\n",
    "Some examples of unsupervised learning tasks are:\n",
    "\n",
    "Clustering - The model finds groups or clusters in the data without labels telling which observations go together. This can help discover hidden patterns in the data.\n",
    "\n",
    "Dimensionality reduction - The model reduces the number of dimensions in the data while retaining important information. This can help with visualization and analysis of high-dimensional data.\n",
    "\n",
    "Anomaly detection - The model learns what \"normal\" data looks like in order to identify anomalous or outlier data points that differ significantly from the majority of data."
   ]
  },
  {
   "cell_type": "markdown",
   "id": "c6b141c2-c2b6-4814-99a2-da53eb0efb11",
   "metadata": {},
   "source": [
    "#### Q4- What is the difference between AI,ML,DL and DS?"
   ]
  },
  {
   "cell_type": "markdown",
   "id": "11adf9c0-1f25-4149-856a-0f63eb0fc7c2",
   "metadata": {},
   "source": [
    "| AI | ML | DL| DS|\n",
    "|:-:|:-:|:-:|:-:|\n",
    "| Artificial Intelligence is the overarching concept of machines being able to match or surpass human intelligence through technologies that mimic human cognition. | Machine Learning is a subset of AI that allows systems to learn from data and improve automatically through experience.| Deep Learning is a specific type of machine learning that uses artificial neural networks with many layers to achieve better performance than traditional ML on complex pattern recognition tasks like image and speech recognition.| Data Science is an interdisciplinary field that uses scientific methods, processes, algorithms and systems to extract knowledge and insights from data. It encompasses techniques and theories drawn from many fields like statistics, machine learning, mathematics and communication.|\n",
    "|AI is the general goal of creating intelligent machines.|ML focuses on the ability of machines to learn from data and improve automatically.| DL utilizes multi-layer neural networks to learn complex patterns from large amounts of data.|Data science applies the end-to-end process of extracting meaningful insights from data through techniques from ML, statistics, visualization, etc.|\n"
   ]
  },
  {
   "cell_type": "markdown",
   "id": "d673ab98-967f-4c8b-b72e-30f9d34c29c6",
   "metadata": {},
   "source": [
    "#### Q5- What are the main difference between supervised, unsupervised, and semi-supervised learning?"
   ]
  },
  {
   "cell_type": "markdown",
   "id": "d6ab7991-dc9f-4aae-a2d4-be7704c63557",
   "metadata": {},
   "source": [
    "|Supervised Learning|Unsupervised Learning|Semi-Supervised Learning|\n",
    "|-|-|-|\n",
    "|Uses labeled data for training.|Uses unlabeled data for training.|Uses both labeled and unlabeled data for training.| \n",
    "|Models learn from the known labels or targets.|Models find patterns and structure in the data without known labels.|Models learn from the small amount of known labels and large amount of unlabeled data. |\n",
    "|Examples include classification and regression.|Examples include clustering and anomaly detection. |Example is classification with limited labeled data.|\n",
    "|Needs a lot of labeled data.|Does not require labeled data. |Can be effective with small amount of labeled data and large unlabeled data.|\n",
    "|Requires human effort to label data.|No human effort needed for labeling. |Requires some human effort to label small subset of data.|  \n",
    "|Accuracy depends on labeled data. |Accuracy depends on finding patterns.|Accuracy depends on both labeled and unlabeled data. |"
   ]
  },
  {
   "cell_type": "markdown",
   "id": "9c256884-a410-4461-a36a-6b1df01f2fbe",
   "metadata": {},
   "source": [
    "#### Q6- What is train, test and validation split? Explain the importance of each term."
   ]
  },
  {
   "cell_type": "markdown",
   "id": "231e8dc5-2d02-437f-a30e-5aa78d448564",
   "metadata": {},
   "source": [
    "Train, test and validation split are three ways of dividing up a dataset for machine learning model training and evaluation. They are important steps in the model development process.\n",
    "\n",
    "Train split:\n",
    " A subset of the dataset used to actually train the machine learning model. The model learns by analyzing the data in the train split and adjusting its internal parameters.\n",
    "\n",
    "Test split: \n",
    "A subset of the dataset held back from training and only used to evaluate the model's performance. The test split gives an estimate of how well the model can generalize to unseen data.\n",
    "\n",
    "Validation split:\n",
    "An optional subset of the dataset held back from both training and testing. The validation split is used during the model development process to tune hyperparameters and check performance.\n",
    "\n",
    "The importance of each split:\n",
    "\n",
    "Train split: \n",
    "- Contains the main data used for actually training and updating the model's internal parameters.\n",
    "- Larger train splits tend to result in better model performance, as the model has more data to learn from.\n",
    "\n",
    "Test split:\n",
    "- Provides an unbiased evaluation of the model's true performance and ability to generalize.\n",
    "- The test split should not be used at all during model development or tuning.\n",
    "\n",
    "Validation split:\n",
    "- Helps optimize hyperparameters and check performance during the model development process.\n",
    "- The validation split mimics the test split to some extent, since it is also data that the model has not seen during training.\n",
    "\n",
    "In summary, the train split teaches the model, the test split evaluates the model, and the validation split helps develop the best model. Keeping these splits separate is important for accurate and unbiased performance estimation."
   ]
  },
  {
   "cell_type": "markdown",
   "id": "2fc091ee-30cd-46bf-9efb-7fd75f80d607",
   "metadata": {},
   "source": [
    "#### Q7- How can unsupervised learning be used in anomaly detection?"
   ]
  },
  {
   "cell_type": "markdown",
   "id": "dfa7ac52-0660-4099-a8b6-1641ee4da305",
   "metadata": {},
   "source": [
    "Unsupervised learning can be used for anomaly detection by finding patterns in normal data and identifying data points that are very different. Here's how it works:\n",
    "\n",
    "1. A model is trained on a large dataset of \"normal\" data with no labels using an unsupervised learning algorithm like clustering or autoencoders.\n",
    "\n",
    "2. The model learns to find patterns and represent the data in a lower dimensional space that captures the most important features of the normal data.\n",
    "\n",
    "3. When new data is passed to the model, it will assign an anomaly score based on how different that data point is from the learned representation of normal data.\n",
    "\n",
    "4. Data points with high anomaly scores are considered anomalies or outliers - they differ significantly from what the model considers to be normal.\n",
    "\n",
    "This process works because unsupervised models learn the underlying structure of normal data without supervision. Any data that deviates substantially from this structure is assigned a high anomaly score."
   ]
  },
  {
   "cell_type": "markdown",
   "id": "883518a9-b335-4828-8c96-64149fe6d183",
   "metadata": {},
   "source": [
    "#### Q8- List down some commonly used supervised learning algorithms and unsupervised learning algorithms."
   ]
  },
  {
   "cell_type": "markdown",
   "id": "bda7008d-7a6a-4818-94ea-9c6cdf0fa820",
   "metadata": {},
   "source": [
    "Here are some commonly used supervised learning algorithms:\n",
    "\n",
    "- Linear Regression - For predictive modeling problems with continuous target variables.\n",
    "- Logistic Regression - For classification problems with binary dependent variables.  \n",
    "- K-Nearest Neighbors - A simple algorithm used for classification and regression.  \n",
    "- Support Vector Machines - Used for classification and regression. Can handle high-dimensional data.\n",
    "- Decision Trees - For classification and regression. Create human-interpretable rules for predictions.\n",
    "- Random Forest - An ensemble of decision trees that can help avoid overfitting.\n",
    "- Naive Bayes - A simple and effective algorithm based on Bayes' theorem. Used for classification problems.\n",
    "- Neural Networks - Powerful models that can learn complex patterns from data for classification or regression tasks.\n",
    "\n",
    "Some commonly used unsupervised learning algorithms:\n",
    "\n",
    "- K-Means Clustering - A simple algorithm that groups data into a specified number of clusters. \n",
    "- Hierarchical Clustering - Groups data into hierarchies of clusters based on distance or similarity. \n",
    "- Principal Component Analysis (PCA) - A dimensionality reduction technique that transforms data into a smaller set of variables.  \n",
    "- Autoencoders - A type of artificial neural network used for representation learning, dimensionality reduction and anomaly detection.\n",
    "- Association Rule Learning - Used to extract rules that describe correlations between variables in large data sets.\n",
    "- Anomaly Detection - Algorithms that detect data points that deviate from what is considered \"normal\"."
   ]
  },
  {
   "cell_type": "code",
   "execution_count": null,
   "id": "2d067606-4a69-4dd5-abca-d054d583219d",
   "metadata": {},
   "outputs": [],
   "source": []
  }
 ],
 "metadata": {
  "kernelspec": {
   "display_name": "Python 3 (ipykernel)",
   "language": "python",
   "name": "python3"
  },
  "language_info": {
   "codemirror_mode": {
    "name": "ipython",
    "version": 3
   },
   "file_extension": ".py",
   "mimetype": "text/x-python",
   "name": "python",
   "nbconvert_exporter": "python",
   "pygments_lexer": "ipython3",
   "version": "3.10.8"
  }
 },
 "nbformat": 4,
 "nbformat_minor": 5
}
