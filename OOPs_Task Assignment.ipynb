{
 "cells": [
  {
   "cell_type": "markdown",
   "id": "c0c5d107-69f6-49e7-92e8-7cd00b7372c1",
   "metadata": {},
   "source": [
    "#### Q1, Create a vehicle class with an init method having instance variables as name_of_vehicle, max_speed and average_of_vehicle."
   ]
  },
  {
   "cell_type": "code",
   "execution_count": 80,
   "id": "7b1bff8e-d59e-4580-b754-314825bcc2ff",
   "metadata": {},
   "outputs": [
    {
     "name": "stdout",
     "output_type": "stream",
     "text": [
      "Car 200 20\n"
     ]
    }
   ],
   "source": [
    "class vehicle:\n",
    "    def __init__(self,name_of_vehicle, max_speed, average_of_vehicle):\n",
    "        self.name_of_vehicle = name_of_vehicle\n",
    "        self.max_speed = max_speed\n",
    "        self.average_of_vehicle = average_of_vehicle\n",
    "    \n",
    "    def returns(self):\n",
    "        print(self.name_of_vehicle,self.max_speed,self.average_of_vehicle)\n",
    "    \n",
    "\n",
    "vehicle_obj=vehicle(\"Car\",200,20)\n",
    "\n",
    "vehicle_obj.returns()\n"
   ]
  },
  {
   "cell_type": "markdown",
   "id": "0d39d9b3-9c09-43be-9cac-fc6cd8e543e3",
   "metadata": {},
   "source": [
    "#### Q2. Create a child class car from the vehicle class created in Que 1, which will inherit the vehicle class. Create a method named seating_capacity which takes capacity as an argument and returns the name of the vehicle and its seating capacity."
   ]
  },
  {
   "cell_type": "code",
   "execution_count": 81,
   "id": "71769c10-9dde-49a0-bf7a-12c330c6ab18",
   "metadata": {},
   "outputs": [
    {
     "name": "stdin",
     "output_type": "stream",
     "text": [
      "Enter the capacity of the vehicle: 6\n"
     ]
    },
    {
     "data": {
      "text/plain": [
       "('car', '6')"
      ]
     },
     "execution_count": 81,
     "metadata": {},
     "output_type": "execute_result"
    }
   ],
   "source": [
    "class vehicle:\n",
    "    def __init__(self, name_of_vehicle, max_speed, average_of_vehicle):\n",
    "        self.name_of_vehicle = name_of_vehicle\n",
    "        self.max_speed = max_speed\n",
    "        self.average_of_vehicle = average_of_vehicle\n",
    "\n",
    "a=vehicle(\"Car\",200,15)\n",
    "\n",
    "\n",
    "class car(vehicle):\n",
    "    def seating_capacity(self, capacity):\n",
    "        self.capacity=capacity\n",
    "        return self.name_of_vehicle,self.capacity\n",
    "\n",
    "    \n",
    "capacity=input(\"Enter the capacity of the vehicle:\")\n",
    "x.seating_capacity(capacity)\n"
   ]
  },
  {
   "cell_type": "markdown",
   "id": "34f75529-2dfc-4c3b-91c0-ff4b42c41b9f",
   "metadata": {},
   "source": [
    "#### Q3. What is multiple inheritance? Write a python code to demonstrate multiple inheritance."
   ]
  },
  {
   "cell_type": "markdown",
   "id": "cee9b446-1fcc-4aa3-a4bd-83086ceeca07",
   "metadata": {},
   "source": [
    "If a class inherits the property of two parent classes then it is called multiple inheritance."
   ]
  },
  {
   "cell_type": "code",
   "execution_count": 37,
   "id": "09c5d0ef-9946-454f-bd28-27da6418f4df",
   "metadata": {},
   "outputs": [
    {
     "name": "stdout",
     "output_type": "stream",
     "text": [
      "This is from class 1.\n",
      "This is from class 2.\n"
     ]
    }
   ],
   "source": [
    "#e.g.\n",
    "\n",
    "class class1:\n",
    "    def fun1(self):\n",
    "        print(\"This is from class 1.\")\n",
    "\n",
    "class class2:\n",
    "    def fun2(self):\n",
    "        print(\"This is from class 2.\")\n",
    "        \n",
    "class class3(class1,class2):\n",
    "    pass\n",
    "\n",
    "class3_obj=class3()\n",
    "\n",
    "class3_obj.fun1()\n",
    "class3_obj.fun2()"
   ]
  },
  {
   "cell_type": "markdown",
   "id": "75433140-d397-4677-94d7-59be07b9cb49",
   "metadata": {},
   "source": [
    "#### Q4. What are getter and setter in python? Create a class and create a getter and a setter method in this class."
   ]
  },
  {
   "cell_type": "markdown",
   "id": "5cd49de1-a143-4ce2-81b6-97a7d68dead6",
   "metadata": {},
   "source": [
    "Getter and Setter methods are used to control the access and modification of class attributes. They provide an interface to get and set the values of private attributes, encapsulating them within the class."
   ]
  },
  {
   "cell_type": "code",
   "execution_count": 74,
   "id": "d8754b5f-1e8a-409b-b7d9-932ce9d7164a",
   "metadata": {},
   "outputs": [
    {
     "data": {
      "text/plain": [
       "('Ram', 1)"
      ]
     },
     "execution_count": 74,
     "metadata": {},
     "output_type": "execute_result"
    }
   ],
   "source": [
    "#e.g.\n",
    "\n",
    "class class1:\n",
    "    \n",
    "    def __init__(self,name,roll):\n",
    "        self.__name=name\n",
    "        self.__roll=roll\n",
    "        \n",
    "    #getter\n",
    "    @property\n",
    "    def display(self):\n",
    "        return self.__name,self.__roll\n",
    "    \n",
    "    #setter\n",
    "    @display.setter\n",
    "    def name_roll_setter(self, nm_rl):\n",
    "        self.__name=nm_rl[0]\n",
    "        self.__roll=nm_rl[1]\n",
    "    \n",
    "\n",
    "obj=class1(\"Ram\",1)\n",
    "\n",
    "obj.display\n"
   ]
  },
  {
   "cell_type": "code",
   "execution_count": 75,
   "id": "c6e57f07-5e48-46c1-bde8-71f8e9b5a28c",
   "metadata": {},
   "outputs": [
    {
     "data": {
      "text/plain": [
       "('Sita', 2)"
      ]
     },
     "execution_count": 75,
     "metadata": {},
     "output_type": "execute_result"
    }
   ],
   "source": [
    "obj.name_roll_setter=('Sita',2)\n",
    "\n",
    "obj.display"
   ]
  },
  {
   "cell_type": "markdown",
   "id": "4cc929e4-68df-4f5a-b240-fbe8491789c4",
   "metadata": {},
   "source": [
    "#### Q5.What is method overriding in python? Write a python code to demonstrate method overriding."
   ]
  },
  {
   "cell_type": "markdown",
   "id": "e2a5636d-35df-4b11-bbdd-a625a96a2dcc",
   "metadata": {},
   "source": [
    "Method overriding in python is feature of python in which child class can implement its own method inherited from the parent class, that allows customization and specialization based on the specific need of the child class."
   ]
  },
  {
   "cell_type": "code",
   "execution_count": 78,
   "id": "4a38e812-591d-4466-b622-581f8fc5361d",
   "metadata": {},
   "outputs": [
    {
     "name": "stdout",
     "output_type": "stream",
     "text": [
      "processing addition\n",
      "The sum is: 12\n"
     ]
    }
   ],
   "source": [
    "class parent:\n",
    "    def add(self):\n",
    "        print('processing addition')\n",
    "\n",
    "        \n",
    "class child(parent):\n",
    "    def add(self,x=5,y=7):\n",
    "        print(\"The sum is:\",x+y)\n",
    "\n",
    "        \n",
    "parent_obj=parent()\n",
    "\n",
    "child_obj=child()\n",
    "\n",
    "parent_obj.add()\n",
    "child_obj.add()"
   ]
  },
  {
   "cell_type": "markdown",
   "id": "d40c1fc9-17e7-48e3-b239-4fdd89668d68",
   "metadata": {},
   "source": [
    "In the given example, add() method was modified to actually calculating sum from a statement, though this method was inherited from the parent class to child class. This is method overriding."
   ]
  },
  {
   "cell_type": "code",
   "execution_count": null,
   "id": "e10524d9-dfc4-4145-ae6d-01d5326e512d",
   "metadata": {},
   "outputs": [],
   "source": []
  }
 ],
 "metadata": {
  "kernelspec": {
   "display_name": "Python 3 (ipykernel)",
   "language": "python",
   "name": "python3"
  },
  "language_info": {
   "codemirror_mode": {
    "name": "ipython",
    "version": 3
   },
   "file_extension": ".py",
   "mimetype": "text/x-python",
   "name": "python",
   "nbconvert_exporter": "python",
   "pygments_lexer": "ipython3",
   "version": "3.10.8"
  }
 },
 "nbformat": 4,
 "nbformat_minor": 5
}
