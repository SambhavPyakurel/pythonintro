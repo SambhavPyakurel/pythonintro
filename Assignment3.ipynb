{
 "cells": [
  {
   "cell_type": "markdown",
   "id": "a15c1611-b689-4326-a51e-d05c31786846",
   "metadata": {},
   "source": [
    "#### Q1. Which keyword is used to create a function? Create a function to return a list of odd numbers in the range of 1 to 25."
   ]
  },
  {
   "cell_type": "markdown",
   "id": "8c83aea8-e931-45a3-9546-8b31850f36b1",
   "metadata": {},
   "source": [
    "'def' keyword is used to create a function."
   ]
  },
  {
   "cell_type": "code",
   "execution_count": 27,
   "id": "c5ed612a-b027-41f1-bb1e-54db69b7619a",
   "metadata": {},
   "outputs": [
    {
     "data": {
      "text/plain": [
       "[1, 3, 5, 7, 9, 11, 13, 15, 17, 19, 21, 23]"
      ]
     },
     "execution_count": 27,
     "metadata": {},
     "output_type": "execute_result"
    }
   ],
   "source": [
    "def fun():\n",
    "    for i in range(1,25):\n",
    "        if i%2!=0:\n",
    "            yield i\n",
    "        \n",
    "list(fun())"
   ]
  },
  {
   "cell_type": "markdown",
   "id": "a7511129-edfa-41c8-bce2-2eeea50f36b8",
   "metadata": {},
   "source": [
    "#### Q2. Why *args and **kwargs is used in some functions? Create a function each for *args and **kwargs to demonstrate their use."
   ]
  },
  {
   "cell_type": "markdown",
   "id": "2a14f319-5a67-4352-be24-aef300d9be19",
   "metadata": {},
   "source": [
    "'*args' is used in the case where it is not known how many arguments a function should take.\n",
    "\n",
    "'**kwargs' is used in the case where we have to enter arguments in form of keys and values."
   ]
  },
  {
   "cell_type": "code",
   "execution_count": 13,
   "id": "e797b22f-de43-440f-9e33-72bb8858c4c7",
   "metadata": {},
   "outputs": [
    {
     "ename": "TypeError",
     "evalue": "func() takes 3 positional arguments but 4 were given",
     "output_type": "error",
     "traceback": [
      "\u001b[0;31m---------------------------------------------------------------------------\u001b[0m",
      "\u001b[0;31mTypeError\u001b[0m                                 Traceback (most recent call last)",
      "Cell \u001b[0;32mIn[13], line 6\u001b[0m\n\u001b[1;32m      3\u001b[0m \u001b[38;5;28;01mdef\u001b[39;00m \u001b[38;5;21mfunc\u001b[39m(a,b,c):\n\u001b[1;32m      4\u001b[0m     \u001b[38;5;28;01mreturn\u001b[39;00m a,b,c\n\u001b[0;32m----> 6\u001b[0m \u001b[43mfunc\u001b[49m\u001b[43m(\u001b[49m\u001b[38;5;241;43m1\u001b[39;49m\u001b[43m,\u001b[49m\u001b[38;5;241;43m2\u001b[39;49m\u001b[43m,\u001b[49m\u001b[38;5;241;43m3\u001b[39;49m\u001b[43m,\u001b[49m\u001b[38;5;241;43m4\u001b[39;49m\u001b[43m)\u001b[49m\n",
      "\u001b[0;31mTypeError\u001b[0m: func() takes 3 positional arguments but 4 were given"
     ]
    }
   ],
   "source": [
    "#without *args function can't take n numbers of arguments.\n",
    "\n",
    "def func(a,b,c):\n",
    "    return a,b,c\n",
    "\n",
    "func(1,2,3,4)\n"
   ]
  },
  {
   "cell_type": "code",
   "execution_count": 14,
   "id": "6a166522-ed9d-4865-a7be-afad3e334c27",
   "metadata": {},
   "outputs": [
    {
     "data": {
      "text/plain": [
       "(1, 2, 3, 4)"
      ]
     },
     "execution_count": 14,
     "metadata": {},
     "output_type": "execute_result"
    }
   ],
   "source": [
    "#With *args a function can take n number of arguments.\n",
    "\n",
    "def func(*args):\n",
    "    return args\n",
    "func(1,2,3,4)"
   ]
  },
  {
   "cell_type": "code",
   "execution_count": 17,
   "id": "0f84869d-b530-439a-94a2-99f48fbb8123",
   "metadata": {},
   "outputs": [
    {
     "ename": "TypeError",
     "evalue": "func() got an unexpected keyword argument 'key'",
     "output_type": "error",
     "traceback": [
      "\u001b[0;31m---------------------------------------------------------------------------\u001b[0m",
      "\u001b[0;31mTypeError\u001b[0m                                 Traceback (most recent call last)",
      "Cell \u001b[0;32mIn[17], line 6\u001b[0m\n\u001b[1;32m      3\u001b[0m \u001b[38;5;28;01mdef\u001b[39;00m \u001b[38;5;21mfunc\u001b[39m(a):\n\u001b[1;32m      4\u001b[0m     \u001b[38;5;28;01mreturn\u001b[39;00m a\n\u001b[0;32m----> 6\u001b[0m \u001b[43mfunc\u001b[49m\u001b[43m(\u001b[49m\u001b[43mkey\u001b[49m\u001b[38;5;241;43m=\u001b[39;49m\u001b[38;5;124;43m'\u001b[39;49m\u001b[38;5;124;43mvalue\u001b[39;49m\u001b[38;5;124;43m'\u001b[39;49m\u001b[43m)\u001b[49m\n",
      "\u001b[0;31mTypeError\u001b[0m: func() got an unexpected keyword argument 'key'"
     ]
    }
   ],
   "source": [
    "#without **kwargs both key and value can't be assigned.\n",
    "\n",
    "def func(a):\n",
    "    return a\n",
    "\n",
    "func(key='value')"
   ]
  },
  {
   "cell_type": "code",
   "execution_count": 23,
   "id": "da22427d-c816-4d4c-b87b-e857a08c5de5",
   "metadata": {},
   "outputs": [
    {
     "data": {
      "text/plain": [
       "{'key': 'value'}"
      ]
     },
     "execution_count": 23,
     "metadata": {},
     "output_type": "execute_result"
    }
   ],
   "source": [
    "#with **kwargs both key and value is assigned.\n",
    "\n",
    "def func(**kwargs):\n",
    "    return kwargs\n",
    "\n",
    "func(key='value')"
   ]
  },
  {
   "cell_type": "markdown",
   "id": "b2f2e88d-2e37-4ca9-a89c-7716ebac0f9a",
   "metadata": {},
   "source": [
    "#### Q3. What is an iterator in python? Name the method used to initialise the iterator object and the method used for iteration. Use these methods to print the first five elements of the given list [2, 4, 6, 8, 10, 12, 14, 16, 18, 20]."
   ]
  },
  {
   "cell_type": "markdown",
   "id": "ab898fa1-2dcd-4849-9871-aa5f8c592a26",
   "metadata": {},
   "source": [
    "Iterator is an object that allows sequential access to the elements of the collection, one element at a time, without the need to store the entire collection in memory.\n",
    "\n",
    "To initialise and iterate an iterator object we can use 'iter()' and 'next()' function BUT 'for' loop can also be used for iteration."
   ]
  },
  {
   "cell_type": "code",
   "execution_count": 41,
   "id": "da0bd047-0dbd-4774-a02d-b15626b8086c",
   "metadata": {},
   "outputs": [
    {
     "name": "stdout",
     "output_type": "stream",
     "text": [
      "2\n",
      "4\n",
      "6\n",
      "8\n",
      "10\n"
     ]
    }
   ],
   "source": [
    "given_list=[2, 4, 6, 8, 10, 12, 14, 16, 18, 20]\n",
    "\n",
    "for i in given_list[:5] :\n",
    "    print(i)"
   ]
  },
  {
   "cell_type": "markdown",
   "id": "cd63f812-518b-4ccc-b930-1ea2355a9a3b",
   "metadata": {},
   "source": [
    "Here, 'i' is the iterator and 'for' loop is used for the iteration and its initialisation."
   ]
  },
  {
   "cell_type": "code",
   "execution_count": 43,
   "id": "353d517c-a388-49a4-97f0-1fe8e5153bb3",
   "metadata": {},
   "outputs": [
    {
     "name": "stdout",
     "output_type": "stream",
     "text": [
      "2\n",
      "4\n",
      "6\n",
      "8\n",
      "10\n"
     ]
    }
   ],
   "source": [
    "given_list=[2, 4, 6, 8, 10, 12, 14, 16, 18, 20]\n",
    "itr=iter(given_list)\n",
    "for i in range (0,5):\n",
    "    print(next(itr))"
   ]
  },
  {
   "cell_type": "markdown",
   "id": "bbe7d34b-969e-43aa-a1bd-51ee1cacf35b",
   "metadata": {},
   "source": [
    "Here, itr is the iterator,iter() is used for its initialisation and next() is used for the iteration."
   ]
  },
  {
   "cell_type": "markdown",
   "id": "f36cbbae-2118-4dd9-aead-7c872b24025b",
   "metadata": {},
   "source": [
    "#### Q4. What is a generator function in python? Why yield keyword is used? Give an example of a generator function."
   ]
  },
  {
   "cell_type": "markdown",
   "id": "a6b7c739-a6d9-4847-8b54-9a7c83bc3534",
   "metadata": {},
   "source": [
    "A generator function is a function that generates sequence of values generally using keyword 'Yield'.\n",
    "\n",
    "yield keyword is used to optimise the memory. In case of large data sets let's say of a million, then it would take a lot of memory if the 'return' is used as it returns values in form of tuples. But if we use 'yield' it returns the values one by one using less memory and increasing the efficieny."
   ]
  },
  {
   "cell_type": "code",
   "execution_count": 34,
   "id": "d4426f8e-ac9e-41e2-98c5-1b5ce5bd6cfb",
   "metadata": {},
   "outputs": [
    {
     "data": {
      "text/plain": [
       "[2, 4, 6, 8, 10, 12, 14, 16, 18, 20, 22, 24, 26, 28]"
      ]
     },
     "execution_count": 34,
     "metadata": {},
     "output_type": "execute_result"
    }
   ],
   "source": [
    "#e.g yielding even numbers from a range of 1 to 30\n",
    "\n",
    "def funct():\n",
    "    for i in range(1,30):\n",
    "        if i%2==0:\n",
    "            yield i\n",
    "\n",
    "list(funct())    \n",
    "    "
   ]
  },
  {
   "cell_type": "markdown",
   "id": "6c22ba1b-c98c-466b-a33e-dcbdbfadbca0",
   "metadata": {},
   "source": [
    "#### Q5. Create a generator function for prime numbers less than 1000. Use the next() method to print the first 20 prime numbers."
   ]
  },
  {
   "cell_type": "code",
   "execution_count": 45,
   "id": "a0f45947-eeab-4a99-b3a4-94596e59fae7",
   "metadata": {},
   "outputs": [
    {
     "name": "stdout",
     "output_type": "stream",
     "text": [
      "2\n",
      "3\n",
      "5\n",
      "7\n",
      "11\n",
      "13\n",
      "17\n",
      "19\n",
      "23\n",
      "29\n",
      "31\n",
      "37\n",
      "41\n",
      "43\n",
      "47\n",
      "53\n",
      "59\n",
      "61\n",
      "67\n",
      "71\n"
     ]
    }
   ],
   "source": [
    "def prm():\n",
    "    for i in range (1,1000):\n",
    "        c=0\n",
    "        for j in range(1,i+1):\n",
    "            if i%j==0:\n",
    "                c+=1\n",
    "        if c==2:\n",
    "            yield i\n",
    "\n",
    "lst=iter(list(prm()))\n",
    "\n",
    "for i in range(0,20):\n",
    "    print(next(lst))\n",
    "             "
   ]
  },
  {
   "cell_type": "code",
   "execution_count": null,
   "id": "8958f95e-78ab-4bd9-a83f-a169e236685f",
   "metadata": {},
   "outputs": [],
   "source": []
  }
 ],
 "metadata": {
  "kernelspec": {
   "display_name": "Python 3 (ipykernel)",
   "language": "python",
   "name": "python3"
  },
  "language_info": {
   "codemirror_mode": {
    "name": "ipython",
    "version": 3
   },
   "file_extension": ".py",
   "mimetype": "text/x-python",
   "name": "python",
   "nbconvert_exporter": "python",
   "pygments_lexer": "ipython3",
   "version": "3.10.8"
  }
 },
 "nbformat": 4,
 "nbformat_minor": 5
}
