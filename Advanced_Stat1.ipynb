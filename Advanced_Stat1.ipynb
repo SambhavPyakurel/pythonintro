{
 "cells": [
  {
   "cell_type": "markdown",
   "id": "7a03be58-8d3a-4e63-9453-59535e6a9de8",
   "metadata": {},
   "source": [
    "#### Q1. What is the Probability density function?"
   ]
  },
  {
   "cell_type": "markdown",
   "id": "367e114f-5add-43d2-9f39-113ee4d0dd7c",
   "metadata": {},
   "source": [
    "The probability density function is the distribution of continuous data.It is used to describe the probability distribution of a continuous random variable. "
   ]
  },
  {
   "cell_type": "markdown",
   "id": "21632f27-8940-4036-8e32-df522f6312da",
   "metadata": {},
   "source": [
    "#### Q2. What are the types of Probability distribution?"
   ]
  },
  {
   "cell_type": "markdown",
   "id": "c9fdacba-2cef-4164-aa2e-3d30e6c3e4bc",
   "metadata": {},
   "source": [
    "The types are:\n",
    "1. Normal/Gaussian Distribution\n",
    "2. Bernoulli Distribution\n",
    "3. Uniform Distribution\n",
    "4. Log Normal Distribution\n",
    "5. Poisson Distribution\n",
    "6. Binomial Distribution"
   ]
  },
  {
   "cell_type": "markdown",
   "id": "270adcb7-67fe-442f-802b-a353ce589c8b",
   "metadata": {},
   "source": [
    "#### Q3. Write a Python function to calculate the probability density function of a normal distribution with given mean and standard deviation at a given point."
   ]
  },
  {
   "cell_type": "code",
   "execution_count": 41,
   "id": "119d1321-334e-4264-b243-413f1178194a",
   "metadata": {},
   "outputs": [
    {
     "name": "stdout",
     "output_type": "stream",
     "text": [
      "PDF at x = 0.12951759566589174\n"
     ]
    }
   ],
   "source": [
    "import scipy.stats as stats\n",
    "\n",
    "def normal_pdf(mean, std, x):\n",
    "    \n",
    "    pdf_value = stats.norm(loc=mean, scale=std).pdf(x)\n",
    "    \n",
    "    return pdf_value\n",
    "\n",
    "mean = 0.0\n",
    "std = 1.0\n",
    "x = 1.5\n",
    "pdf_at_x = normal_pdf(mean, std, x)\n",
    "print(\"PDF at x =\", pdf_at_x)\n"
   ]
  },
  {
   "cell_type": "markdown",
   "id": "259295d3-1dff-4c37-81cf-c9110f2e3d62",
   "metadata": {},
   "source": [
    "#### Q4. What are the properties of Binomial distribution? Give two examples of events where binomial distribution can be applied."
   ]
  },
  {
   "cell_type": "markdown",
   "id": "37cf37cd-b2db-436e-b322-059fa2969613",
   "metadata": {},
   "source": [
    "The binomial distribution is a discrete probability distribution that describes the number of successes in a fixed number of independent Bernoulli trials. Each trial has only two possible outcomes, often referred to as \"success\" and \"failure.\n",
    "\n",
    "Properties:\n",
    "1. Fixed Number of Trials (n): The binomial distribution is defined for a fixed number of trials denoted by 'n'. Each trial is independent and has the same probability of success (denoted by 'p').\n",
    "\n",
    "2. Two Possible Outcomes: In each trial, there are only two possible outcomes: success (typically denoted by 'S') or failure (denoted by 'F').\n",
    "\n",
    "3. Probability of Success (p): The probability of success ('p') is the probability of the event of interest occurring in a single trial. The probability of failure is simply 1 - p.\n",
    "\n",
    "4. Independent Trials: Each trial is assumed to be independent of others, meaning that the outcome of one trial does not affect the outcome of any other trial.\n",
    "\n",
    "It can be applied in :\n",
    "1. Tossing of coin\n",
    "2. Quality check of a product"
   ]
  },
  {
   "cell_type": "markdown",
   "id": "dd2fee66-9984-44bc-b40d-9007e81fb77e",
   "metadata": {},
   "source": [
    "#### Q5. Generate a random sample of size 1000 from a binomial distribution with probability of success 0.4 and plot a histogram of the results using matplotlib."
   ]
  },
  {
   "cell_type": "code",
   "execution_count": 23,
   "id": "0f034cb6-09ac-4129-8ccd-cb4aad19e478",
   "metadata": {},
   "outputs": [
    {
     "data": {
      "image/png": "[encoded data removed]",
      "text/plain": [
       "<Figure size 640x480 with 1 Axes>"
      ]
     },
     "metadata": {},
     "output_type": "display_data"
    }
   ],
   "source": [
    "import numpy as np\n",
    "import matplotlib.pyplot as plt\n",
    "\n",
    "sample_size = 1000\n",
    "success = 0.4\n",
    "\n",
    "\n",
    "sample = np.random.binomial(n=1, p=success, size=sample_size)\n",
    "\n",
    "\n",
    "plt.hist(sample, bins=2,edgecolor='black',range=(-0.5, 1.5),alpha=1)\n",
    "plt.xticks([0, 1], ['Failure', 'Success'])\n",
    "plt.xlabel('Outcome')\n",
    "plt.ylabel('Frequency')\n",
    "plt.title('Histogram of Random Sample from Binomial Distribution')\n",
    "plt.show()"
   ]
  },
  {
   "cell_type": "markdown",
   "id": "27dfa36f-2d38-47d4-aca6-fbf00b309a9c",
   "metadata": {},
   "source": [
    "#### Q6. Write a Python function to calculate the cumulative distribution function of a Poisson distribution with given mean at a given point."
   ]
  },
  {
   "cell_type": "code",
   "execution_count": 40,
   "id": "51612d6c-f471-46a5-a22c-e9dba65840b4",
   "metadata": {},
   "outputs": [
    {
     "name": "stdout",
     "output_type": "stream",
     "text": [
      "CDF at x = 1.0\n"
     ]
    }
   ],
   "source": [
    "import scipy.stats as stats\n",
    "\n",
    "def poisson_cdf(mean, x):\n",
    "    \n",
    "    cdf_value =stats.poisson(mu=mean).cdf(x)\n",
    "    \n",
    "    return cdf_value\n",
    "\n",
    "mean = 0.0\n",
    "x = 1.5\n",
    "cdf_at_x = poisson_cdf(mean, x)\n",
    "print(\"CDF at x =\", cdf_at_x)\n"
   ]
  },
  {
   "cell_type": "markdown",
   "id": "edcb0df2-64fa-441c-a13b-81dec7a9032e",
   "metadata": {},
   "source": [
    "#### Q7. How Binomial distribution different from Poisson distribution?"
   ]
  },
  {
   "cell_type": "markdown",
   "id": "feb08775-3666-403e-aae4-1c8f53f4c538",
   "metadata": {},
   "source": [
    "|Binomial Distribution|Poisson Distribution|\n",
    "|---|---|\n",
    "|There are two possible outcomes.|Ther are infinite possible outcomes.|\n",
    "|There are fixed no. of trials.|There are infinite no. of trials.|\n",
    "|PMF:P(X = k) = C(n, k) * p^k * (1 - p)^(n - k)|PMF:\tP(X = k) = (e^(-λ) * λ^k) / k!|\n",
    "|Mean = n * p|Mean = λ|\n",
    "|Variance = n * p * (1 - p)|Variance = λ|\n"
   ]
  },
  {
   "cell_type": "markdown",
   "id": "57b0467f-23b9-41dc-aad8-5b8aeb2b900d",
   "metadata": {},
   "source": [
    "#### Q8. Generate a random sample of size 1000 from a Poisson distribution with mean 5 and calculate the sample mean and variance."
   ]
  },
  {
   "cell_type": "code",
   "execution_count": 39,
   "id": "ec52daab-26f6-47df-abb1-cec23427a0c2",
   "metadata": {},
   "outputs": [
    {
     "name": "stdout",
     "output_type": "stream",
     "text": [
      "Sample mean= 5.058 and Sample variance= 5.113749749749751\n"
     ]
    }
   ],
   "source": [
    "import numpy as np\n",
    "\n",
    "sample_size=1000\n",
    "mean=5\n",
    "sample=np.random.poisson(mean,size=sample_size)\n",
    "\n",
    "sample_mean=np.mean(sample)\n",
    "sample_variance=np.var(sample, ddof=1)\n",
    "\n",
    "print(f'Sample mean= {sample_mean} and Sample variance= {sample_variance}')"
   ]
  },
  {
   "cell_type": "markdown",
   "id": "5aa425f4-17c1-4e48-89ed-5172380e7db3",
   "metadata": {},
   "source": [
    "#### Q9. How mean and variance are related in Binomial distribution and Poisson distribution?"
   ]
  },
  {
   "cell_type": "markdown",
   "id": "73036680-0210-43b4-b148-f6fa33c42e21",
   "metadata": {},
   "source": [
    "In Binomial Distribution:\n",
    "    variance = mean * probability of faliure.\n",
    "    \n",
    "In Poisson Distribution:\n",
    "    variance = mean"
   ]
  },
  {
   "cell_type": "markdown",
   "id": "f30bec4e-0b9a-43f5-862b-66debca53d0b",
   "metadata": {},
   "source": [
    "#### Q10. In normal distribution with respect to mean position, where does the least frequent data appear?"
   ]
  },
  {
   "cell_type": "markdown",
   "id": "eee6f6bf-5c59-4704-a2d8-30a19cfb6ba0",
   "metadata": {},
   "source": [
    "In a normal distribution, the least frequent data points appear at the tails of the distribution, farthest away from the mean."
   ]
  },
  {
   "cell_type": "code",
   "execution_count": null,
   "id": "5d943f30-abec-4630-9cd9-87b62b4035df",
   "metadata": {},
   "outputs": [],
   "source": []
  }
 ],
 "metadata": {
  "kernelspec": {
   "display_name": "Python 3 (ipykernel)",
   "language": "python",
   "name": "python3"
  },
  "language_info": {
   "codemirror_mode": {
    "name": "ipython",
    "version": 3
   },
   "file_extension": ".py",
   "mimetype": "text/x-python",
   "name": "python",
   "nbconvert_exporter": "python",
   "pygments_lexer": "ipython3",
   "version": "3.10.8"
  }
 },
 "nbformat": 4,
 "nbformat_minor": 5
}
