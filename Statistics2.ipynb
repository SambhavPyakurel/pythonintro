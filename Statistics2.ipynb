{
 "cells": [
  {
   "cell_type": "markdown",
   "id": "0592a02c-9e71-4b23-ba60-f9b44ca6d8a1",
   "metadata": {},
   "source": [
    "#### Q1. What are the three measures of central tendency?"
   ]
  },
  {
   "cell_type": "markdown",
   "id": "1498f4ca-74b2-449c-b6cb-bd9ae73ab0b9",
   "metadata": {},
   "source": [
    "The three measures of central tendency are:\n",
    "1. Mean\n",
    "2. Median \n",
    "3. Mode"
   ]
  },
  {
   "cell_type": "markdown",
   "id": "d258e82c-ba7c-4300-bd21-5e65c95b4a80",
   "metadata": {},
   "source": [
    "#### Q2. What is the difference between the mean, median, and mode? How are they used to measure the central tendency of a dataset?"
   ]
  },
  {
   "cell_type": "markdown",
   "id": "ac298b4b-9505-43e9-bbd3-87478214abd4",
   "metadata": {},
   "source": [
    "|Mean|Median|Mode|\n",
    "|--|--|--|\n",
    "|It gives the average value of a dataset.|It gives the middle value of the dataset.|It gives the most frequent data from a dataset.|\n",
    "|It is calculated by dividing the sum of all data with total no. of data.|It is calculated by adding two of the data that are in middle for even dataset and for odd dataset the middle data is median.|It is determined by counting the all the data in a dataset and the one which occurs most time is mode.|\n",
    "\n",
    "\n",
    "Let us suppose we have a dataset but some of the data are missing."
   ]
  },
  {
   "cell_type": "markdown",
   "id": "e5e9cb00-12ee-4b87-a9be-f6a8c44b3ed4",
   "metadata": {},
   "source": [
    "|Animals|Age(in months)|\n",
    "|--|--|\n",
    "|Cat|2|\n",
    "|Dog|5|\n",
    "|Cat|8|\n",
    "|...|8|\n",
    "|Hamster|...|\n",
    "\n",
    "Here mode of animals column is Cat, Mean for Age column is 5.75 and Median is 6.5. This tells us some of the features of the dataset.\n",
    "\n",
    "Now, to make this dataset meaningful, either we can remove the missing rows but this will cause dataset shrink.\n",
    "Instead what we can do is use the measure of central tendency to fill those empty dataset.\n",
    "\n",
    "Cat is the animal that has reccured most time. So, the missing animal has higher possibility to be a cat. So, we can replace that place with cat. \n",
    "Mean of the column age is 5.75 so, we can consider the age of the Hamster 5.75 as it is the average age in the dataset. If there was a outcast we could have used median instead of mean.\n",
    "\n",
    "In this way measure of central tendancy can be used in a dataset."
   ]
  },
  {
   "cell_type": "markdown",
   "id": "d0801e38-39f9-4c69-9d53-d9cffded9b3b",
   "metadata": {},
   "source": [
    "#### Q3. Measure the three measures of central tendency for the given height data:\n",
    "[178,177,176,177,178.2,178,175,179,180,175,178.9,176.2,177,172.5,178,176.5]"
   ]
  },
  {
   "cell_type": "code",
   "execution_count": 27,
   "id": "f75acc4d-cc5c-4d0d-aa0b-4e2a05cdedcc",
   "metadata": {},
   "outputs": [],
   "source": [
    "lst=[178,177,176,177,178.2,178,175,179,180,175,178.9,176.2,177,172.5,178,176.5]"
   ]
  },
  {
   "cell_type": "code",
   "execution_count": 28,
   "id": "a3d3a27e-ed47-43b2-b803-aa3eeda1b943",
   "metadata": {},
   "outputs": [],
   "source": [
    "import numpy as np"
   ]
  },
  {
   "cell_type": "code",
   "execution_count": 29,
   "id": "dbccfb14-edd5-445d-bd41-ffe9bb73641d",
   "metadata": {},
   "outputs": [],
   "source": [
    "mean=np.mean(lst)\n",
    "median=np.median(lst)"
   ]
  },
  {
   "cell_type": "code",
   "execution_count": 30,
   "id": "33a58eb9-4b28-4ac3-b8be-f4eb35fe1375",
   "metadata": {},
   "outputs": [],
   "source": [
    "import statistics as st"
   ]
  },
  {
   "cell_type": "code",
   "execution_count": 31,
   "id": "fa5aaa58-ad37-4470-9421-f6a06d63330e",
   "metadata": {},
   "outputs": [],
   "source": [
    "mode=st.mode(lst)"
   ]
  },
  {
   "cell_type": "code",
   "execution_count": 32,
   "id": "f4eff9d9-17d2-479c-b984-6f4c263f2dbb",
   "metadata": {},
   "outputs": [
    {
     "name": "stdout",
     "output_type": "stream",
     "text": [
      "mean=177.01875\n",
      " mode=178\n",
      " median=177.0\n"
     ]
    }
   ],
   "source": [
    "print(f'mean={mean}\\n mode={mode}\\n median={median}')"
   ]
  },
  {
   "cell_type": "markdown",
   "id": "46723c4f-ebcd-40b9-bd6f-4f804b870743",
   "metadata": {},
   "source": [
    "#### Q4. Find the standard deviation for the given data:\n",
    "[178,177,176,177,178.2,178,175,179,180,175,178.9,176.2,177,172.5,178,176.5]"
   ]
  },
  {
   "cell_type": "code",
   "execution_count": 33,
   "id": "345f9c3b-0633-43c2-9211-8c40af317686",
   "metadata": {},
   "outputs": [],
   "source": [
    "lst1=[178,177,176,177,178.2,178,175,179,180,175,178.9,176.2,177,172.5,178,176.5]"
   ]
  },
  {
   "cell_type": "code",
   "execution_count": 34,
   "id": "033f7399-9cbb-4dd2-a56b-8c1b8d92c942",
   "metadata": {},
   "outputs": [
    {
     "name": "stdout",
     "output_type": "stream",
     "text": [
      "Standard deviation= 1.7885814036548633\n"
     ]
    }
   ],
   "source": [
    "print('Standard deviation=',np.std(lst1))"
   ]
  },
  {
   "cell_type": "markdown",
   "id": "8b7e08f1-3092-4f2d-8814-e43cb5f8a7f0",
   "metadata": {},
   "source": [
    "#### Q5. How are measures of dispersion such as range, variance, and standard deviation used to describe the spread of a dataset? Provide an example."
   ]
  },
  {
   "cell_type": "markdown",
   "id": "0e32cbba-cadf-4acf-b815-71aa31389e13",
   "metadata": {},
   "source": [
    "1. Range: The range is the simplest measure of dispersion and represents the difference between the maximum and minimum values in a dataset. It gives an idea of the total spread or extent of the data. e.g.  let's consider a dataset of ages: 25, 30, 35, 40, and 45. The range would be 45 - 25 = 20, indicating that the ages range from 25 to 45.\n",
    "\n",
    "2. Variance: Variance is a more robust measure of dispersion that takes into account the spread of all values in a dataset. It measures the average squared deviation of each value from the mean. A higher variance indicates a greater spread of data points. e.g. let's consider a dataset of ages: 25, 30, 35, 40, and 45. The mean would be (25 + 30 + 35 + 40 + 45) / 5 = 35. The variance would be [(25-35)^2 + (30-35)^2 + (35-35)^2 + (40-35)^2 + (45-35)^2] / 5 = 50.\n",
    "\n",
    "3. Standard Deviation: The standard deviation is the square root of the variance. It is widely used because it represents the spread of data in the same unit as the original data. The standard deviation provides a measure of how much individual values typically deviate from the mean.  let's consider a dataset of ages: 25, 30, 35, 40, and 45. the standard deviation would be √50 ≈ 7.07."
   ]
  },
  {
   "cell_type": "markdown",
   "id": "0c82407d-ab34-4246-aaa2-d4dff71170a5",
   "metadata": {},
   "source": [
    "#### Q6. What is a Venn diagram?"
   ]
  },
  {
   "cell_type": "markdown",
   "id": "422e1933-7efe-4880-92dc-2767c0434427",
   "metadata": {},
   "source": [
    "A Venn diagram is a graphical representation of the relationships between different sets or data. "
   ]
  },
  {
   "cell_type": "markdown",
   "id": "00979f39-db13-49fe-8f01-387d86f9e8c4",
   "metadata": {},
   "source": [
    "#### Q7. For the two given sets A = (2,3,4,5,6,7) & B = (0,2,6,8,10). Find:\n",
    "(i) A ∩ B\n",
    "(ii) A ⋃ B"
   ]
  },
  {
   "cell_type": "markdown",
   "id": "461d3553-f4da-4beb-930b-124ba9254483",
   "metadata": {},
   "source": [
    "(i) A ∩ B = {2,6}\n",
    "\n",
    "(ii) A ⋃ B = {0,2,3,4,5,6,7,8,10}"
   ]
  },
  {
   "cell_type": "markdown",
   "id": "7a5d7f59-2733-48a0-abb0-8e93e98d8d59",
   "metadata": {},
   "source": [
    "#### Q8. What do you understand about skewness in data?"
   ]
  },
  {
   "cell_type": "markdown",
   "id": "dc61722a-9c12-4d79-969c-24bf889ed77f",
   "metadata": {},
   "source": [
    "Skewness is a statistical measure that describes the asymmetry or lack of symmetry in a distribution of data. It quantifies the extent to which the values in a dataset deviate from a symmetrical distribution. "
   ]
  },
  {
   "cell_type": "markdown",
   "id": "b1b48d61-d68e-467b-b71c-a920899d4e88",
   "metadata": {},
   "source": [
    "#### Q9. If a data is right skewed then what will be the position of median with respect to mean?"
   ]
  },
  {
   "cell_type": "markdown",
   "id": "30253c83-10f1-4d0c-9921-2dff136d3320",
   "metadata": {},
   "source": [
    "Median would be on left of mean. Mean>Median for the right skewed data."
   ]
  },
  {
   "cell_type": "markdown",
   "id": "ffbe5b83-ceec-4209-b498-800321a8aaef",
   "metadata": {},
   "source": [
    "#### Q10. Explain the difference between covariance and correlation. How are these measures used in statistical analysis?"
   ]
  },
  {
   "cell_type": "markdown",
   "id": "406cced1-c34c-4738-8962-07ddf2a5ebf7",
   "metadata": {},
   "source": [
    "Covariance and correlation are both measures that quantify the relationship between two variables in a dataset.\n",
    "\n",
    "Covariance differentiates from Correlation as Covariance can give the relation between the different variables it cannot determine the degree at which they relate. On the other hand, Correlation has certain limits(-1 to 1) so, it can determine the degree of relation between two variables.\n",
    "\n",
    "Also, If there are three variables covariance cannot determine which two variable are more corelated. But Correlation can determine it.\n",
    "\n",
    "Both covariance and correlation have their applications in understanding and analyzing relationships between variables, but correlation is typically preferred due to its standardized interpretation and ability to compare relationships across different datasets."
   ]
  },
  {
   "cell_type": "markdown",
   "id": "2138797d-e64d-4d6b-be41-1e0aceb31ba9",
   "metadata": {},
   "source": [
    "#### Q11. What is the formula for calculating the sample mean? Provide an example calculation for a dataset."
   ]
  },
  {
   "cell_type": "markdown",
   "id": "2b01b44f-545d-4514-8338-24ca550fa67d",
   "metadata": {},
   "source": [
    "Formula: (Σxi)/n = sum of terms/total number of terms.\n",
    "\n",
    "where, X=data, n=total no. of data"
   ]
  },
  {
   "cell_type": "code",
   "execution_count": 35,
   "id": "ff53b71c-5879-49dd-98b1-6dcd815be026",
   "metadata": {},
   "outputs": [],
   "source": [
    "#e.g.\n",
    "import seaborn as sns"
   ]
  },
  {
   "cell_type": "code",
   "execution_count": 36,
   "id": "12fa9692-8fcc-42d9-81fd-7c0e45ab7e05",
   "metadata": {},
   "outputs": [],
   "source": [
    "df=sns.load_dataset('tips')"
   ]
  },
  {
   "cell_type": "code",
   "execution_count": 37,
   "id": "09a56b8d-4c73-4f31-bc8c-b735164a6412",
   "metadata": {},
   "outputs": [
    {
     "name": "stdout",
     "output_type": "stream",
     "text": [
      "total_bill    19.785943\n",
      "tip            2.998279\n",
      "size           2.569672\n",
      "dtype: float64\n"
     ]
    },
    {
     "name": "stderr",
     "output_type": "stream",
     "text": [
      "/tmp/ipykernel_84/2807316344.py:1: FutureWarning: The default value of numeric_only in DataFrame.mean is deprecated. In a future version, it will default to False. In addition, specifying 'numeric_only=None' is deprecated. Select only valid columns or specify the value of numeric_only to silence this warning.\n",
      "  print(df.mean())\n"
     ]
    }
   ],
   "source": [
    "print(df.mean())"
   ]
  },
  {
   "cell_type": "markdown",
   "id": "ad47ecfc-073d-457b-8bbe-506f7f42982d",
   "metadata": {},
   "source": [
    "#### Q12. For a normal distribution data what is the relationship between its measure of central tendency?"
   ]
  },
  {
   "cell_type": "markdown",
   "id": "ef774419-90db-4fc5-a48d-d245e2dd220c",
   "metadata": {},
   "source": [
    "For the normal distribution data mode,mean and median are nearly equal.\n",
    "mean=mode=median"
   ]
  },
  {
   "cell_type": "markdown",
   "id": "ac35d24e-dfa1-465a-8e42-b0f1ea9a51df",
   "metadata": {},
   "source": [
    "#### Q13. How is covariance different from correlation?"
   ]
  },
  {
   "cell_type": "markdown",
   "id": "dc8eaec9-c79c-470d-ace8-44adf70c1535",
   "metadata": {},
   "source": [
    "Covariance differentiates from Correlation as Covariance can give the relation between the different variables it cannot determine the degree at which they relate. On the other hand, Correlation has certain limits(-1 to 1) so, it can determine the degree of relation between two variables.\n",
    "\n",
    "Also, If there are three variables covariance cannot determine which two variable are more corelated. But Correlation can determine it."
   ]
  },
  {
   "cell_type": "markdown",
   "id": "0844a68c-2869-4402-b080-da0f948916e5",
   "metadata": {},
   "source": [
    "#### Q14. How do outliers affect measures of central tendency and dispersion? Provide an example."
   ]
  },
  {
   "cell_type": "markdown",
   "id": "ebf366e9-d664-4cd5-b926-a22e7c8c313e",
   "metadata": {},
   "source": [
    "Outliers significantly affect most of the measures of central tendency and dispersion.\n",
    "\n",
    "*e.g.*\n",
    "Consider a dataset representing the incomes (in thousands) of a group of people: 25, 30, 35, 40, 45, and an outlier of 1000.\n",
    "\n",
    "Mean: The mean of this dataset is (25 + 30 + 35 + 40 + 45 + 1000) / 6 = 178.3. The presence of the outlier significantly skews the mean towards a higher value.\n",
    "\n",
    "Median: The median of this dataset is 37.5. Since the median is not affected by extreme values, it remains a more representative measure of the central tendency.\n",
    "\n",
    "Mode: The mode is not affected by the outlier.\n",
    "\n",
    "Range: The range of this dataset is 1000 - 25 = 975. The outlier causes a substantial increase in the range, making it misleading as an indicator of the spread of the majority of the data points.\n",
    "\n",
    "Variance and Standard Deviation: The variance and standard deviation are heavily influenced by the outlier, leading to larger values that may not accurately reflect the variability of the majority of the data points.\n",
    "\n",
    "In this example, the presence of an extreme outlier significantly affects the mean, range, variance, and standard deviation, highlighting the importance of identifying and appropriately handling outliers in data analysis."
   ]
  },
  {
   "cell_type": "code",
   "execution_count": null,
   "id": "785ed13d-6878-4c60-aad5-8e021b7841c6",
   "metadata": {},
   "outputs": [],
   "source": []
  }
 ],
 "metadata": {
  "kernelspec": {
   "display_name": "Python 3 (ipykernel)",
   "language": "python",
   "name": "python3"
  },
  "language_info": {
   "codemirror_mode": {
    "name": "ipython",
    "version": 3
   },
   "file_extension": ".py",
   "mimetype": "text/x-python",
   "name": "python",
   "nbconvert_exporter": "python",
   "pygments_lexer": "ipython3",
   "version": "3.10.8"
  }
 },
 "nbformat": 4,
 "nbformat_minor": 5
}
