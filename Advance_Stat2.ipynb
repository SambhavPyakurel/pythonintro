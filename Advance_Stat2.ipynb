{
 "cells": [
  {
   "cell_type": "markdown",
   "id": "3dfd4fa9-81a3-4803-9036-06e3a743f9fe",
   "metadata": {},
   "source": [
    "#### Q1: What are the Probability Mass Function (PMF) and Probability Density Function (PDF)? Explain with an example."
   ]
  },
  {
   "cell_type": "markdown",
   "id": "c100720f-bdfb-4b4d-bdc1-2c19f11543e6",
   "metadata": {},
   "source": [
    "Probability Mass Function(PMF):\n",
    "The PMF is a function that gives the probability of a specific value (discrete outcome) of a discrete random variable.The PMF is denoted as P(X = k), where X is the random variable, and k is a specific value within the range of the random variable.\n",
    "\n",
    "*e.g.*\n",
    "For a six-sided die, the PMF gives the probability of each face showing up (values 1 to 6). Since the die is fair, each face has an equal probability of 1/6. The PMF for this example would be:\n",
    "\n",
    "P(X = 1) = P(X = 2) = P(X = 3) = P(X = 4) = P(X = 5) = P(X = 6) = 1/6\n",
    "\n",
    "Probability Densisty Function(PDF):\n",
    "The PDF is a function that describes the probability density of a continuous random variable over a range of values. The PDF is denoted as f(x), where x is a continuous variable within the range of the random variable.\n",
    "\n",
    "*e.g.*\n",
    "For heights of certain people.The heights can vary continuously between a certain range. The PDF for this example might look like a bell-shaped curve, such as a normal distribution. The PDF would describe how the heights are distributed over the range and the likelihood of a student having a particular height."
   ]
  },
  {
   "cell_type": "markdown",
   "id": "23ee408f-c312-466a-bb1a-28846a65b970",
   "metadata": {},
   "source": [
    "#### Q2: What is Cumulative Density Function (CDF)? Explain with an example. Why CDF is used?"
   ]
  },
  {
   "cell_type": "markdown",
   "id": "e0afb35d-e739-486f-b584-716ca583a66b",
   "metadata": {},
   "source": [
    "The CDF is a function that gives the probability that the random variable X takes on a value less than or equal to the specific value 'x'. It represents the cumulative probability distribution up to and including 'x'.\n",
    "\n",
    "*e.g.*\n",
    "Consider the example of rolling a fair six-sided die. Let's find the CDF for this example.\n",
    "\n",
    "The probability distribution of rolling a die is uniform, as each face has an equal probability of 1/6. The CDF at a specific value 'x' is calculated by adding up the probabilities of all outcomes less than or equal to 'x'.\n",
    "\n",
    "For a fair six-sided die, the CDF would be as follows:\n",
    "\n",
    "F(x) = P(X ≤ x)\n",
    "\n",
    "For x ≤ 1:\n",
    "F(1) = P(X ≤ 1) = 1/6 (Only one face has a value less than or equal to 1)\n",
    "\n",
    "For x ≤ 2:\n",
    "F(2) = P(X ≤ 2) = 2/6 = 1/3 (Two faces have values less than or equal to 2)\n",
    "\n",
    "For x ≤ 3:\n",
    "F(3) = P(X ≤ 3) = 3/6 = 1/2 (Three faces have values less than or equal to 3)\n",
    "\n",
    "Similarly, you can continue calculating the CDF for all values of 'x' up to 6.\n",
    "\n",
    "It is used because:\n",
    "\n",
    "1.  CDF provides an easy way to calculate probabilities for a random variable being less than or equal to a specific value.\n",
    "2. The CDF helps in understanding the overall distribution of a random variable.\n",
    "3. CDFs allow for comparison and ranking of different distributions or datasets based on their cumulative probabilities."
   ]
  },
  {
   "cell_type": "markdown",
   "id": "5903197c-1031-430b-80ce-aa91ce4dd4cc",
   "metadata": {},
   "source": [
    "#### Q3: What are some examples of situations where the normal distribution might be used as a model? Explain how the parameters of the normal distribution relate to the shape of the distribution."
   ]
  },
  {
   "cell_type": "markdown",
   "id": "d3ea462f-3fa0-4ddb-a9e9-dd3ba20ae0e8",
   "metadata": {},
   "source": [
    "Normal distribution might be used as model in Heights, Weights, Test scores etc.\n",
    "\n",
    "The shape of the normal distribution is determined by two parameters: the mean (μ) and the standard deviation (σ). The mean represents the center of the distribution, around which the data is symmetrically distributed. It determines the location of the peak of the bell-shaped curve. The standard deviation controls the spread or dispersion of the data points. A smaller standard deviation results in a narrower and taller curve, while a larger standard deviation leads to a wider and flatter curve."
   ]
  },
  {
   "cell_type": "markdown",
   "id": "41434105-e8c7-488a-95a0-4cfd0e62f923",
   "metadata": {},
   "source": [
    "#### Q4: Explain the importance of Normal Distribution. Give a few real-life examples of Normal Distribution."
   ]
  },
  {
   "cell_type": "markdown",
   "id": "579c5235-9d1e-445b-b990-1caee96448e6",
   "metadata": {},
   "source": [
    "The Normal Distribution is important as:\n",
    "1. Central Limit Theorem uses Normal Distribution as fundamental tool for statistical inference.\n",
    "2. Since the outcome of CLT is normal distribution it is used for apporximation as well.\n",
    "3.  The normal distribution provides a robust basis for parameter estimation in statistical models.\n",
    "4. The normal distribution plays a vital role in standardization, as it allows us to convert data points into standardized units, making comparisons easier.\n",
    "5. The normal distribution is a key element in hypothesis testing, a common statistical technique used to make decisions based on sample data.\n",
    "\n",
    "Real life examples:\n",
    "1. Weight \n",
    "2. Height\n",
    "3. Test Scores\n",
    "4. Daily Temperature"
   ]
  },
  {
   "cell_type": "markdown",
   "id": "442893d5-1b95-4d1e-9ded-585137a34254",
   "metadata": {},
   "source": [
    "#### Q5: What is Bernaulli Distribution? Give an Example. What is the difference between Bernoulli Distribution and Binomial Distribution?"
   ]
  },
  {
   "cell_type": "markdown",
   "id": "33baa228-4525-476d-9ff6-85c84d4f8e21",
   "metadata": {},
   "source": [
    "The Bernoulli distribution is a discrete probability distribution that models a binary outcome in a single trial, where the outcome can only be one of two possible values, often referred to as \"success\" and \"failure.\" \n",
    "\n",
    "*e.g.*\n",
    "The outcome of a single coin flip, where heads is considered a \"success\" (k=1) and tails is considered a \"failure\" (k=0). If the coin is fair (equally likely to land heads or tails), then the probability of success (getting heads) is p=0.5, and the probability of failure (getting tails) is (1 - p) = 0.5. In this case, the Bernoulli distribution would be:\n",
    "\n",
    "P(X = 0) = (1 - 0.5)^1 = 0.5 (Probability of getting tails)\n",
    "P(X = 1) = 0.5^1 = 0.5 (Probability of getting heads)\n",
    "\n",
    "\n",
    "|Bernoulli Distribution|Binary Distribution|\n",
    "|---|---|\n",
    "|It represents a single trial or one-time event with a binary outcome (success or failure).|It represents the number of successes in a fixed number of independent Bernoulli trials.|\n",
    "|It has a single parameter 'p', which represents the probability of success in a single trial.|It has two parameters: 'n' (the number of trials) and 'p' (the probability of success in each trial).|\n",
    "| It has a PMF, which gives the probabilities of individual outcomes.|It has a PMF for the discrete outcomes, and it can also be approximated using a PDF for large 'n' due to its continuous nature.|"
   ]
  },
  {
   "cell_type": "markdown",
   "id": "6a9bf41a-5b9d-4d60-91c4-3931739271ab",
   "metadata": {},
   "source": [
    "#### Q6. Consider a dataset with a mean of 50 and a standard deviation of 10. If we assume that the dataset is normally distributed, what is the probability that a randomly selected observation will be greater than 60? Use the appropriate formula and show your calculations."
   ]
  },
  {
   "cell_type": "markdown",
   "id": "64022688-ac66-4440-88b9-f2ca6d6ff3f2",
   "metadata": {},
   "source": [
    "Here, First of all We need to determine the value of 'Z'.\n",
    "\n",
    "Z = (x-μ)/σ\n",
    "\n",
    "for x = 60\n",
    "\n",
    "Z = (60-50)/10=1\n",
    "\n",
    "From Normal Distribution Table:P(Z<1) = 0.84134 \n",
    "\n",
    "Finally,\n",
    "\n",
    "P(60<x) = 1-P(Z<1) = 1-0.84134 = 0.15866=15.866%\n",
    "\n",
    "Therfore a randomly selected observation have 15.866% chance of being greater than 60."
   ]
  },
  {
   "cell_type": "markdown",
   "id": "2c58369c-e44d-47dc-891d-4f84c79c0ac1",
   "metadata": {},
   "source": [
    "#### Q7: Explain uniform Distribution with an example."
   ]
  },
  {
   "cell_type": "markdown",
   "id": "76694ebe-5b37-48b9-8fc2-46a838d01a6d",
   "metadata": {},
   "source": [
    "The uniform distribution is a continuous probability distribution that models random variables with a constant probability density over a fixed interval.\n",
    "\n",
    "The probability density function (PDF) of the uniform distribution over the interval [a, b] is given by:\n",
    "\n",
    "f(x) = 1 / (b - a) for a ≤ x ≤ b\n",
    "\n",
    "f(x) = 0 otherwise\n",
    "\n",
    "*e.g.*\n",
    "\n",
    "Let's consider an example of rolling a fair six-sided die. In this example, we want to model the probability distribution of the outcome when rolling the die.\n",
    "\n",
    "In a fair six-sided die, each face has an equal chance of landing face-up, and the probabilities of getting each number (1 to 6) are the same.\n",
    "\n",
    "For a fair die, the interval of possible outcomes is [1, 6]. Since each face has an equal probability, the PDF of rolling the die would be:\n",
    "\n",
    "f(x) = 1 / (6 - 1) = 1/5 for 1 ≤ x ≤ 6\n",
    "\n",
    "f(x) = 0 otherwise"
   ]
  },
  {
   "cell_type": "markdown",
   "id": "0a4eac02-3b2c-4af3-9faa-1ab515dbfd3d",
   "metadata": {},
   "source": [
    "#### Q8: What is the z score? State the importance of the z score."
   ]
  },
  {
   "cell_type": "markdown",
   "id": "5230f19b-3939-4a3b-aac5-0b584160b486",
   "metadata": {},
   "source": [
    "The z-score, also known as the standard score, is a statistical measure that quantifies how many standard deviations a data point is away from the mean of the dataset. It is used to standardize data and compare individual data points to the overall distribution of the data.\n",
    "\n",
    "The formula for calculating the z-score of a data point 'X' in a dataset with mean 'μ' and standard deviation 'σ' is:\n",
    "\n",
    "z = (X - μ) / σ\n",
    "\n",
    "It is important to\n",
    "\n",
    "1. standardize the data. \n",
    "2. Find the Outlier in the dataset.\n",
    "3. Data transformation and normalization techniques for various statistical analyses and modeling."
   ]
  },
  {
   "cell_type": "markdown",
   "id": "94aeb747-c38e-4652-9537-1c9f0d1840ee",
   "metadata": {},
   "source": [
    "#### Q9: What is Central Limit Theorem? State the significance of the Central Limit Theorem."
   ]
  },
  {
   "cell_type": "markdown",
   "id": "7fee571a-f9b6-4580-b9c7-be614f01e35f",
   "metadata": {},
   "source": [
    "Central Limit Theorem states that, 'Sampling distribution of mean will always be normally distributed as long as sample size is large enough, regardless of the underlying distribution of the individual variables.'\n",
    "\n",
    "Significances:\n",
    "1. The CLT allows us to approximate the distribution of the sample mean using a normal distribution, even if the population distribution is not known or not normal. \n",
    "2. The CLT is the foundation of many statistical inference techniques and hypothesis testing procedures, like t-testing and hypothesis testing.\n",
    "3. The CLT helps in determining appropriate sample sizes for inferential statistics.\n",
    "4. The CLT is widely used in various fields, such as market research, quality control, medical research, and social sciences, where sample means are often computed and analyzed to make inferences about the population."
   ]
  },
  {
   "cell_type": "markdown",
   "id": "dd1ebeed-7c01-4386-9f7f-859080ca3daf",
   "metadata": {},
   "source": [
    "#### Q10: State the assumptions of the Central Limit Theorem."
   ]
  },
  {
   "cell_type": "markdown",
   "id": "5349dfb5-88b9-4945-93d1-dc94db7efd37",
   "metadata": {},
   "source": [
    "1. Samples should be random.\n",
    "2. The sample numbers should be atleast 30.\n",
    "3. Samples should be independent of each other. One sample should not influence the other samples.\n",
    "4. Sample size should be not more than 10% of the population when sampling is done without replacement.\n",
    "5. The underlying population distribution should have a finite variance."
   ]
  },
  {
   "cell_type": "code",
   "execution_count": null,
   "id": "00126a70-0738-4dab-b53a-2b3cb7164632",
   "metadata": {},
   "outputs": [],
   "source": []
  }
 ],
 "metadata": {
  "kernelspec": {
   "display_name": "Python 3 (ipykernel)",
   "language": "python",
   "name": "python3"
  },
  "language_info": {
   "codemirror_mode": {
    "name": "ipython",
    "version": 3
   },
   "file_extension": ".py",
   "mimetype": "text/x-python",
   "name": "python",
   "nbconvert_exporter": "python",
   "pygments_lexer": "ipython3",
   "version": "3.10.8"
  }
 },
 "nbformat": 4,
 "nbformat_minor": 5
}
