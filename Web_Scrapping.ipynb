{
 "cells": [
  {
   "cell_type": "markdown",
   "id": "a487a657-4d6d-4c73-a037-b321610a3f28",
   "metadata": {},
   "source": [
    "#### Q1. What is Web Scraping? Why is it Used? Give three areas where Web Scraping is used to get data."
   ]
  },
  {
   "cell_type": "markdown",
   "id": "ce24e8cd-a6aa-4000-81c0-706941749a5d",
   "metadata": {},
   "source": [
    "Web scraping is the process of automatically extracting data from websites. It involves fetching web pages, parsing their HTML or XML structure, and extracting the desired data elements.\n",
    "\n",
    "Web scraping is used to gather information from websites in an automated manner, saving time and effort compared to manual data collection.\n",
    "\n",
    "Web Scrapping is used in,\n",
    "1. Market Research\n",
    "2. Financial and investment analysis\n",
    "3. Content monitering"
   ]
  },
  {
   "cell_type": "markdown",
   "id": "35038550-ea72-4fed-99d9-f05f1ac9fd65",
   "metadata": {},
   "source": [
    "#### Q2. What are the different methods used for Web Scraping?"
   ]
  },
  {
   "cell_type": "markdown",
   "id": "5cddaf50-c60c-4be0-bfad-0fdc8cce43c2",
   "metadata": {},
   "source": [
    "1. Manual Extraction: This method is easiest but most time consuming, Each data is copied from the website by visiting it and pasting it in spreadsheet or other document.\n",
    "2. Using Programs: This method uses different programming language such as python and libraries like beautiful Soup to refine and extract the data with combination with some other functions.\n",
    "3. API Access: Some websites provide APIs (Application Programming Interfaces) that allow developers to access and retrieve data in a structured and controlled manner. APIs provide a more reliable and efficient way to obtain data compared to web scraping, as they are specifically designed for data retrieval"
   ]
  },
  {
   "cell_type": "markdown",
   "id": "3fbda2e0-6914-46db-9661-e441cf156517",
   "metadata": {},
   "source": [
    "#### Q3. What is Beautiful Soup? Why is it used?"
   ]
  },
  {
   "cell_type": "markdown",
   "id": "d3d1708f-33fb-4c4c-8b06-eff9c94df0b7",
   "metadata": {},
   "source": [
    "Beautiful Soup is a python library. It is used to refine the data during web scrapping."
   ]
  },
  {
   "cell_type": "markdown",
   "id": "4daf48cd-0874-4985-b6cd-efb5b9bdeaeb",
   "metadata": {},
   "source": [
    "#### Q4. Why is flask used in this Web Scraping project?"
   ]
  },
  {
   "cell_type": "markdown",
   "id": "0dc56b3d-f31b-436d-80df-cf7d684585ee",
   "metadata": {},
   "source": [
    "Flask is used in web scraping project to involve APIs in it. In a web scraping project, you can use Flask to set up endpoints that trigger the scraping process when accessed. It allows you to define the URL patterns and associated functions to handle different scraping tasks or data retrieval.\n",
    "\n",
    "Also, Flask can integrate with other python libraries seamlessly."
   ]
  },
  {
   "cell_type": "markdown",
   "id": "7b30e810-b39e-44de-9363-85c3ee680972",
   "metadata": {},
   "source": [
    "#### Q5. Write the names of AWS services used in this project. Also, explain the use of each service."
   ]
  },
  {
   "cell_type": "markdown",
   "id": "74f16a15-d367-4281-95f7-1ec1d5795be3",
   "metadata": {},
   "source": [
    "The AWS services used in the project are \n",
    "1. Bean Stack: It is used to setup a Cloud computer.\n",
    "2. Code Pipeline: It is used to import the webscrapper from github to the Cloud(AWS)."
   ]
  },
  {
   "cell_type": "code",
   "execution_count": null,
   "id": "e8966c61-b096-49a0-8782-428749088963",
   "metadata": {},
   "outputs": [],
   "source": []
  }
 ],
 "metadata": {
  "kernelspec": {
   "display_name": "Python 3 (ipykernel)",
   "language": "python",
   "name": "python3"
  },
  "language_info": {
   "codemirror_mode": {
    "name": "ipython",
    "version": 3
   },
   "file_extension": ".py",
   "mimetype": "text/x-python",
   "name": "python",
   "nbconvert_exporter": "python",
   "pygments_lexer": "ipython3",
   "version": "3.10.8"
  }
 },
 "nbformat": 4,
 "nbformat_minor": 5
}
