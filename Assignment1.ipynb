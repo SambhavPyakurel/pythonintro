{
 "cells": [
  {
   "cell_type": "markdown",
   "id": "a61e77d0-0c72-43cd-891e-f472ba5f1673",
   "metadata": {},
   "source": [
    "Q1. Create one variable containing following type of data:\n",
    "(i) string\n",
    "(ii) list\n",
    "(iii) float\n",
    "(iv) tuple"
   ]
  },
  {
   "cell_type": "code",
   "execution_count": 1,
   "id": "1e3336c7-32ab-4ce2-b323-9a3701e54cf2",
   "metadata": {},
   "outputs": [
    {
     "data": {
      "text/plain": [
       "str"
      ]
     },
     "execution_count": 1,
     "metadata": {},
     "output_type": "execute_result"
    }
   ],
   "source": [
    "#String\n",
    "\n",
    "a='String'\n",
    "\n",
    "type(a)"
   ]
  },
  {
   "cell_type": "code",
   "execution_count": 2,
   "id": "0fafa775-31ea-4c52-97f5-1212641af6d7",
   "metadata": {},
   "outputs": [
    {
     "data": {
      "text/plain": [
       "list"
      ]
     },
     "execution_count": 2,
     "metadata": {},
     "output_type": "execute_result"
    }
   ],
   "source": [
    "#list\n",
    "\n",
    "li=[1,2.2,'str']\n",
    "\n",
    "type(li)"
   ]
  },
  {
   "cell_type": "code",
   "execution_count": 3,
   "id": "1c43c960-e5f0-4ab3-90c0-16925ee434f3",
   "metadata": {},
   "outputs": [
    {
     "data": {
      "text/plain": [
       "float"
      ]
     },
     "execution_count": 3,
     "metadata": {},
     "output_type": "execute_result"
    }
   ],
   "source": [
    "#float\n",
    "\n",
    "b=1.9\n",
    "\n",
    "type(b)"
   ]
  },
  {
   "cell_type": "code",
   "execution_count": 4,
   "id": "67289ed5-9916-4166-ad3c-8739e3c635aa",
   "metadata": {},
   "outputs": [
    {
     "data": {
      "text/plain": [
       "tuple"
      ]
     },
     "execution_count": 4,
     "metadata": {},
     "output_type": "execute_result"
    }
   ],
   "source": [
    "#tuple\n",
    "\n",
    "tup=(1,2.2,'str')\n",
    "\n",
    "type(tup)"
   ]
  },
  {
   "cell_type": "markdown",
   "id": "7a30ab56-d55b-4116-8fe8-35e1c54f3d44",
   "metadata": {},
   "source": [
    "Q2. Given are some following variables containing data:\n",
    "(i) var1 = ‘ ‘\n",
    "(ii) var2 = ‘[ DS , ML , Python]’\n",
    "(iii) var3 = [ ‘DS’ , ’ML’ , ‘Python’ ]\n",
    "(iv) var4 = 1.\n",
    "\n",
    "What will be the data type of the above given variable."
   ]
  },
  {
   "cell_type": "markdown",
   "id": "9d7769b9-6aeb-4d06-bf06-b34f93456371",
   "metadata": {},
   "source": [
    "var1 = String\n",
    "var2 = String\n",
    "var3 = List\n",
    "var4 = float"
   ]
  },
  {
   "cell_type": "markdown",
   "id": "90629337-4e50-4782-a08a-b47a0a9ceb4e",
   "metadata": {},
   "source": [
    "Q3. Explain the use of the following operators using an example:\n",
    "(i) /\n",
    "(ii) %\n",
    "(iii) //\n",
    "(iv) **"
   ]
  },
  {
   "cell_type": "code",
   "execution_count": 6,
   "id": "7f254af7-b497-49ac-9977-b3b24d60eb8a",
   "metadata": {},
   "outputs": [
    {
     "data": {
      "text/plain": [
       "0.8333333333333334"
      ]
     },
     "execution_count": 6,
     "metadata": {},
     "output_type": "execute_result"
    }
   ],
   "source": [
    "# /: '/' is division operator. It is used to find the quotient of a division. \n",
    "\n",
    "#e.g.\n",
    "\n",
    "5/6\n",
    "\n",
    "#here 0.8333 is the quotient of the division of 5 by 6."
   ]
  },
  {
   "cell_type": "code",
   "execution_count": 16,
   "id": "5ab0a407-6521-4982-97c3-423066959b86",
   "metadata": {},
   "outputs": [
    {
     "data": {
      "text/plain": [
       "1"
      ]
     },
     "execution_count": 16,
     "metadata": {},
     "output_type": "execute_result"
    }
   ],
   "source": [
    "# %: '%' is Modulus operator. It is used to find the reminder of a division.\n",
    "\n",
    "#e.g.\n",
    "\n",
    "10%3\n",
    "\n",
    "# here 1 is the reminder of the division of 10 by 3."
   ]
  },
  {
   "cell_type": "code",
   "execution_count": 21,
   "id": "3d5687f2-3e1a-4acc-bda9-f4811f04e59f",
   "metadata": {},
   "outputs": [
    {
     "data": {
      "text/plain": [
       "3"
      ]
     },
     "execution_count": 21,
     "metadata": {},
     "output_type": "execute_result"
    }
   ],
   "source": [
    "# //: '//' is floor division operator. It is used the find the integer part of quotient of the division.\n",
    "\n",
    "#e.g.\n",
    "\n",
    "10//3\n",
    "\n",
    "\n",
    "#here 3 is the output which is the integer part of the quotient. Had we used '/' only insted of '//' output would be 3.33333."
   ]
  },
  {
   "cell_type": "code",
   "execution_count": 22,
   "id": "ff11cd57-23d6-4ce3-8e4f-10b82e05db0b",
   "metadata": {},
   "outputs": [
    {
     "data": {
      "text/plain": [
       "8"
      ]
     },
     "execution_count": 22,
     "metadata": {},
     "output_type": "execute_result"
    }
   ],
   "source": [
    "# **: '**' is Exponentiation operator. It is used to find the value of exponent to base.\n",
    "\n",
    "#e.g.\n",
    "\n",
    "2**3\n",
    "\n",
    "# here 8 is the value of 2 raise to power 3."
   ]
  },
  {
   "cell_type": "markdown",
   "id": "9e469017-c52d-431f-94cf-be5c58ffd7ea",
   "metadata": {},
   "source": [
    "Q4. Create a list of length 10 of your choice containing multiple types of data. Using for loop print the\n",
    "element and its data type."
   ]
  },
  {
   "cell_type": "code",
   "execution_count": 29,
   "id": "0815b94e-a9c0-4dc0-954b-f2ec0f500c20",
   "metadata": {},
   "outputs": [
    {
     "name": "stdout",
     "output_type": "stream",
     "text": [
      "element: 1 \t\t datatype: <class 'int'>\n",
      "element: 2 \t\t datatype: <class 'int'>\n",
      "element: 3 \t\t datatype: <class 'int'>\n",
      "element: 4 \t\t datatype: <class 'int'>\n",
      "element: 5 \t\t datatype: <class 'int'>\n",
      "element: str1 \t\t datatype: <class 'str'>\n",
      "element: str2 \t\t datatype: <class 'str'>\n",
      "element: True \t\t datatype: <class 'bool'>\n",
      "element: 2.3 \t\t datatype: <class 'float'>\n",
      "element: (4+5j) \t\t datatype: <class 'complex'>\n"
     ]
    }
   ],
   "source": [
    "mylist=[1,2,3,4,5,'str1','str2',True,2.3,4+5j]\n",
    "\n",
    "for i in mylist :\n",
    "    print(\"element:\",i,\"\\t\\t datatype:\",type(i))"
   ]
  },
  {
   "cell_type": "markdown",
   "id": "36237cc6-cbaa-4ec2-9f12-b01dfb7302dc",
   "metadata": {},
   "source": [
    "Q5. Using a while loop, verify if the number A is purely divisible by number B and if so then how many\n",
    "times it can be divisible."
   ]
  },
  {
   "cell_type": "code",
   "execution_count": 38,
   "id": "6ce562ca-8d70-44ce-91f8-fcef8eefd4f5",
   "metadata": {},
   "outputs": [
    {
     "name": "stdin",
     "output_type": "stream",
     "text": [
      "Enter the number A: 8\n",
      "Enter the number B: 2\n"
     ]
    },
    {
     "name": "stdout",
     "output_type": "stream",
     "text": [
      "8 is divisible by  2 , 3 times.\n"
     ]
    }
   ],
   "source": [
    "A=int(input(\"Enter the number A:\"))\n",
    "B=int(input(\"Enter the number B:\"))\n",
    "C=A;\n",
    "c=0;\n",
    "while A%B==0 :\n",
    "    A=A//B\n",
    "    c+=1;\n",
    "\n",
    "if c>0 :\n",
    "    print(C,\"is divisible by \",B,\",\" ,c ,\"times.\");\n",
    "else :\n",
    "    print(C,\" is not divisible by \",B);"
   ]
  },
  {
   "cell_type": "markdown",
   "id": "c64bd04e-edbb-4d94-84d6-0f7defe55382",
   "metadata": {},
   "source": [
    "Create a list containing 25 int type data. Using for loop and if-else condition print if the element is\n",
    "divisible by 3 or not."
   ]
  },
  {
   "cell_type": "code",
   "execution_count": 45,
   "id": "977ec094-6b5e-4bb2-a7f9-0809ed06d257",
   "metadata": {},
   "outputs": [
    {
     "name": "stdout",
     "output_type": "stream",
     "text": [
      "1 is not divisible by 3.\n",
      "2 is not divisible by 3.\n",
      "3 is divisible by 3.\n",
      "4 is not divisible by 3.\n",
      "5 is not divisible by 3.\n",
      "6 is divisible by 3.\n",
      "7 is not divisible by 3.\n",
      "8 is not divisible by 3.\n",
      "9 is divisible by 3.\n",
      "100 is not divisible by 3.\n",
      "25 is not divisible by 3.\n",
      "21 is divisible by 3.\n",
      "23 is not divisible by 3.\n",
      "56 is not divisible by 3.\n",
      "39 is divisible by 3.\n",
      "88 is not divisible by 3.\n",
      "12 is divisible by 3.\n",
      "77 is not divisible by 3.\n",
      "89 is not divisible by 3.\n",
      "33 is divisible by 3.\n",
      "132 is divisible by 3.\n",
      "231 is divisible by 3.\n",
      "456 is divisible by 3.\n",
      "654 is divisible by 3.\n",
      "789 is divisible by 3.\n"
     ]
    }
   ],
   "source": [
    "li=[1,2,3,4,5,6,7,8,9,100,25,21,23,56,39,88,12,77,89,33,132,231,456,654,789]\n",
    "\n",
    "for i in li :\n",
    "    if i%3==0 :\n",
    "        print(i,\"is divisible by 3.\")\n",
    "    else :\n",
    "        print(i,\"is not divisible by 3.\")\n"
   ]
  },
  {
   "cell_type": "markdown",
   "id": "8146ac1b-4424-4333-809a-72b956b95a87",
   "metadata": {},
   "source": [
    "Q7. What do you understand about mutable and immutable data types? Give examples for both showing\n",
    "this property."
   ]
  },
  {
   "cell_type": "markdown",
   "id": "27a1d6ba-433d-45c9-87fa-371d4734b51e",
   "metadata": {},
   "source": [
    "For Mutable data types the specific element of the variable can be changed.\n",
    "For Immutable data types the specific element of the variable cannot be changed."
   ]
  },
  {
   "cell_type": "code",
   "execution_count": 50,
   "id": "4813bd77-fe30-4fe6-a438-d39c3f0d6874",
   "metadata": {},
   "outputs": [
    {
     "name": "stdout",
     "output_type": "stream",
     "text": [
      "[1, 2, 3, 'string']\n"
     ]
    }
   ],
   "source": [
    "#e.g. mutalble datatype\n",
    "\n",
    "mylist=[1,2,3,'Str']\n",
    "mylist[3]='string'\n",
    "print(mylist)"
   ]
  },
  {
   "cell_type": "markdown",
   "id": "1c389c53-2924-4b1a-99f7-e7e09c466785",
   "metadata": {},
   "source": [
    "Here the element of index 3 is changed from 'str' to 'string'. Which is one of the element of the variable mylist of datatype list that implies specific data of this variable can be changed. Therefore the list is a mutable datatype."
   ]
  },
  {
   "cell_type": "code",
   "execution_count": 51,
   "id": "2622851f-90c5-4a6b-86d2-7eef30dd22e5",
   "metadata": {},
   "outputs": [
    {
     "ename": "TypeError",
     "evalue": "'tuple' object does not support item assignment",
     "output_type": "error",
     "traceback": [
      "\u001b[0;31m---------------------------------------------------------------------------\u001b[0m",
      "\u001b[0;31mTypeError\u001b[0m                                 Traceback (most recent call last)",
      "Cell \u001b[0;32mIn[51], line 4\u001b[0m\n\u001b[1;32m      1\u001b[0m \u001b[38;5;66;03m#e.g. immutable datatype\u001b[39;00m\n\u001b[1;32m      3\u001b[0m mytuple\u001b[38;5;241m=\u001b[39m(\u001b[38;5;241m1\u001b[39m,\u001b[38;5;241m2\u001b[39m,\u001b[38;5;241m3\u001b[39m,\u001b[38;5;124m'\u001b[39m\u001b[38;5;124mstr\u001b[39m\u001b[38;5;124m'\u001b[39m)\n\u001b[0;32m----> 4\u001b[0m \u001b[43mmytuple\u001b[49m\u001b[43m[\u001b[49m\u001b[38;5;241;43m3\u001b[39;49m\u001b[43m]\u001b[49m\u001b[38;5;241m=\u001b[39m\u001b[38;5;124m'\u001b[39m\u001b[38;5;124mstring\u001b[39m\u001b[38;5;124m'\u001b[39m\n\u001b[1;32m      5\u001b[0m \u001b[38;5;28mprint\u001b[39m(mytuple)\n",
      "\u001b[0;31mTypeError\u001b[0m: 'tuple' object does not support item assignment"
     ]
    }
   ],
   "source": [
    "#e.g. immutable datatype\n",
    "\n",
    "mytuple=(1,2,3,'str')\n",
    "mytuple[3]='string'\n",
    "print(mytuple)"
   ]
  },
  {
   "cell_type": "markdown",
   "id": "281b5292-95ea-4b3f-9473-0781e364a1b6",
   "metadata": {},
   "source": [
    "Here tuple is an immutable datatype that is why the specific data in the variable mytuple couldn't be changed."
   ]
  }
 ],
 "metadata": {
  "kernelspec": {
   "display_name": "Python 3 (ipykernel)",
   "language": "python",
   "name": "python3"
  },
  "language_info": {
   "codemirror_mode": {
    "name": "ipython",
    "version": 3
   },
   "file_extension": ".py",
   "mimetype": "text/x-python",
   "name": "python",
   "nbconvert_exporter": "python",
   "pygments_lexer": "ipython3",
   "version": "3.10.8"
  }
 },
 "nbformat": 4,
 "nbformat_minor": 5
}
