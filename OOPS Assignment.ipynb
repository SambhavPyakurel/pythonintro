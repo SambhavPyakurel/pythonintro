{
 "cells": [
  {
   "cell_type": "markdown",
   "id": "ac3bd653-f38c-44bc-8a2e-b8cd30428c2d",
   "metadata": {},
   "source": [
    "#### Q1. Explain Class and Object with respect to Object-Oriented Programming. Give a suitable example."
   ]
  },
  {
   "cell_type": "markdown",
   "id": "4e190888-5847-432a-8fae-5359edbd1d17",
   "metadata": {},
   "source": [
    "Class is like blueprint that defines the characteristics of something. It gives the general overview of the things. It is something that can be called category or group of things. It defines the attributes and method that a object can possess. It is declared using a keyword called 'class'.\n",
    "\n",
    "An object is a specific instance of a class. It is created from the class blueprint and represents a concrete thing or entity. Objects have their own unique characteristics and can perform actions defined by the class. It is declared as (object_name) = class_name()\n",
    "\n",
    "e.g. lets compare class and object with real life world,\n",
    "\n",
    "'class' is when someone says a funpark, a major overview will come in out mind, it have rollercoasters, swimming pools, waterparks, arcade games etc.\n",
    "\n",
    "'Object' is when someone says disneyland, now a new picture will be formed in our mind, it will have same attributes as before in class but now it is themed with the disney characters like spideman roller coaster, frozen waterpark and all."
   ]
  },
  {
   "cell_type": "markdown",
   "id": "29b8220f-12ef-41c8-9e89-8efcfddbcc4d",
   "metadata": {},
   "source": [
    "#### Q2. Name the four pillars of OOPs."
   ]
  },
  {
   "cell_type": "markdown",
   "id": "b5a46b7b-ba14-4ff0-a7ab-89799cb7db38",
   "metadata": {},
   "source": [
    "The four pillars of OOPS are:\n",
    "\n",
    "1. Polymorphism\n",
    "2. Encaptulation\n",
    "3. Inheritance\n",
    "4. Abstraction"
   ]
  },
  {
   "cell_type": "markdown",
   "id": "cccb5fc9-d196-429b-8cd5-97c1bc6d18b4",
   "metadata": {},
   "source": [
    "#### Q3. Explain why the __init__() function is used. Give a suitable example."
   ]
  },
  {
   "cell_type": "markdown",
   "id": "8cd5548d-815c-40ac-b511-2d8bb77525ae",
   "metadata": {},
   "source": [
    "init() function is used to assign values to the class properties."
   ]
  },
  {
   "cell_type": "markdown",
   "id": "5267cb0b-bd20-4ac7-97cb-31a1985e69ab",
   "metadata": {},
   "source": [
    "#e.g\n",
    "\n",
    "class car:\n",
    "    def __init__(self, company, model, year):\n",
    "        self.company=company\n",
    "        self.model=model\n",
    "        self.year=year\n",
    "        \n",
    "    def returns():\n",
    "        return self.company, self.model, self.year\n",
    "    \n",
    "\n",
    "car_obj=car(\"Toyota\", \"Corolla\",\"2023\")\n",
    "\n",
    "print(car_obj.company, car_obj.model, car_obj.year)"
   ]
  },
  {
   "cell_type": "markdown",
   "id": "e18b8133-e3df-4668-9eec-89c077393cd1",
   "metadata": {},
   "source": [
    "Here, The init() function is used to assign values to the attributes like 'company','model' and 'year' of the class 'car' that defines the object car_obj."
   ]
  },
  {
   "cell_type": "markdown",
   "id": "b2bbe518-3437-426e-a7f9-ea023c5d1a09",
   "metadata": {},
   "source": [
    "#### Q4. Why self is used in OOPs?"
   ]
  },
  {
   "cell_type": "markdown",
   "id": "79e90bfc-8d95-4fab-af79-ff7568cd04e4",
   "metadata": {},
   "source": [
    "'self' represents the instance of class. This allows us to access variables, attributes, and methods of a defined class in Python.\n",
    "\n",
    "for example in above question, self is used to access the attributes like company, model and year."
   ]
  },
  {
   "cell_type": "markdown",
   "id": "eda3860a-83a7-4572-9cb5-67d351411d12",
   "metadata": {},
   "source": [
    "#### Q5. What is inheritance? Give an example for each type of inheritance."
   ]
  },
  {
   "cell_type": "markdown",
   "id": "916988c7-6cab-4424-94ca-8c9309817ebd",
   "metadata": {},
   "source": [
    "Inheritence is one of the pillars of the OOP. Basically, due to this property a class can inherit the property of other class, it increases the code reuseability and creates a heirachy between parent and derived classes."
   ]
  },
  {
   "cell_type": "code",
   "execution_count": 30,
   "id": "2ab7501e-12e9-4b6f-b373-fb5346bce937",
   "metadata": {},
   "outputs": [
    {
     "name": "stdout",
     "output_type": "stream",
     "text": [
      "This is single inheritance.\n"
     ]
    }
   ],
   "source": [
    "#e.g\n",
    "\n",
    "#single inheritance\n",
    "\n",
    "\n",
    "class class1:\n",
    "    def func(self):\n",
    "        print(\"This is single inheritance.\")\n",
    "\n",
    "class class2(class1):\n",
    "    pass\n",
    "        \n",
    "x=class2()\n",
    "\n",
    "x.func()"
   ]
  },
  {
   "cell_type": "code",
   "execution_count": 49,
   "id": "245e81e2-9bbe-4932-9254-701233904702",
   "metadata": {},
   "outputs": [
    {
     "name": "stdout",
     "output_type": "stream",
     "text": [
      "This is inheritance 1.\n",
      "This is inheritance 2.\n"
     ]
    }
   ],
   "source": [
    "#multiple inheritance\n",
    "\n",
    "class class1:\n",
    "    def func1(self):\n",
    "        print(\"This is inheritance 1.\")\n",
    "\n",
    "class class2:\n",
    "    def func2(self):\n",
    "        print(\"This is inheritance 2.\")\n",
    "    \n",
    "class class3(class1,class2):\n",
    "    pass\n",
    "\n",
    "x= class3()\n",
    "\n",
    "x.func1()\n",
    "x.func2()"
   ]
  },
  {
   "cell_type": "code",
   "execution_count": 34,
   "id": "e677f2b6-9781-4ab2-a1a3-ef20de3df8b1",
   "metadata": {},
   "outputs": [
    {
     "name": "stdout",
     "output_type": "stream",
     "text": [
      "This is multilevel inheritance.\n"
     ]
    }
   ],
   "source": [
    "#multilevel inheritance\n",
    "\n",
    "class class1:\n",
    "    def func1(self):\n",
    "        print(\"This is multilevel inheritance.\")\n",
    "\n",
    "class class2(class1):\n",
    "    pass\n",
    "    \n",
    "class class3(class2):\n",
    "    pass\n",
    "\n",
    "x= class3()\n",
    "\n",
    "x.func1()\n"
   ]
  },
  {
   "cell_type": "code",
   "execution_count": 35,
   "id": "954c467c-10db-405a-9e7b-5b6229b4f68f",
   "metadata": {},
   "outputs": [
    {
     "name": "stdout",
     "output_type": "stream",
     "text": [
      "This is heirarchial inheritance.\n",
      "This is heirarchial inheritance.\n"
     ]
    }
   ],
   "source": [
    "#heirarchial inheritance\n",
    "\n",
    "class class1:\n",
    "    def func1(self):\n",
    "        print(\"This is heirarchial inheritance.\")\n",
    "\n",
    "class class2(class1):\n",
    "    pass\n",
    "    \n",
    "class class3(class1):\n",
    "    pass\n",
    "\n",
    "x= class3()\n",
    "y=class2()\n",
    "\n",
    "x.func1()\n",
    "x.func1()"
   ]
  },
  {
   "cell_type": "code",
   "execution_count": 48,
   "id": "eca4d759-d590-423b-80f9-2a7b86b71be3",
   "metadata": {},
   "outputs": [
    {
     "name": "stdout",
     "output_type": "stream",
     "text": [
      "This is inheritance 1.\n",
      "This is inheritance 2.\n",
      "This is inheritance 3.\n"
     ]
    }
   ],
   "source": [
    "#hybrid inheritance\n",
    "\n",
    "class class1:\n",
    "    def func1(self):\n",
    "        print(\"This is inheritance 1.\")\n",
    "\n",
    "class class2(class1):\n",
    "    def func2(self):\n",
    "        print(\"This is inheritance 2.\")\n",
    "        \n",
    "class class3(class1):\n",
    "    def func3(self):\n",
    "        print(\"This is inheritance 3.\")\n",
    "        \n",
    "    \n",
    "class class4(class3,class2):\n",
    "    pass\n",
    "    \n",
    "    \n",
    "\n",
    "x= class4()\n",
    "\n",
    "x.func1()\n",
    "x.func2()\n",
    "x.func3()\n"
   ]
  },
  {
   "cell_type": "code",
   "execution_count": null,
   "id": "1b7a09be-f23d-45fe-bffe-571c35bd55c0",
   "metadata": {},
   "outputs": [],
   "source": []
  }
 ],
 "metadata": {
  "kernelspec": {
   "display_name": "Python 3 (ipykernel)",
   "language": "python",
   "name": "python3"
  },
  "language_info": {
   "codemirror_mode": {
    "name": "ipython",
    "version": 3
   },
   "file_extension": ".py",
   "mimetype": "text/x-python",
   "name": "python",
   "nbconvert_exporter": "python",
   "pygments_lexer": "ipython3",
   "version": "3.10.8"
  }
 },
 "nbformat": 4,
 "nbformat_minor": 5
}
