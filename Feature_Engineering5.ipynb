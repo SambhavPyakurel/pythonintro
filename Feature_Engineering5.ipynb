{
 "cells": [
  {
   "cell_type": "markdown",
   "id": "673d7d1e-241a-4ae8-9d76-2001fc4f5ae2",
   "metadata": {},
   "source": [
    "#### Q1. What is the difference between Ordinal Encoding and Label Encoding? Provide an example of when you might choose one over the other."
   ]
  },
  {
   "cell_type": "markdown",
   "id": "8d7fe3f5-593f-4779-98ac-8d6947c95350",
   "metadata": {},
   "source": [
    "Ordinal Encoding and Label Encoding are two techniques for converting categorical variables into numeric values. The main differences are:\n",
    "\n",
    "- Ordinal Encoding preserves the ordering of categories if there is a natural ordering. It assigns integers starting from 0 in order of the categories.\n",
    "\n",
    "- Label Encoding simply assigns a unique integer to each category. It does not preserve any ordering of the categories.\n",
    "\n",
    "An example:\n",
    "Let's say we have a column with fruit names:\n",
    "\n",
    "|Category|\n",
    "|--|\n",
    "|Apple|    \n",
    "|Orange|\n",
    "|Banana|\n",
    "|Mango|\n",
    "\n",
    "Using Ordinal Encoding we could encode it as:\n",
    "\n",
    "|Category  | Ordinal Encoding|\n",
    "|--|--|\n",
    "|Apple     |    0|\n",
    "|Orange    |    1| \n",
    "|Banana    |    2|\n",
    "|Mango     |    3|\n",
    "\n",
    "Using Label Encoding we could encode it as:\n",
    "\n",
    "Category  |  Label Encoding\n",
    "|--|--|\n",
    "|Apple     |       0|  \n",
    "|Orange    |       1|\n",
    "|Banana    |       2| \n",
    "|Mango     |       3|\n",
    "\n",
    "You would choose Ordinal Encoding if the categories have a natural ordering, for example days of the week or sizes. Label Encoding does not make use of any ordering, so it is more general purpose like the example above."
   ]
  },
  {
   "cell_type": "markdown",
   "id": "af72cf7d-a9a9-46df-8ea7-8bef92b257dc",
   "metadata": {},
   "source": [
    "#### Q2. Explain how Target Guided Ordinal Encoding works and provide an example of when you might use it in a machine learning project."
   ]
  },
  {
   "cell_type": "markdown",
   "id": "3fea67e2-cde4-436f-a562-c9ab5ba4c2bf",
   "metadata": {},
   "source": [
    "Target Guided Ordinal Encoding is a technique where you encode the categorical variables in a way that maximizes the separation between classes in the target variable.\n",
    "\n",
    "Here's how it works:\n",
    "\n",
    "1. Split your data into training and test sets.\n",
    "\n",
    "2. Fit an ordinal encoding on the training set categories. This converts each category to an integer.\n",
    "\n",
    "3. Train a simple classifier (like logistic regression) on the training set using the ordinally encoded features. \n",
    "\n",
    "4. For each category of each feature, calculate the difference in weighted mean target values between adjacent ordinally encoded values. The weighted mean is calculated using the predictions from the trained classifier.\n",
    "\n",
    "5. Reorder the encoded values of each feature's categories so that the adjacent encoded values have the largest difference in weighted mean target values. This maximizes the separation between classes.\n",
    "\n",
    "6. Refit the ordinal encoder on the training set with the reordered categories.\n",
    "\n",
    "7. Apply the  same encoding to the test set.\n",
    "\n",
    "8. Train your actual model on the transformed training data using the target guided encoding.\n",
    "\n",
    "\n",
    "\n",
    "Target Guided Ordinal Encoding can be useful when:\n",
    "\n",
    "1. You have categorical features that you suspect may be correlated with your target variable, but you don't know the exact ordering of the categories.\n",
    "\n",
    "2. The categories have no inherent natural ordering. Ordinal Encoding cannot be used. \n",
    "\n",
    "3. The categories are not equally correlated with the target. Some categories may have a stronger influence.\n",
    "\n",
    "An example:\n",
    "\n",
    "Suppose you have a dataset of customer purchase records, with the following:\n",
    "\n",
    "- Customer location (NY, LA, Chicago, Miami)\n",
    "- Product category (Books, Electronics, Apparel, Food)\n",
    "- Purchase amount ($)\n",
    "\n",
    "And the target variable is:\n",
    "\n",
    "- High value customer (yes, no)\n",
    "\n",
    "Here, the customer location and product category features are categorical with no inherent ordering. But some locations and product categories may be more indicative of high value customers.\n",
    "\n",
    "By using Target Guided Ordinal Encoding:\n",
    "\n",
    "- We can train a simple model on the training set that tries to predict the target based only on the categorical features.\n",
    "\n",
    "- We calculate the weighted mean target value for each category (based on the model's predictions).\n",
    "\n",
    "- We reorder the encodings so that categories with higher weighted mean target values get lower encoded values.\n",
    "\n",
    "This may result in:\n",
    "\n",
    "Location:    \n",
    "\n",
    "NY -> 0    \n",
    "LA -> 1\n",
    "Miami -> 2  \n",
    "Chicago -> 3\n",
    "\n",
    "Product:\n",
    "\n",
    "Electronics -> 0     \n",
    "Apparel -> 1\n",
    "Books -> 2\n",
    "Food -> 3\n",
    "\n",
    "Because customers in NY and purchasing Electronics have the highest correlation with being a high value customer, they get the lowest encoded values.\n",
    "\n",
    "We can then train our actual model using this encoding, which may improve its ability to identify high value customers."
   ]
  },
  {
   "cell_type": "markdown",
   "id": "25c62206-ebef-4283-b63d-a93f9cd81c2c",
   "metadata": {},
   "source": [
    "#### Q3. Define covariance and explain why it is important in statistical analysis. How is covariance calculated?"
   ]
  },
  {
   "cell_type": "markdown",
   "id": "eebda21e-57de-466c-a972-702c51c4437e",
   "metadata": {},
   "source": [
    "Covariance is a measure of how two variables change in relation to each other. It is important in statistical analysis because it indicates the strength and direction of the linear relationship between two variables.\n",
    "\n",
    "Covariance is calculated as follows:\n",
    "\n",
    "covariance(X, Y) = E[(X-E[X])(Y-E[Y])]\n",
    "\n",
    "Where:\n",
    "\n",
    "- E[X] is the expected value (mean) of X \n",
    "- E[Y] is the expected value (mean) of Y\n",
    "\n",
    "In plain terms, you:\n",
    "\n",
    "1. Subtract the mean from each data point for both variables \n",
    "2. Multiply the differences for corresponding data points\n",
    "3. Take the average (expected value) of the products\n",
    "\n",
    "The result indicates:\n",
    "\n",
    "- A positive covariance means the variables tend to increase and decrease together\n",
    "- A negative covariance means the variables tend to move in opposite directions  \n",
    "- A covariance near 0 means the variables are linearly unrelated\n",
    "\n",
    "Knowing the covariance between variables can provide valuable insights:\n",
    "\n",
    "- It indicates how strongly related two variables are\n",
    "- It informs how changes in one variable may affect the other\n",
    "- It helps determine if two variables should be included together in a model\n",
    "\n",
    "For example, weight and height will likely have a positive covariance, while height and age may have a closer to 0 covariance.\n",
    "\n",
    "So in summary, calculating and understanding the covariance between variables is essential for deeper statistical analysis and model building."
   ]
  },
  {
   "cell_type": "markdown",
   "id": "cc3e7e7e-e093-41b2-96d1-0f7dbef79455",
   "metadata": {},
   "source": [
    "#### Q4. For a dataset with the following categorical variables: Color (red, green, blue), Size (small, medium, large), and Material (wood, metal, plastic), perform label encoding using Python's scikit-learn library. Show your code and explain the output."
   ]
  },
  {
   "cell_type": "code",
   "execution_count": 12,
   "id": "45e829eb-538a-48c0-9b7a-b1c00062d267",
   "metadata": {},
   "outputs": [
    {
     "name": "stdout",
     "output_type": "stream",
     "text": [
      "[2 1 0] \n",
      " [2 1 0] \n",
      " [2 0 1]\n"
     ]
    },
    {
     "name": "stderr",
     "output_type": "stream",
     "text": [
      "/opt/conda/lib/python3.10/site-packages/sklearn/preprocessing/_label.py:116: DataConversionWarning: A column-vector y was passed when a 1d array was expected. Please change the shape of y to (n_samples, ), for example using ravel().\n",
      "  y = column_or_1d(y, warn=True)\n",
      "/opt/conda/lib/python3.10/site-packages/sklearn/preprocessing/_label.py:116: DataConversionWarning: A column-vector y was passed when a 1d array was expected. Please change the shape of y to (n_samples, ), for example using ravel().\n",
      "  y = column_or_1d(y, warn=True)\n",
      "/opt/conda/lib/python3.10/site-packages/sklearn/preprocessing/_label.py:116: DataConversionWarning: A column-vector y was passed when a 1d array was expected. Please change the shape of y to (n_samples, ), for example using ravel().\n",
      "  y = column_or_1d(y, warn=True)\n"
     ]
    }
   ],
   "source": [
    "import pandas as pd\n",
    "from sklearn.preprocessing import LabelEncoder\n",
    "\n",
    "df = pd.DataFrame([['red','small','wood'],\n",
    "                  ['green','medium','metal'],\n",
    "                  ['blue','large','plastic']],columns=['Color','Size','Material'])\n",
    "\n",
    "le=LabelEncoder()\n",
    "\n",
    "encoded_color = le.fit_transform(df[['Color']])\n",
    "encoded_size = le.fit_transform(df[['Size']])\n",
    "encoded_Material = le.fit_transform(df[['Material']])\n",
    "\n",
    "print(encoded_color,'\\n',encoded_size,'\\n',encoded_Material)"
   ]
  },
  {
   "cell_type": "markdown",
   "id": "068c550f-fbba-4f93-a25c-fa1b5b9e691b",
   "metadata": {},
   "source": [
    "This outputs shows that each categorical variable was encoded as follows:\n",
    "\n",
    "For color:\n",
    "\n",
    "red was assigned 2\n",
    "\n",
    "green was assigned 1\n",
    "\n",
    "blue was assigned 0\n",
    "\n",
    "\n",
    "For size:\n",
    "\n",
    "small was assigned 2\n",
    "\n",
    "medium was assigned 1\n",
    "\n",
    "large was assigned 0\n",
    "\n",
    "\n",
    "For material:\n",
    "\n",
    "wood was assigned 2\n",
    "\n",
    "metal was assigned 0\n",
    "\n",
    "plastic was assigned 1\n",
    "\n",
    "Label encoding simply assigns integer values to the unique categories in the order they are alphabetically.\n",
    "\n",
    "This encodes the categorical data as numeric values, which machine learning models require.\n",
    "\n",
    "The encoded values essentially act as \"labels\" for the categories.\n",
    "\n",
    "However, label encoding does not encode any information about:\n",
    "\n",
    "- The ordering of the categories\n",
    "\n",
    "- The similarity between categories\n",
    "\n",
    "It is a simple one-hot mapping of integer values to unique categories."
   ]
  },
  {
   "cell_type": "markdown",
   "id": "12c0bfdb-27e0-4fa7-b42e-3909c998089b",
   "metadata": {},
   "source": [
    "#### Q5. Calculate the covariance matrix for the following variables in a dataset: Age, Income, and Education level. Interpret the results."
   ]
  },
  {
   "cell_type": "code",
   "execution_count": 40,
   "id": "ae4bfa9e-3493-470b-8bc8-7f5f228ea900",
   "metadata": {},
   "outputs": [
    {
     "name": "stdout",
     "output_type": "stream",
     "text": [
      "[[1.2250e+02 1.6125e+05 3.4500e+01]\n",
      " [1.6125e+05 2.2000e+08 4.5000e+04]\n",
      " [3.4500e+01 4.5000e+04 1.0000e+01]]\n"
     ]
    }
   ],
   "source": [
    "import numpy as np\n",
    "\n",
    "age = [32, 45, 28, 56, 39]  \n",
    "income = [50000, 60000, 40000, 80000, 55000]\n",
    "education_level = [12, 16, 10, 18, 14]\n",
    "\n",
    "data = np.array([age,income,education_level])\n",
    "\n",
    "cov_matrix = np.cov(data)\n",
    "print(cov_matrix)\n"
   ]
  },
  {
   "cell_type": "markdown",
   "id": "63d4597d-a293-4c0d-9f86-8871750fe7e6",
   "metadata": {},
   "source": [
    "The variance of Age is approximately 122.50.\n",
    "\n",
    "The variance of Income is approximately 220,000,000 (2.2e+08).\n",
    "\n",
    "The variance of Education level is approximately 10.\n",
    "\n",
    "The covariance between Age and Income is approximately 161,250.\n",
    "\n",
    "The covariance between Age and Education level is approximately 34.50.\n",
    "\n",
    "The covariance between Income and Education level is approximately 45,000.\n",
    "\n",
    "These values represent the covariances between the variables in the dataset. Covariance measures how two variables change together. A positive covariance indicates that when one variable increases, the other tends to increase as well. A negative covariance indicates that when one variable increases, the other tends to decrease. The magnitude of the covariance indicates the strength of the relationship between the variables."
   ]
  },
  {
   "cell_type": "markdown",
   "id": "ad4566f5-a7a1-4209-bfac-5c920761c380",
   "metadata": {},
   "source": [
    "#### Q6. You are working on a machine learning project with a dataset containing several categorical variables, including \"Gender\" (Male/Female), \"Education Level\" (High School/Bachelor's/Master's/PhD), and \"Employment Status\" (Unemployed/Part-Time/Full-Time). Which encoding method would you use for each variable, and why?"
   ]
  },
  {
   "cell_type": "markdown",
   "id": "bcd0ed25-b235-48d5-9bd0-b4a3187f9480",
   "metadata": {},
   "source": [
    "For categorical variables in machine learning projects, I would recommend the following encoding methods:\n",
    "\n",
    "For Gender:\n",
    "- Use one-hot encoding. This will map Male to [1 0] and Female to [0 1]. This preserves the fact that the categories are distinct and non-ordinal.\n",
    "\n",
    "For Education Level:\n",
    "- Use ordinal encoding. This will map High School to 0, Bachelor's to 1, Master's to 2, and PhD to 3. This captures the ordinal nature of the education levels.\n",
    "\n",
    "For Employment Status:\n",
    "- Also use one-hot encoding. This will map Unemployed to [1 0 0], Part-Time to [0 1 0], and Full-Time to [0 0 1]. The categories are nominal and non-ordinal.\n",
    "\n",
    "The reasons for these recommendations are:\n",
    "\n",
    "One-hot encoding:\n",
    "- Preserves the fact that categories are distinct and non-ordinal. \n",
    "- Allows the model to treat each category separately.\n",
    "\n",
    "Ordinal encoding:\n",
    "- Captures the ordering of the categories, which may be important for prediction.\n",
    "- Assigns contiguous integer values.\n",
    "\n",
    "These encoding strategies will translate the qualitative variables into quantitative features that machine learning models can utilize for training and prediction. Using the appropriate encoding method for each variable type will result in the most effective representation of the categorical data.\n",
    "\n",
    "So in summary, I would recommend one-hot encoding for nominal categorical variables, and ordinal encoding for ordinal categorical variables."
   ]
  },
  {
   "cell_type": "markdown",
   "id": "4265b216-a7b9-45a1-84ec-ab9231c611fa",
   "metadata": {},
   "source": [
    "#### Q7. You are analyzing a dataset with two continuous variables, \"Temperature\" and \"Humidity\", and two categorical variables, \"Weather Condition\" (Sunny/Cloudy/Rainy) and \"Wind Direction\" (North/South/East/West). Calculate the covariance between each pair of variables and interpret the results."
   ]
  },
  {
   "cell_type": "markdown",
   "id": "c91cfa9d-043d-4222-9eab-53c857037157",
   "metadata": {},
   "source": [
    "Without seeing the actual data, we cannot calculate the covariances. However, we can generally expect and interpret the results as follows:\n",
    "\n",
    "Temperature and Humidity:\n",
    "We would expect a positive covariance between temperature and humidity. As temperature increases, air can hold more moisture, so humidity levels also tend to rise.\n",
    "\n",
    "Temperature and Weather Condition: \n",
    "We may see different covariances based on the weather condition:\n",
    "\n",
    "- Sunny: Could have a positive covariance if sunny days tend to be warmer.\n",
    "- Cloudy: May have a negative or smaller positive covariance if cloudy days tend to be cooler.  \n",
    "- Rainy: Likely to have a negative covariance as rainy days tend to be cooler.\n",
    "\n",
    "Humidity and Wind Direction:\n",
    "There may be some correlation depending on local weather patterns. For example, winds from a particular direction could bring in more or less moisture. But the covariance could be close to zero, indicating no strong relation.\n",
    "\n",
    "In summary, we would generally expect:\n",
    "\n",
    "- Positive covariance between temperature and humidity \n",
    "- Varying covariances between temperature and weather condition depending on local weather patterns\n",
    "- Possible but uncertain correlation between humidity and wind direction\n",
    "\n",
    "While we cannot calculate the precise covariances without data, we can reason about the likely direction and strength of the relationships based on domain knowledge and intuition about how weather variables tend to covary. Interpreting the covariances would then provide insights into the interplay between the variables in the local context captured by the specific dataset.\n",
    "\n",
    "So in conclusion, interpreting covariances between continuous and categorical variables can yield useful information about how the variables relate and change together, subject to local conditions and data."
   ]
  },
  {
   "cell_type": "code",
   "execution_count": null,
   "id": "c837d07a-7411-47c5-99cb-3f41d2f01f63",
   "metadata": {},
   "outputs": [],
   "source": []
  }
 ],
 "metadata": {
  "kernelspec": {
   "display_name": "Python 3 (ipykernel)",
   "language": "python",
   "name": "python3"
  },
  "language_info": {
   "codemirror_mode": {
    "name": "ipython",
    "version": 3
   },
   "file_extension": ".py",
   "mimetype": "text/x-python",
   "name": "python",
   "nbconvert_exporter": "python",
   "pygments_lexer": "ipython3",
   "version": "3.10.8"
  }
 },
 "nbformat": 4,
 "nbformat_minor": 5
}
