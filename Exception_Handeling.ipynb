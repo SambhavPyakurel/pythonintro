{
 "cells": [
  {
   "cell_type": "markdown",
   "id": "163f90a9-d9f6-4855-8a6b-fe35ac0a7f0f",
   "metadata": {},
   "source": [
    "#### Q1. What is Exception in Python? Write the difference between Exceptions and Syntax Errors."
   ]
  },
  {
   "cell_type": "markdown",
   "id": "837ebd81-c68f-4643-802f-bb824dcc7a0e",
   "metadata": {},
   "source": [
    "Exceptions are events that disrupt the normal flow of a program and may occur due to various reasons such as invalid inputs, file not found, network errors, etc. Generally they are handeled to avoid runtime errors and continue the flow of program with certain subtle messages.\n"
   ]
  },
  {
   "cell_type": "markdown",
   "id": "2a183d7b-b562-4a14-93ea-4e9a1e799b28",
   "metadata": {},
   "source": [
    "\n",
    "| Exceptions | Syntax Errors |\n",
    "| --- | --- |\n",
    "| Exceptions are something that occurs because of runtime errors, they occur when the certain variable names or the files that are called are missing or incorrect. |Synatax Errors are something that occurs during parsing of the program when the program is syantactically incorrect or certain parts of the programs are missing. |\n"
   ]
  },
  {
   "cell_type": "markdown",
   "id": "f2c75438-938f-4dcb-92d5-213280633e9b",
   "metadata": {},
   "source": [
    "#### Q2. What happens when an exception is not handeled? Explain with an Example."
   ]
  },
  {
   "cell_type": "markdown",
   "id": "fb498460-f042-4d9b-9c4d-5edc06958eea",
   "metadata": {},
   "source": [
    "When an exception is not handeled the program will stop wherever the exception occurs."
   ]
  },
  {
   "cell_type": "code",
   "execution_count": 4,
   "id": "e33e9194-4f4e-48f3-8c33-ae2e243a1877",
   "metadata": {},
   "outputs": [
    {
     "ename": "FileNotFoundError",
     "evalue": "[Errno 2] No such file or directory: 'Test.txt'",
     "output_type": "error",
     "traceback": [
      "\u001b[0;31m---------------------------------------------------------------------------\u001b[0m",
      "\u001b[0;31mFileNotFoundError\u001b[0m                         Traceback (most recent call last)",
      "Cell \u001b[0;32mIn[4], line 5\u001b[0m\n\u001b[1;32m      1\u001b[0m \u001b[38;5;66;03m#e.g.\u001b[39;00m\n\u001b[1;32m      2\u001b[0m \n\u001b[1;32m      3\u001b[0m \u001b[38;5;66;03m#without exception handeling\u001b[39;00m\n\u001b[0;32m----> 5\u001b[0m f\u001b[38;5;241m=\u001b[39m\u001b[38;5;28;43mopen\u001b[39;49m\u001b[43m(\u001b[49m\u001b[38;5;124;43m\"\u001b[39;49m\u001b[38;5;124;43mTest.txt\u001b[39;49m\u001b[38;5;124;43m\"\u001b[39;49m\u001b[43m,\u001b[49m\u001b[38;5;124;43m\"\u001b[39;49m\u001b[38;5;124;43mr\u001b[39;49m\u001b[38;5;124;43m\"\u001b[39;49m\u001b[43m)\u001b[49m\n\u001b[1;32m      7\u001b[0m \u001b[38;5;28mprint\u001b[39m(\u001b[38;5;124m'\u001b[39m\u001b[38;5;124mExceptional\u001b[39m\u001b[38;5;124m'\u001b[39m)\n",
      "File \u001b[0;32m/opt/conda/lib/python3.10/site-packages/IPython/core/interactiveshell.py:282\u001b[0m, in \u001b[0;36m_modified_open\u001b[0;34m(file, *args, **kwargs)\u001b[0m\n\u001b[1;32m    275\u001b[0m \u001b[38;5;28;01mif\u001b[39;00m file \u001b[38;5;129;01min\u001b[39;00m {\u001b[38;5;241m0\u001b[39m, \u001b[38;5;241m1\u001b[39m, \u001b[38;5;241m2\u001b[39m}:\n\u001b[1;32m    276\u001b[0m     \u001b[38;5;28;01mraise\u001b[39;00m \u001b[38;5;167;01mValueError\u001b[39;00m(\n\u001b[1;32m    277\u001b[0m         \u001b[38;5;124mf\u001b[39m\u001b[38;5;124m\"\u001b[39m\u001b[38;5;124mIPython won\u001b[39m\u001b[38;5;124m'\u001b[39m\u001b[38;5;124mt let you open fd=\u001b[39m\u001b[38;5;132;01m{\u001b[39;00mfile\u001b[38;5;132;01m}\u001b[39;00m\u001b[38;5;124m by default \u001b[39m\u001b[38;5;124m\"\u001b[39m\n\u001b[1;32m    278\u001b[0m         \u001b[38;5;124m\"\u001b[39m\u001b[38;5;124mas it is likely to crash IPython. If you know what you are doing, \u001b[39m\u001b[38;5;124m\"\u001b[39m\n\u001b[1;32m    279\u001b[0m         \u001b[38;5;124m\"\u001b[39m\u001b[38;5;124myou can use builtins\u001b[39m\u001b[38;5;124m'\u001b[39m\u001b[38;5;124m open.\u001b[39m\u001b[38;5;124m\"\u001b[39m\n\u001b[1;32m    280\u001b[0m     )\n\u001b[0;32m--> 282\u001b[0m \u001b[38;5;28;01mreturn\u001b[39;00m \u001b[43mio_open\u001b[49m\u001b[43m(\u001b[49m\u001b[43mfile\u001b[49m\u001b[43m,\u001b[49m\u001b[43m \u001b[49m\u001b[38;5;241;43m*\u001b[39;49m\u001b[43margs\u001b[49m\u001b[43m,\u001b[49m\u001b[43m \u001b[49m\u001b[38;5;241;43m*\u001b[39;49m\u001b[38;5;241;43m*\u001b[39;49m\u001b[43mkwargs\u001b[49m\u001b[43m)\u001b[49m\n",
      "\u001b[0;31mFileNotFoundError\u001b[0m: [Errno 2] No such file or directory: 'Test.txt'"
     ]
    }
   ],
   "source": [
    "#e.g.\n",
    "\n",
    "#without exception handeling\n",
    "\n",
    "f=open(\"Test.txt\",\"r\")\n",
    "\n",
    "print('Exceptional')"
   ]
  },
  {
   "cell_type": "code",
   "execution_count": 9,
   "id": "a71b2505-06d5-42bf-abec-4e60e82d5435",
   "metadata": {},
   "outputs": [
    {
     "name": "stdout",
     "output_type": "stream",
     "text": [
      "file is not found:  [Errno 2] No such file or directory: 'test.txt'\n",
      "\n",
      "Exceptional\n"
     ]
    }
   ],
   "source": [
    "#With Exception handeling\n",
    "\n",
    "try:\n",
    "    f=open(\"test.txt\",\"r\")\n",
    "\n",
    "except FileNotFoundError as e:\n",
    "    print(\"file is not found: \",e)\n",
    "\n",
    "print(\"\\nExceptional\")"
   ]
  },
  {
   "cell_type": "markdown",
   "id": "9412935a-28cd-407b-8c59-06279f5f23f4",
   "metadata": {},
   "source": [
    "Without the exception handling the phrase \"Exceptional\" wasn't printed but with its handeling the program printed it."
   ]
  },
  {
   "cell_type": "markdown",
   "id": "3dde335e-6b60-4000-81fb-df19fa69877f",
   "metadata": {},
   "source": [
    "#### Q3. Which python statements are used to catch and handle exceptions. Explain with an example.\n"
   ]
  },
  {
   "cell_type": "markdown",
   "id": "f7ad50d1-50ce-47dd-baa6-f337853b55be",
   "metadata": {},
   "source": [
    "\"try:\n",
    "\n",
    "except:\" \n",
    "\n",
    "These are the statements that are used to catch and handle exceptions."
   ]
  },
  {
   "cell_type": "code",
   "execution_count": 8,
   "id": "1c58d851-40ec-4a35-9a26-6a93871ed149",
   "metadata": {},
   "outputs": [
    {
     "name": "stdout",
     "output_type": "stream",
     "text": [
      "file is not found:  [Errno 2] No such file or directory: 'test.txt'\n",
      "\n",
      "Exceptional\n"
     ]
    }
   ],
   "source": [
    "#e.g.\n",
    "\n",
    "try:\n",
    "    f=open(\"test.txt\",\"r\")\n",
    "\n",
    "except FileNotFoundError as e:\n",
    "    print(\"file is not found: \",e)\n",
    "\n",
    "print(\"\\nExceptional\")"
   ]
  },
  {
   "cell_type": "markdown",
   "id": "eb09f22e-c583-4925-b9dc-8be43b924fea",
   "metadata": {},
   "source": [
    "Here in this example, \n",
    "\n",
    "f=open(\"test.txt\",\"r\") this block of code is suspicious so, the it is put in try function, which catches it as a exception.\n",
    "\n",
    "except function is used to tell the users the problem on that line of code by printing the error message, which handles the error and doesn't stop the flow of program and prints \"Exceptional\"."
   ]
  },
  {
   "cell_type": "markdown",
   "id": "7daf0611-0f1b-45d7-bb4e-449a70c573a6",
   "metadata": {},
   "source": [
    "####  Q4. Explain with example:\n",
    "\n",
    "1. try and else\n",
    "2. finally\n",
    "3. raise"
   ]
  },
  {
   "cell_type": "code",
   "execution_count": 66,
   "id": "e4412c5b-c91d-4914-af1a-1b8dce1d2c6b",
   "metadata": {},
   "outputs": [
    {
     "name": "stdin",
     "output_type": "stream",
     "text": [
      "Enter a number: 9\n"
     ]
    },
    {
     "name": "stdout",
     "output_type": "stream",
     "text": [
      "The input is not 8\n",
      "I am  invincible.\n"
     ]
    }
   ],
   "source": [
    "#e.g.\n",
    "\n",
    "try:\n",
    "    a= int(input(\"Enter a number:\"))\n",
    "    if a!=8:\n",
    "        raise forraise(\"The input is not 8\")\n",
    "except forraise as e:\n",
    "    print(e)\n",
    "    \n",
    "else:\n",
    "    print(\"The number is 8\")\n",
    "finally:\n",
    "    print(\"I am  invincible.\")"
   ]
  },
  {
   "cell_type": "markdown",
   "id": "2954cc3a-8012-4204-ba9a-1ddff0dce7c5",
   "metadata": {},
   "source": [
    "In this progam, 'try' takes the input and checks if there are any exceptions. In this input there is exception so the 'except' part runs and tells the users what is wrong with the code in form of the exception that is generated by using raise keyword in string form and program continues to 'finally' which is to be run let there be exception or not."
   ]
  },
  {
   "cell_type": "code",
   "execution_count": 55,
   "id": "b8c9ee96-0683-42f0-ac97-baa59e6681a9",
   "metadata": {},
   "outputs": [
    {
     "name": "stdin",
     "output_type": "stream",
     "text": [
      "Enter a number: 8\n"
     ]
    },
    {
     "name": "stdout",
     "output_type": "stream",
     "text": [
      "The number is 8\n",
      "I am  invincible.\n"
     ]
    }
   ],
   "source": [
    "#e.g.\n",
    "\n",
    "try:\n",
    "    a= int(input(\"Enter a number:\"))\n",
    "    if a!=8:\n",
    "        raise forraise(\"The input is not 8\")\n",
    "except forraise as e:\n",
    "    print(e)\n",
    "    \n",
    "else:\n",
    "    print(\"The number is 8\")\n",
    "finally:\n",
    "    print(\"I am  invincible.\")"
   ]
  },
  {
   "cell_type": "markdown",
   "id": "6c60725c-06e4-45a0-91a1-5523f941ba6a",
   "metadata": {},
   "source": [
    "In this case there is not exception so, it proceeds to the 'else' part, which will run only if there are no exception."
   ]
  },
  {
   "cell_type": "markdown",
   "id": "6f7f8c05-f4c7-4ad2-aefa-a64b74800c55",
   "metadata": {
    "tags": []
   },
   "source": [
    "#### Q5. What are custom exceptions in python? Why do we need custom exceptions? Explain with and example."
   ]
  },
  {
   "cell_type": "markdown",
   "id": "9f7499be-cc3c-4177-bd29-992c3e31576b",
   "metadata": {},
   "source": [
    "Custom exceptions are user defined exceptions created by using keyword raise.\n",
    "\n",
    "We need custom exceptions for the exceptions that are not built in and for the easiness of the user for the identification of the exceptions as they are custom."
   ]
  },
  {
   "cell_type": "code",
   "execution_count": 67,
   "id": "c8eeb999-0d50-4050-bdb3-8bfc51a3cde6",
   "metadata": {},
   "outputs": [
    {
     "name": "stdin",
     "output_type": "stream",
     "text": [
      "Enter age: 19\n"
     ]
    },
    {
     "name": "stdout",
     "output_type": "stream",
     "text": [
      "Eligible to vote\n"
     ]
    }
   ],
   "source": [
    "#e.g. checks if someone is elegible to vote or not\n",
    "\n",
    "class forraise(Exception):\n",
    "    def __init__(self, message):\n",
    "        self.message=message\n",
    "        \n",
    "\n",
    "def function(voter):\n",
    "    if (voter>=18 and voter<=150):\n",
    "        raise forraise(\"Eligible to vote\")\n",
    "    else:\n",
    "        raise forraise(\"Not Eligible\")\n",
    "        \n",
    "        \n",
    "        \n",
    "try:\n",
    "    age= int(input(\"Enter age:\"))\n",
    "    function(age)\n",
    "except forraise as e:\n",
    "    print(e)"
   ]
  },
  {
   "cell_type": "markdown",
   "id": "1cad6284-5ec3-41ab-9fb2-4cac1a8fc4b7",
   "metadata": {},
   "source": [
    "In this example, the program is for telling if the person is eligible to vote or not. Python doesn't have the specific exception for the voting so, the exceptions \"eligible to vote\" and \"not eligible\" are made so that the users know the type of exception they are dealing with."
   ]
  },
  {
   "cell_type": "markdown",
   "id": "18d1d7e3-edb4-4543-8fd3-c18fe1432a84",
   "metadata": {},
   "source": [
    "#### Q6. Create a custom exception class and use this to handle an exceptipn."
   ]
  },
  {
   "cell_type": "code",
   "execution_count": 65,
   "id": "4b008507-7446-4737-95bc-4ff0d2dab024",
   "metadata": {},
   "outputs": [
    {
     "name": "stdin",
     "output_type": "stream",
     "text": [
      "Enter age: 19\n"
     ]
    },
    {
     "name": "stdout",
     "output_type": "stream",
     "text": [
      "Eligible to vote\n"
     ]
    }
   ],
   "source": [
    "#e.g. checks if someone is elegible to vote or not\n",
    "\n",
    "class forraise(Exception):\n",
    "    def __init__(self, message):\n",
    "        self.message=message\n",
    "        \n",
    "\n",
    "def function(voter):\n",
    "    if (voter>=18 and voter<=150):\n",
    "        raise forraise(\"Eligible to vote\")\n",
    "    else:\n",
    "        raise forraise(\"Not Eligible\")\n",
    "        \n",
    "        \n",
    "        \n",
    "try:\n",
    "    age= int(input(\"Enter age:\"))\n",
    "    function(age)\n",
    "except forraise as e:\n",
    "    print(e)"
   ]
  },
  {
   "cell_type": "code",
   "execution_count": null,
   "id": "1bbbe21a-7deb-4b28-a1d9-1f75a01d1441",
   "metadata": {},
   "outputs": [],
   "source": []
  }
 ],
 "metadata": {
  "kernelspec": {
   "display_name": "Python 3 (ipykernel)",
   "language": "python",
   "name": "python3"
  },
  "language_info": {
   "codemirror_mode": {
    "name": "ipython",
    "version": 3
   },
   "file_extension": ".py",
   "mimetype": "text/x-python",
   "name": "python",
   "nbconvert_exporter": "python",
   "pygments_lexer": "ipython3",
   "version": "3.10.8"
  }
 },
 "nbformat": 4,
 "nbformat_minor": 5
}
