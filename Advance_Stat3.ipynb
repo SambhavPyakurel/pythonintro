{
 "cells": [
  {
   "cell_type": "markdown",
   "id": "6f741351-d5e1-424c-bf70-0368efbdbc55",
   "metadata": {},
   "source": [
    "#### Q1: What is Estimation Statistics? Explain point estimate and interval estimate."
   ]
  },
  {
   "cell_type": "markdown",
   "id": "02c13f95-f805-4019-b548-a16c37ca47bf",
   "metadata": {},
   "source": [
    "Estimation statistics is a branch of inferential statistics that involves using sample data to estimate unknown parameters or characteristics of a population.\n",
    "\n",
    "Point Estimate:\n",
    "The point estimation involves the single numerical value used to estimate an unknown population parameter. The most common point estimator for a population parameter is the sample mean (x̄) for estimating the population mean (μ). \n",
    "\n",
    "Interval Estimate:\n",
    "The Interval estimation involves range of values used to estimate unknown population parameter. Instead of a single point estimate, we calculate an interval estimate based on the sample data. The interval estimate includes a margin of error that reflects the uncertainty associated with the estimation process."
   ]
  },
  {
   "cell_type": "markdown",
   "id": "90524bc3-3acb-4d24-ba69-9253a561b04e",
   "metadata": {},
   "source": [
    "#### Q2. Write a Python function to estimate the population mean using a sample mean and standard deviation."
   ]
  },
  {
   "cell_type": "code",
   "execution_count": 4,
   "id": "72fa3d76-0b39-4dcf-b9b5-bbc123e8fdad",
   "metadata": {},
   "outputs": [
    {
     "name": "stdout",
     "output_type": "stream",
     "text": [
      "Estimated Population Mean: 30.5\n"
     ]
    }
   ],
   "source": [
    "def estimate_population_mean(sample_mean, sample_std):\n",
    "\n",
    "    estimated_population_mean = sample_mean\n",
    "\n",
    "    return estimated_population_mean\n",
    "\n",
    "sample_mean = 30.5\n",
    "sample_std = 5.7\n",
    "\n",
    "estimated_mean = estimate_population_mean(sample_mean, sample_std_dev)\n",
    "print(\"Estimated Population Mean:\", estimated_mean)\n"
   ]
  },
  {
   "cell_type": "markdown",
   "id": "cf6c4b04-69a3-4425-b4f7-a3a4b779d737",
   "metadata": {},
   "source": [
    "#### Q3: What is Hypothesis testing? Why is it used? State the importance of Hypothesis testing."
   ]
  },
  {
   "cell_type": "markdown",
   "id": "a53d0ab8-3124-4838-be15-4188f1c6f662",
   "metadata": {},
   "source": [
    "Hypothesis testing is a fundamental concept in inferential statistics used to make decisions or draw conclusions about a population based on sample data.\n",
    "\n",
    "Hypothesis testing is used to find if there is enough evidence to reject the null hypothesis in favor of the alternative hypothesis. \n",
    "\n",
    "Importance:\n",
    "1. Used to analyze data.\n",
    "2. Used to make Prediction.\n",
    "3. Used to test research hypothesis.\n",
    "4. Contributes to evidence based decision making and scientific progress."
   ]
  },
  {
   "cell_type": "markdown",
   "id": "4c4e953c-82be-4090-8df9-af4eaa285d01",
   "metadata": {},
   "source": [
    "#### Q4. Create a hypothesis that states whether the average weight of male college students is greater than the average weight of female college students."
   ]
  },
  {
   "cell_type": "markdown",
   "id": "4d91c702-8a02-4c3b-a9d5-1854a2be015c",
   "metadata": {},
   "source": [
    "Null Hypothesis (H0): The average weight of male college students is equal to or less than the average weight of female college students.\n",
    "\n",
    "Alternative Hypothesis (Ha): The average weight of male college students is greater than the average weight of female college students.\n",
    "\n",
    "Symbolically, the hypotheses can be written as:\n",
    "\n",
    "Ho: μ_male < μ_female\n",
    "\n",
    "Ha: μ_male > μ_female"
   ]
  },
  {
   "cell_type": "markdown",
   "id": "f6c84bbf-e02c-42e7-9856-e7cebc662519",
   "metadata": {},
   "source": [
    "#### Q5. Write a Python script to conduct a hypothesis test on the difference between two population means, given a sample from each population."
   ]
  },
  {
   "cell_type": "code",
   "execution_count": 8,
   "id": "1755b0d2-9382-428e-b653-351f59991e26",
   "metadata": {},
   "outputs": [
    {
     "name": "stdout",
     "output_type": "stream",
     "text": [
      "Reject the null hypothesis.\n",
      "There is a significant difference between the means of the two populations.\n",
      "t-statistic: 3.152920723854168\n",
      "p-value: 0.008440605267884685\n"
     ]
    }
   ],
   "source": [
    "import scipy.stats as stats\n",
    "\n",
    "'''\n",
    "Null Hypothesis: There is no significant difference between the means of the two population.\n",
    "\n",
    "Alternate Hypothesis: There is significant difference between the means of the two population.\n",
    "'''\n",
    "\n",
    "def conduct_ttest(sample1, sample2, alpha=0.05):\n",
    "\n",
    "    t_stat, p_value = stats.ttest_ind(sample1, sample2, equal_var=False)\n",
    "\n",
    "    if p_value < alpha:\n",
    "        print(\"Reject the null hypothesis.\")\n",
    "        print(\"There is a significant difference between the means of the two populations.\")\n",
    "    else:\n",
    "        print(\"Fail to reject the null hypothesis.\")\n",
    "        print(\"There is no significant difference between the means of the two populations.\")\n",
    "\n",
    "    return t_stat, p_value\n",
    "\n",
    "# Example usage:\n",
    "sample1 = [25, 28, 30, 32, 27, 29, 31]\n",
    "sample2 = [22, 24, 26, 23, 28, 27, 25]\n",
    "\n",
    "alpha = 0.05\n",
    "\n",
    "t_stat, p_value = conduct_ttest(sample1, sample2, alpha)\n",
    "print(\"t-statistic:\", t_stat)\n",
    "print(\"p-value:\", p_value)\n"
   ]
  },
  {
   "cell_type": "markdown",
   "id": "a7ae7944-7dcd-4d77-9785-137ea56789cf",
   "metadata": {},
   "source": [
    "#### Q6: What is a null and alternative hypothesis? Give some examples."
   ]
  },
  {
   "cell_type": "markdown",
   "id": "b55933aa-a672-4a95-ad16-362d9c44c86f",
   "metadata": {},
   "source": [
    "Null Hypothesis (Ho): It represents the status quo or the default assumption. It states that there is no significant difference or effect, no relationship, or no change in the population parameter. It is denoted by Ho.\n",
    "\n",
    "Alternative Hypothesis (Ha): It represents the opposite of the null hypothesis. It states that there is a significant difference or effect, a relationship, or a change in the population parameter. It is what the researcher wants to prove or find evidence for. It is denoted by Ha.\n",
    "\n",
    "*e.g. 1*\n",
    "\n",
    "Null Hypothesis: There is no significant difference between the means of the two population.\n",
    "\n",
    "Alternate Hypothesis: There is significant difference between the means of the two population.\n",
    "\n",
    "*e.g. 2*\n",
    "\n",
    "Null Hypothesis : The average weight of male college students is equal to or less than the average weight of female college students.\n",
    "\n",
    "Alternative Hypothesis : The average weight of male college students is greater than the average weight of female college students."
   ]
  },
  {
   "cell_type": "markdown",
   "id": "06d09975-87f9-4705-88b3-dcb2ad528ee3",
   "metadata": {},
   "source": [
    "#### Q7: Write down the steps involved in hypothesis testing."
   ]
  },
  {
   "cell_type": "markdown",
   "id": "97917fee-47e7-4960-9e59-4c6968213bdf",
   "metadata": {},
   "source": [
    "Steps:\n",
    "\n",
    "1. Assume Null Hypothesis.\n",
    "2. Assume Alternate Hypothesis.\n",
    "3. Conduct Experiments.\n",
    "    1. Statistical analysis\n",
    "    2. collect proof\n",
    "4. Accept or reject Null Hypothesis."
   ]
  },
  {
   "cell_type": "markdown",
   "id": "325e9dbc-a830-4f4d-b97c-7dce7c449964",
   "metadata": {},
   "source": [
    "#### Q8. Define p-value and explain its significance in hypothesis testing."
   ]
  },
  {
   "cell_type": "markdown",
   "id": "b58a6f56-a0d9-40ba-8493-d6fd38b15145",
   "metadata": {},
   "source": [
    "In statistics, the p-value, short for \"probability value,\" is a fundamental concept in hypothesis testing. It is a measure of the strength of evidence against the null hypothesis. \n",
    "\n",
    "P-value has significant role in the hypothesis testing to reject or accept the null hypothesis.\n",
    "\n",
    "If p-value > alpha: We fail to reject the null hypothesis.\n",
    "\n",
    "If p-value<= alpha: We reject the null hypothesis."
   ]
  },
  {
   "cell_type": "markdown",
   "id": "a0fcb383-1e77-4f90-8e1b-99a7fad9ea85",
   "metadata": {},
   "source": [
    "#### Q9. Generate a Student's t-distribution plot using Python's matplotlib library, with the degrees of freedom parameter set to 10."
   ]
  },
  {
   "cell_type": "code",
   "execution_count": 21,
   "id": "9a63b031-8b7d-40b7-a75b-d1cdde203e65",
   "metadata": {},
   "outputs": [
    {
     "data": {
      "image/png": "[encoded data removed]",
      "text/plain": [
       "<Figure size 640x480 with 1 Axes>"
      ]
     },
     "metadata": {},
     "output_type": "display_data"
    }
   ],
   "source": [
    "import numpy as np\n",
    "import matplotlib.pyplot as plt\n",
    "from scipy.stats import t\n",
    "\n",
    "dof = 10\n",
    "\n",
    "x = np.linspace(-5, 5, 500)\n",
    "\n",
    "pdf = t.pdf(x, df=dof)\n",
    "\n",
    "# Create the plot\n",
    "plt.plot(x, pdf, label=f\"t-distribution (df={dof})\")\n",
    "plt.xlabel(\"x\")\n",
    "plt.ylabel(\"Probability Density\")\n",
    "plt.title(\"Student's t-distribution\")\n",
    "plt.legend()\n",
    "plt.grid(True)\n",
    "plt.show()\n"
   ]
  },
  {
   "cell_type": "markdown",
   "id": "fb16943a-645a-4814-8c28-5469e4a07966",
   "metadata": {},
   "source": [
    "#### Q10. Write a Python program to calculate the two-sample t-test for independent samples, given two random samples of equal size and a null hypothesis that the population means are equal."
   ]
  },
  {
   "cell_type": "code",
   "execution_count": 22,
   "id": "ded7596a-1637-49c8-ba47-a1520aa75b26",
   "metadata": {},
   "outputs": [
    {
     "name": "stdout",
     "output_type": "stream",
     "text": [
      "Reject the null hypothesis.\n",
      "There is a significant difference between the means of the two populations.\n",
      "t-statistic: 3.152920723854168\n",
      "p-value: 0.008440605267884685\n"
     ]
    }
   ],
   "source": [
    "import scipy.stats as stats\n",
    "\n",
    "'''\n",
    "Null Hypothesis: There is no significant difference between the means of the two population.\n",
    "\n",
    "Alternate Hypothesis: There is significant difference between the means of the two population.\n",
    "'''\n",
    "\n",
    "def conduct_ttest(sample1, sample2, alpha=0.05):\n",
    "\n",
    "    t_stat, p_value = stats.ttest_ind(sample1, sample2, equal_var=False)\n",
    "\n",
    "    if p_value < alpha:\n",
    "        print(\"Reject the null hypothesis.\")\n",
    "        print(\"There is a significant difference between the means of the two populations.\")\n",
    "    else:\n",
    "        print(\"Fail to reject the null hypothesis.\")\n",
    "        print(\"There is no significant difference between the means of the two populations.\")\n",
    "\n",
    "    return t_stat, p_value\n",
    "\n",
    "# Example usage:\n",
    "sample1 = [25, 28, 30, 32, 27, 29, 31]\n",
    "sample2 = [22, 24, 26, 23, 28, 27, 25]\n",
    "\n",
    "alpha = 0.05\n",
    "\n",
    "t_stat, p_value = conduct_ttest(sample1, sample2, alpha)\n",
    "print(\"t-statistic:\", t_stat)\n",
    "print(\"p-value:\", p_value)\n"
   ]
  },
  {
   "cell_type": "markdown",
   "id": "60220aaf-26f4-4906-b43a-1a61d5aceaa4",
   "metadata": {},
   "source": [
    "#### Q11: What is Student’s t distribution? When to use the t-Distribution."
   ]
  },
  {
   "cell_type": "markdown",
   "id": "d4244ced-1f31-472d-bae7-4a42ef5a41d6",
   "metadata": {},
   "source": [
    "Student's t-distribution is a probability distribution that is used in statistics to model the uncertainty associated with estimating the population mean when the sample size is small or when the population standard deviation is unknown.\n",
    "\n",
    "It is used when,\n",
    "1. Sample size is small.\n",
    "2. Population standard deviation is unknown."
   ]
  },
  {
   "cell_type": "markdown",
   "id": "56331cdf-5337-41e2-8dea-c5e700a31e3d",
   "metadata": {},
   "source": [
    "#### Q12: What is t-statistic? State the formula for t-statistic."
   ]
  },
  {
   "cell_type": "markdown",
   "id": "f22cbb4f-b3d8-4de3-ae7b-d7c9fda28f7b",
   "metadata": {},
   "source": [
    "The t-statistic, also known as the t-value, is a measure used in hypothesis testing to assess the difference between sample means and the population mean when the population standard deviation is unknown and needs to be estimated from the sample data.\n",
    "\n",
    "Formula:\n",
    "\n",
    "One-Sample t-Test:\n",
    "When you have one sample and want to compare its mean to a hypothesized population mean (μ), the formula for the t-statistic is:\n",
    "t = (x̄ - μ) / (s / √n)\n",
    "\n",
    "t: t-statistic\n",
    "\n",
    "x̄: Sample mean\n",
    "\n",
    "μ: Hypothesized population mean\n",
    "\n",
    "s: Sample standard deviation\n",
    "\n",
    "n: Sample size\n",
    "\n",
    "\n",
    "Two-Sample (Independent) t-Test:\n",
    "When you have two independent samples and want to compare the means of the two groups, the formula for the t-statistic is:\n",
    "\n",
    "t = (x̄1 - x̄2) / √((s1^2 / n1) + (s2^2 / n2))\n",
    "\n",
    "where,\n",
    "\n",
    "t: t-statistic\n",
    "\n",
    "x̄1: Mean of sample 1\n",
    "\n",
    "x̄2: Mean of sample 2\n",
    "\n",
    "s1: Standard deviation of sample 1\n",
    "\n",
    "s2: Standard deviation of sample 2\n",
    "\n",
    "n1: Sample size of sample 1\n",
    "\n",
    "n2: Sample size of sample 2"
   ]
  },
  {
   "cell_type": "markdown",
   "id": "f817dc48-4732-4ee6-ae63-052168a23b8f",
   "metadata": {},
   "source": [
    "#### Q13. A coffee shop owner wants to estimate the average daily revenue for their shop. They take a random sample of 50 days and find the sample mean revenue to be 500 with a standard deviation of $50. Estimate the population mean revenue with a 95% confidence interval."
   ]
  },
  {
   "cell_type": "markdown",
   "id": "b2b9afea-2218-4387-ae97-f50b93bcb5b9",
   "metadata": {},
   "source": [
    "Given, \n",
    "\n",
    "Sample_size(n) = 50\n",
    "\n",
    "Sample mean(x̄) = $500\n",
    "\n",
    "Sample std (s) = $50\n",
    "\n",
    "for t-critical value: \n",
    "\n",
    "df= n-1 = 50-1 = 49\n",
    "\n",
    "confidence interval = 95%\n",
    "\n",
    "from t-table,\n",
    "\n",
    "t-value= 2.009\n",
    "\n",
    "Standard error (SE) = 50 / √50 ≈ 7.071\n",
    "\n",
    "Lower bound = 500 - (2.009 * 7.071) ≈ $485.46 (rounded to two decimal places)\n",
    "Upper bound = 500 + (2.009 * 7.071) ≈ $514.54 (rounded to two decimal places)\n",
    "\n",
    "So, the 95% confidence interval for the population mean revenue is approximately 485.46 to $514.54. This means we are 95% confident that the true average daily revenue for the coffee shop falls within this range based on the given sample data."
   ]
  },
  {
   "cell_type": "markdown",
   "id": "c17864b9-a0e5-4d99-bff4-447575faed33",
   "metadata": {},
   "source": [
    "#### Q14. A researcher hypothesizes that a new drug will decrease blood pressure by 10 mmHg. They conduct a clinical trial with 100 patients and find that the sample mean decrease in blood pressure is 8 mmHg with a standard deviation of 3 mmHg. Test the hypothesis with a significance level of 0.05."
   ]
  },
  {
   "cell_type": "markdown",
   "id": "47057b3d-91a9-4a26-9953-ae646b3e7208",
   "metadata": {},
   "source": [
    "Null Hypothesis(Ho): The drug decrease blood pressure by 10 mmHg.\n",
    "\n",
    "Alternate Hypothesis(Ha): The drug doesn't decrease blood pressure by 10 mmHg.\n",
    "\n",
    "hypothesised mean = 10 mmHg\n",
    "\n",
    "Sample_size(n) = 100\n",
    "\n",
    "Sample_mean(x̄) = 8 mmHg\n",
    "\n",
    "Sample_std(s) = 3 mmHg\n",
    "\n",
    "significance level (alpha) = 0.05\n",
    "\n",
    "for t-value,\n",
    "\n",
    "t = (8 - 10) / (3 / √100)\n",
    "t = -2 / (3 / 10)\n",
    "t = -20/3 ≈ -6.67 (rounded to two decimal places)\n",
    "\n",
    "\n",
    "for critical t-value:\n",
    "\n",
    "df= 100-1 = 99\n",
    "\n",
    "alpha= 0.05\n",
    "\n",
    "critical t-value =  -1.984\n",
    "\n",
    "Since the t-statistic (-6.67) is less than the negative critical t-value (1.984), we can reject the null hypothesis.\n",
    "\n",
    "Based on the results of the t-test, there is enough evidence to reject the null hypothesis. It suggests that the new drug has a significant effect on decreasing blood pressure, as the mean decrease in blood pressure is not equal to 10 mmHg."
   ]
  },
  {
   "cell_type": "markdown",
   "id": "c94ded62-b12a-4053-9dda-ca99e382c472",
   "metadata": {},
   "source": [
    "#### Q15. An electronics company produces a certain type of product with a mean weight of 5 pounds and a standard deviation of 0.5 pounds. A random sample of 25 products is taken, and the sample mean weight is found to be 4.8 pounds. Test the hypothesis that the true mean weight of the products is less than 5 pounds with a significance level of 0.01."
   ]
  },
  {
   "cell_type": "markdown",
   "id": "c8e80373-83cb-4fd5-b51a-ab85cde024c1",
   "metadata": {},
   "source": [
    "H0: the true mean weight of the products is less not than 5 pounds.\n",
    "\n",
    "Ha: The true mean weight of the product is less than 5 pounds.\n",
    "\n",
    "Given:\n",
    "\n",
    "Population mean (μ) = 5 pounds (from the null hypothesis)\n",
    "Population standard deviation (σ) = 0.5 pounds\n",
    "Sample size (n) = 25\n",
    "Sample mean (x̄) = 4.8 pounds\n",
    "Significance level (alpha) = 0.01\n",
    "\n",
    "for t-value,\n",
    "\n",
    "t = (4.8 - 5) / (0.5 / √25) = -0.2 / (0.5 / 5) = -0.2 / 0.1 = -2\n",
    "\n",
    "for critical t-value,\n",
    "\n",
    "df= 25-1 = 24\n",
    "\n",
    "alpha = 0.01\n",
    "\n",
    "from t-table, \n",
    "\n",
    "critical t-value = -2.797\n",
    "\n",
    "Since the t-statistic (-2) is greater (in absolute value) than the critical t-value for the left-tailed test (-2.797), we can reject the null hypothesis.\n",
    "\n",
    "Based on the results of the t-test with the left-tailed test, there is enough evidence to reject the null hypothesis. This means that at the 0.01 significance level, we have sufficient evidence to conclude that the true mean weight of the products is less than 5 pounds."
   ]
  },
  {
   "cell_type": "markdown",
   "id": "1058d4a8-a8d9-4af4-a04f-901398988a56",
   "metadata": {},
   "source": [
    "#### Q16. Two groups of students are given different study materials to prepare for a test. The first group (n1 = 30) has a mean score of 80 with a standard deviation of 10, and the second group (n2 = 40) has a mean score of 75 with a standard deviation of 8. Test the hypothesis that the population means for the two groups are equal with a significance level of 0.01."
   ]
  },
  {
   "cell_type": "markdown",
   "id": "57ddb7a2-de3f-42ae-9fc4-a924aae3ef16",
   "metadata": {},
   "source": [
    "H0:  the population means are equal.\n",
    "Ha:  the population means are not equal.\n",
    "\n",
    "Given:\n",
    "\n",
    "Group 1:\n",
    "\n",
    "Sample size (n1) = 30\n",
    "Sample mean (x̄1) = 80\n",
    "Sample standard deviation (s1) = 10\n",
    "Group 2:\n",
    "\n",
    "Sample size (n2) = 40\n",
    "Sample mean (x̄2) = 75\n",
    "Sample standard deviation (s2) = 8\n",
    "Significance level (alpha) = 0.01\n",
    "\n",
    "\n",
    "for pooled std,\n",
    "\n",
    "\n",
    "sp = √[((n1 - 1) * s1^2 + (n2 - 1) * s2^2) / (n1 + n2 - 2)]\n",
    "\n",
    "Substitute the values:\n",
    "\n",
    "sp = √[((30 - 1) * 10^2 + (40 - 1) * 8^2) / (30 + 40 - 2)]\n",
    "\n",
    "sp = √[(29 * 100 + 39 * 64) / 68]\n",
    "\n",
    "sp = √[(2900 + 2496) / 68]\n",
    "\n",
    "sp = √[5396 / 68]\n",
    "\n",
    "sp = √79.3529\n",
    "\n",
    "sp ≈ 8.911 \n",
    "\n",
    "for t-value,\n",
    "\n",
    "t = (x̄1 - x̄2) / (sp * √(1/n1 + 1/n2))\n",
    "\n",
    "Substitute the values:\n",
    "t = (80 - 75) / (8.911 * √(1/30 + 1/40))\n",
    "\n",
    "t = 5 / (8.911 * √(0.03333 + 0.025))\n",
    "\n",
    "t = 5 / (8.911 * √0.05833)\n",
    "\n",
    "t = 5 / (8.911 * 0.24159)\n",
    "\n",
    "t = 5 / 2.1525\n",
    "\n",
    "t ≈ 2.323 \n",
    "\n",
    "for critical t-value,\n",
    "\n",
    "df= 68\n",
    "\n",
    "alpha=0.01 \n",
    "\n",
    "critical t-value =  ±2.632.\n",
    "\n",
    "\n",
    "Since the t-statistic (2.323) is not greater (in absolute value) than the critical t-value for the two-tailed test (±2.632), we cannot reject the null hypothesis.\n",
    "\n",
    "\n",
    "Based on the results of the two-sample t-test, there is not enough evidence to reject the null hypothesis. This means that at the 0.01 significance level, we do not have sufficient evidence to claim that the population means for the two groups are significantly different. "
   ]
  },
  {
   "cell_type": "markdown",
   "id": "cb915038-e98a-4b56-b325-a0d13533a57a",
   "metadata": {},
   "source": [
    "#### Q17. A marketing company wants to estimate the average number of ads watched by viewers during a TV program. They take a random sample of 50 viewers and find that the sample mean is 4 with a standard deviation of 1.5. Estimate the population mean with a 99% confidence interval."
   ]
  },
  {
   "cell_type": "markdown",
   "id": "7e2d8e97-cfb3-4635-bcc0-201e41d4eb82",
   "metadata": {},
   "source": [
    "Given:\n",
    "\n",
    "Sample size (n) = 50\n",
    "Sample mean (x̄) = 4\n",
    "Sample standard deviation (s) = 1.5\n",
    "Confidence level = 99%\n",
    "\n",
    "for Standard Error or deviation,\n",
    "\n",
    "SE = s / √n\n",
    "\n",
    "Substitute the values:\n",
    "SE = 1.5 / √50\n",
    "SE = 1.5 / 7.07\n",
    "SE ≈ 0.212 \n",
    "\n",
    "\n",
    "for critical t-values,\n",
    "\n",
    "df= 50-1 = 49\n",
    "confidence level = 99%\n",
    "\n",
    "\n",
    "The critical t-value for the two-tailed test is approximately ±2.681.\n",
    "\n",
    "\n",
    "For margin of error,\n",
    "\n",
    "ME = t_critical * SE\n",
    "\n",
    "Substitute the values:\n",
    "ME = 2.681 * 0.212\n",
    "ME ≈ 0.568 \n",
    "\n",
    "\n",
    "for confidence interval, \n",
    "\n",
    "Confidence Interval = sample mean ± margin of error\n",
    "\n",
    "Substitute the values:\n",
    "Lower bound = 4 - 0.568 ≈ 3.432\n",
    "Upper bound = 4 + 0.568 ≈ 4.568 \n",
    "\n",
    "So, the 99% confidence interval for the population mean number of ads watched by viewers during a TV program is approximately 3.432 to 4.568. This means we are 99% confident that the true average number of ads watched by viewers falls within this range based on the given sample data."
   ]
  },
  {
   "cell_type": "code",
   "execution_count": null,
   "id": "ffc913c2-db81-4e83-97d3-5c6609f1ca83",
   "metadata": {},
   "outputs": [],
   "source": []
  }
 ],
 "metadata": {
  "kernelspec": {
   "display_name": "Python 3 (ipykernel)",
   "language": "python",
   "name": "python3"
  },
  "language_info": {
   "codemirror_mode": {
    "name": "ipython",
    "version": 3
   },
   "file_extension": ".py",
   "mimetype": "text/x-python",
   "name": "python",
   "nbconvert_exporter": "python",
   "pygments_lexer": "ipython3",
   "version": "3.10.8"
  }
 },
 "nbformat": 4,
 "nbformat_minor": 5
}
