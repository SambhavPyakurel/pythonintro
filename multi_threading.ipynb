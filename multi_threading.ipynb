{
 "cells": [
  {
   "cell_type": "markdown",
   "id": "5b05875a-1c31-4bad-808f-dbf5c5130f84",
   "metadata": {},
   "source": [
    "#### 1. What is multithreading in python? Why is it used? Name the module used to handle threads in python."
   ]
  },
  {
   "cell_type": "markdown",
   "id": "9825a13a-0d5c-44e9-b09e-214ab1fe0171",
   "metadata": {},
   "source": [
    "Multithreading is a powerful technique that allows for concurrent execution of multiple threads in a single process. \n",
    "\n",
    "It is used for improved performance, and responsiveness in programs that can benefit from parallelism and effective utilization of system resources.\n",
    "\n",
    "The module used to handle threads in python is 'threading'."
   ]
  },
  {
   "cell_type": "markdown",
   "id": "96ba30c5-9195-4932-8c03-b489a10ca58a",
   "metadata": {},
   "source": [
    "#### 2. Why threading module used? Write the use of the following functions\n",
    "1. activeCount()\n",
    "2. currentThread()\n",
    "3. enumerate()"
   ]
  },
  {
   "cell_type": "markdown",
   "id": "a593615a-c030-4a32-a512-f0d57f35b020",
   "metadata": {},
   "source": [
    "The threading module is used to introduce concurrency, parallelism, and efficient resource utilization in Python programs. It provides a way to work with threads and manage their execution, allowing for more responsive applications, better performance, and effective utilization of system resources.\n",
    "\n",
    "1. activeCount():\n",
    "\n",
    "It is used to count number of active threads.\n",
    "\n",
    "2. currentThread():\n",
    "\n",
    "It is used to return the current Thread object, corresponding to the caller's thread of control.\n",
    "\n",
    "3. enumerate():\n",
    "\n",
    "It is used to return the list of active of threads."
   ]
  },
  {
   "cell_type": "code",
   "execution_count": 81,
   "id": "8f301591-19d1-4634-8005-e6087ff1eaa3",
   "metadata": {},
   "outputs": [
    {
     "data": {
      "text/plain": [
       "[<_MainThread(MainThread, started 139631920375616)>,\n",
       " <Thread(IOPub, started daemon 139631849846336)>,\n",
       " <Heartbeat(Heartbeat, started daemon 139631841453632)>,\n",
       " <Thread(Thread-3 (_watch_pipe_fd), started daemon 139631816275520)>,\n",
       " <Thread(Thread-4 (_watch_pipe_fd), started daemon 139631467165248)>,\n",
       " <ControlThread(Control, started daemon 139631458772544)>,\n",
       " <HistorySavingThread(IPythonHistorySavingThread, started 139631450379840)>,\n",
       " <ParentPollerUnix(Thread-2, started daemon 139631441987136)>]"
      ]
     },
     "execution_count": 81,
     "metadata": {},
     "output_type": "execute_result"
    }
   ],
   "source": [
    "import threading\n",
    "threading.enumerate()"
   ]
  },
  {
   "cell_type": "code",
   "execution_count": 80,
   "id": "f3a81693-efb9-4b29-8472-87b13023f99b",
   "metadata": {},
   "outputs": [
    {
     "data": {
      "text/plain": [
       "<_MainThread(MainThread, started 139631920375616)>"
      ]
     },
     "execution_count": 80,
     "metadata": {},
     "output_type": "execute_result"
    }
   ],
   "source": [
    "threading.current_thread()"
   ]
  },
  {
   "cell_type": "code",
   "execution_count": 79,
   "id": "cff8cb66-9dac-45e5-a00f-3ca9549079f8",
   "metadata": {},
   "outputs": [
    {
     "data": {
      "text/plain": [
       "8"
      ]
     },
     "execution_count": 79,
     "metadata": {},
     "output_type": "execute_result"
    }
   ],
   "source": [
    "threading.active_count()"
   ]
  },
  {
   "cell_type": "markdown",
   "id": "2d3c8d74-1298-4156-9377-093fa34a54d1",
   "metadata": {},
   "source": [
    "#### 3. Explain the following functions\n",
    "1. run()\n",
    "2. start()\n",
    "3. join()\n",
    "4. isAlive()"
   ]
  },
  {
   "cell_type": "markdown",
   "id": "1e32db1e-4927-4cf9-8fc2-59e988ebd099",
   "metadata": {},
   "source": [
    "run():\n",
    "\n",
    "runs the code in same thread.\n",
    "\n",
    "start():\n",
    "\n",
    "starts new thread to run the code.\n",
    "\n",
    "join(): \n",
    "\n",
    "syncronize the threads to one.\n",
    "\n",
    "isAlive(): \n",
    "\n",
    "Returns whether the thread is alive."
   ]
  },
  {
   "cell_type": "markdown",
   "id": "fc762820-3c3b-4466-a090-889f3acba0a4",
   "metadata": {},
   "source": [
    "#### 4. Write a python program to create two threads. Thread one must print the list of squares and thread two must print the list of cubes."
   ]
  },
  {
   "cell_type": "code",
   "execution_count": 78,
   "id": "cbdca3a3-759f-4b39-94c4-0437e4815a9e",
   "metadata": {},
   "outputs": [
    {
     "name": "stdout",
     "output_type": "stream",
     "text": [
      "Square: 1\n",
      "Cube: 1\n",
      "Square: 4\n",
      "Cube: 8\n",
      "Square: 9\n",
      "Cube: 27\n",
      "Square: 16\n",
      "Cube: 64\n",
      "Square: 25\n",
      "Cube: 125\n"
     ]
    }
   ],
   "source": [
    "import threading\n",
    "import time\n",
    "\n",
    "def print_squares(numbers):\n",
    "    for num in numbers:\n",
    "        square = num ** 2\n",
    "        print(\"Square:\", square)\n",
    "        time.sleep(1)\n",
    "\n",
    "def print_cubes(numbers):\n",
    "    for num in numbers:\n",
    "        cube = num ** 3\n",
    "        print(\"Cube:\", cube)\n",
    "        time.sleep(1)\n",
    "\n",
    "# Create a list of numbers\n",
    "numbers = [1, 2, 3, 4, 5]\n",
    "\n",
    "thread1 = threading.Thread(target=print_squares, args=(numbers,))\n",
    "\n",
    "thread2 = threading.Thread(target=print_cubes, args=(numbers,))\n",
    "\n",
    "thread1.start()\n",
    "thread2.start()\n",
    "\n",
    "thread1.join()\n",
    "thread2.join()"
   ]
  },
  {
   "cell_type": "markdown",
   "id": "e66f3afd-abb8-48ba-9f5e-0e9a10b48b0b",
   "metadata": {},
   "source": [
    "#### 5. State advantages and disadvantages of multithreading."
   ]
  },
  {
   "cell_type": "markdown",
   "id": "96a0ce09-f250-495a-8851-a7a7f9b6fa57",
   "metadata": {},
   "source": [
    "##### Advantages:\n",
    "\n",
    "1. Concurrent Execution\n",
    "2. Resource Sharing\n",
    "3. Efficiency\n",
    "4. Increased Responsiveness\n",
    "\n",
    "##### Disadvantages\n",
    "\n",
    "1. Complexity\n",
    "2. Debugging and Testing\n",
    "3. Overhead"
   ]
  },
  {
   "cell_type": "markdown",
   "id": "86d17d92-7160-480f-a740-312831dc644a",
   "metadata": {},
   "source": [
    "#### 6. Explain deadlocks and race conditions."
   ]
  },
  {
   "cell_type": "markdown",
   "id": "89f13eb7-9606-4843-a2f9-6e227a8aa211",
   "metadata": {},
   "source": [
    "Deadlock:\n",
    "\n",
    "Deadlock is a situation where two or more threads are unable to proceed because each is waiting for a resource held by another thread, resulting in a stalemate. \n",
    "\n",
    "e.g.\n",
    "\n",
    "if thread1 holds value A and waits for B.\n",
    "and thread2 holds value B and waits for A.\n",
    "\n",
    "Both get stuck and thread can't work.\n",
    "\n",
    "\n",
    "Race Condition:\n",
    "\n",
    "A race condition occurs when multiple threads access and manipulate a shared resource concurrently, and the final outcome of the program depends on the order and timing of their execution.\n",
    "\n",
    "e.g.\n",
    "\n",
    "if thread1 and thread2 both hold value A.\n",
    "Both increase value of A concurrently.\n",
    "\n",
    "Now, the outcome will not be as intented."
   ]
  },
  {
   "cell_type": "code",
   "execution_count": null,
   "id": "e8c97f27-5ed8-4f89-8157-ea7055841560",
   "metadata": {},
   "outputs": [],
   "source": []
  }
 ],
 "metadata": {
  "kernelspec": {
   "display_name": "Python 3 (ipykernel)",
   "language": "python",
   "name": "python3"
  },
  "language_info": {
   "codemirror_mode": {
    "name": "ipython",
    "version": 3
   },
   "file_extension": ".py",
   "mimetype": "text/x-python",
   "name": "python",
   "nbconvert_exporter": "python",
   "pygments_lexer": "ipython3",
   "version": "3.10.8"
  }
 },
 "nbformat": 4,
 "nbformat_minor": 5
}
