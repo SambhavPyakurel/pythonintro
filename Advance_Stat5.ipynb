{
 "cells": [
  {
   "cell_type": "markdown",
   "id": "1ddb9e06-af44-42e6-b231-849e3dfa72d0",
   "metadata": {},
   "source": [
    "#### Q1. Calculate the 95% confidence interval for a sample of data with a mean of 50 and a standard deviation of 5 using Python. Interpret the results."
   ]
  },
  {
   "cell_type": "code",
   "execution_count": 40,
   "id": "b0809f91-fa61-4957-abf8-a2b23f7063ec",
   "metadata": {},
   "outputs": [
    {
     "name": "stdout",
     "output_type": "stream",
     "text": [
      "The 95% confidence interval is [49.01, 50.99]\n"
     ]
    }
   ],
   "source": [
    "import scipy.stats as stat\n",
    "\n",
    "n = 100\n",
    "mean = 50\n",
    "std = 5\n",
    "CL = 0.95\n",
    "alpha = 0.05\n",
    "\n",
    "st_error = std / (n ** 0.5)\n",
    "\n",
    "t_value = stat.t.ppf( 1-alpha/2, 99)\n",
    "lower_bound = mean - t_value * st_error\n",
    "upper_bound = mean + t_value * st_error\n",
    "\n",
    "# Print the confidence interval\n",
    "print(\"The 95% confidence interval is [{:.2f}, {:.2f}]\".format(lower_bound, upper_bound))"
   ]
  },
  {
   "cell_type": "markdown",
   "id": "393897ac-2170-4976-acf4-348cc80f6293",
   "metadata": {},
   "source": [
    "Interpretetion: we can say with 95% confidence that the true population mean falls between 49.01 and 50.99. This means that if we were to repeat the study many times and calculate the confidence interval from each sample, we would expect 95% of those intervals to contain the true population mean."
   ]
  },
  {
   "cell_type": "markdown",
   "id": "a520de18-3159-491f-a1ac-b50ced1e6834",
   "metadata": {},
   "source": [
    "#### Q2. Conduct a chi-square goodness of fit test to determine if the distribution of colors of M&Ms in a bag matches the expected distribution of 20% blue, 20% orange, 20% green, 10% yellow, 10% red, and 20% brown. Use Python to perform the test with a significance level of 0.05."
   ]
  },
  {
   "cell_type": "code",
   "execution_count": 41,
   "id": "a06643c4-5cf5-40c8-9f79-303260c434d6",
   "metadata": {},
   "outputs": [
    {
     "name": "stdout",
     "output_type": "stream",
     "text": [
      "The null hypothesis is not rejected. The distribution of colors in the bag is as expected.\n"
     ]
    }
   ],
   "source": [
    "import numpy as np\n",
    "import scipy.stats as stat\n",
    "\"\"\"\n",
    " Let the observed frequency be following in order\n",
    "\"\"\"\n",
    "observed_freq = np.array([22, 18, 20, 9, 12, 19])\n",
    "\n",
    "expected_freq = np.array([0.2, 0.2, 0.2, 0.1, 0.1, 0.2]) * sum(observed_freq)\n",
    "\n",
    "dof = len(observed_freq)-1\n",
    "significance = 0.05\n",
    "\n",
    "\n",
    "test_stat,p_value=stat.chisquare(observed_freq,expected_freq)\n",
    "\n",
    "chi_critical = stat.chi2.ppf(1-significance,dof)\n",
    "\n",
    "\n",
    "if chi_critical < test_stat:\n",
    "    print(\"The null hypothesis is rejected. The distribution of colors in the bag is not as expected.\")\n",
    "else:\n",
    "    print(\"The null hypothesis is not rejected. The distribution of colors in the bag is as expected.\")"
   ]
  },
  {
   "cell_type": "markdown",
   "id": "4362297c-7ea5-45f8-9076-2c42ae5b4591",
   "metadata": {},
   "source": [
    "#### Q3. Use Python to calculate the chi-square statistic and p-value for a contingency table with the following data:\n",
    "\n",
    "||Group A|Group B|\n",
    "|--|--|--|\n",
    "|Outcome 1|20|15|\n",
    "|Outcome 2|10|25|\n",
    "|Outcome 3|15|20|\n",
    "\n",
    "Interpret result."
   ]
  },
  {
   "cell_type": "code",
   "execution_count": 24,
   "id": "5d5f1068-8f16-49ba-925f-d530960cd38a",
   "metadata": {},
   "outputs": [
    {
     "name": "stdout",
     "output_type": "stream",
     "text": [
      "Chi-square statistic = 5.83 \n",
      "p-value = 0.0541\n"
     ]
    }
   ],
   "source": [
    "import numpy as np\n",
    "import scipy.stats as stat\n",
    "\n",
    "table= np.array([[20, 15], [10, 25], [15, 20]])\n",
    "\n",
    "chi2_stat, p_value, dof, expected = stat.chi2_contingency(table)\n",
    "\n",
    "# Print the results\n",
    "print(f'Chi-square statistic = {chi2_stat:.2f} \\np-value = {p_value:.4f}')"
   ]
  },
  {
   "cell_type": "markdown",
   "id": "ba2014ba-e602-4569-8583-eabaa9623295",
   "metadata": {},
   "source": [
    "Interpretation: The p-value is 0.0541 which means if the significance level is below that we would reject null hypothesis. Also, Chi-square statistic is 5.83 means that if the chi-square critical value would fall below that we would reject the null hypothesis."
   ]
  },
  {
   "cell_type": "markdown",
   "id": "9ad0bd1a-24b1-44a9-9a26-af38bafdd8a2",
   "metadata": {},
   "source": [
    "#### Q4. A study of the prevalence of smoking in a population of 500 individuals found that 60 individuals smoked. Use Python to calculate the 95% confidence interval for the true proportion of individuals in the population who smoke."
   ]
  },
  {
   "cell_type": "code",
   "execution_count": 3,
   "id": "1b02c046-fe9a-4a0d-bcf5-56259b6fca3d",
   "metadata": {},
   "outputs": [
    {
     "name": "stdout",
     "output_type": "stream",
     "text": [
      "The 95% confidence interval for the true proportion of smokers is [0.0915, 0.1485].\n"
     ]
    }
   ],
   "source": [
    "import scipy.stats as stats\n",
    "\n",
    "n = 500\n",
    "x = 60\n",
    "\n",
    "p = x / n\n",
    "\n",
    "SE = np.sqrt(p * (1 - p) / n)\n",
    "\n",
    "\n",
    "ci = stats.norm.interval(0.95, loc=p, scale=SE)\n",
    "\n",
    "print(\"The 95% confidence interval for the true proportion of smokers is [{:.4f}, {:.4f}].\".format(ci[0], ci[1]))"
   ]
  },
  {
   "cell_type": "markdown",
   "id": "3b2395ab-1f3d-4672-8dc1-8ecba075241b",
   "metadata": {},
   "source": [
    "#### Q5. Calculate the 90% confidence interval for a sample of data with a mean of 75 and a standard deviation of 12 using Python. Interpret the results."
   ]
  },
  {
   "cell_type": "code",
   "execution_count": 9,
   "id": "9457135d-e94d-4ca0-961b-ae32445e78c7",
   "metadata": {},
   "outputs": [
    {
     "name": "stdout",
     "output_type": "stream",
     "text": [
      "The 90% confidence interval is [0.09, 0.15].\n"
     ]
    }
   ],
   "source": [
    "mean = 75\n",
    "std = 12\n",
    "CL = 0.90\n",
    "\"\"\"\n",
    "let sample size be 30\n",
    "\"\"\"\n",
    "n = 30\n",
    "\n",
    "SE = std/np.sqrt(n)\n",
    "\n",
    "CI = stats.norm.interval(CL,loc=mean,scale = SE)\n",
    "\n",
    "print(\"The 90% confidence interval is [{:.2f}, {:.2f}].\".format(ci[0], ci[1]))"
   ]
  },
  {
   "cell_type": "markdown",
   "id": "e6e75d9f-6761-4e45-a7a0-85c50f680a18",
   "metadata": {},
   "source": [
    "Interpretation:\n",
    "we can say with 90% confidence that the true population mean falls between 71.91 and 78.09. This means that if we were to repeat the study many times and calculate the confidence interval from each sample, we would expect 90% of those intervals to contain the true population mean."
   ]
  },
  {
   "cell_type": "markdown",
   "id": "272522e0-00cd-40eb-b15e-1254308bea80",
   "metadata": {},
   "source": [
    "#### Q6. Use Python to plot the chi-square distribution with 10 degrees of freedom. Label the axes and shade the area corresponding to a chi-square statistic of 15."
   ]
  },
  {
   "cell_type": "code",
   "execution_count": 18,
   "id": "420fac6c-dcef-4d5d-9027-0e6fbfdcf7fc",
   "metadata": {},
   "outputs": [
    {
     "data": {
      "image/png": "[encoded data removed]",
      "text/plain": [
       "<Figure size 640x480 with 1 Axes>"
      ]
     },
     "metadata": {},
     "output_type": "display_data"
    }
   ],
   "source": [
    "import numpy as np\n",
    "import scipy.stats as stats\n",
    "import matplotlib.pyplot as plt\n",
    "\n",
    "df = 10\n",
    "\n",
    "x = np.linspace(0, 30, 500)\n",
    "\n",
    "chi2 = stats.chi2.pdf(x, df)\n",
    "\n",
    "plt.plot(x, chi2, label='Chi-Square Distribution')\n",
    "\"\"\"\n",
    " Shade the area corresponding to a chi-square statistic of 15\n",
    "\"\"\"\n",
    "x_fill = np.linspace(15, 30, 500)\n",
    "y_fill = stats.chi2.pdf(x_fill, df)\n",
    "plt.fill_between(x_fill, y_fill, 0, alpha=0.5, label='Chi-Square Statistic = 15')\n",
    "\n",
    "# Add labels and a legend to the plot\n",
    "plt.xlabel('Chi-Square Statistic')\n",
    "plt.ylabel('Probability Density')\n",
    "plt.legend()\n",
    "\n",
    "# Show the plot\n",
    "plt.show()"
   ]
  },
  {
   "cell_type": "markdown",
   "id": "ae34a449-793a-49fe-98e9-75519418308c",
   "metadata": {},
   "source": [
    "#### Q7. A random sample of 1000 people was asked if they preferred Coke or Pepsi. Of the sample, 520 preferred Coke. Calculate a 99% confidence interval for the true proportion of people in the population who prefer Coke."
   ]
  },
  {
   "cell_type": "code",
   "execution_count": 20,
   "id": "aa3e7951-5c3e-4274-a011-401ba470d8d9",
   "metadata": {},
   "outputs": [
    {
     "name": "stdout",
     "output_type": "stream",
     "text": [
      "The 95% confidence interval for the true proportion of Coke preferers is [0.4890, 0.5510].\n"
     ]
    }
   ],
   "source": [
    "import scipy.stats as stats\n",
    "\n",
    "n = 1000\n",
    "x = 520\n",
    "\n",
    "p = x / n\n",
    "\n",
    "SE = np.sqrt(p * (1 - p) / n)\n",
    "\n",
    "\n",
    "ci = stats.norm.interval(0.95, loc=p, scale=SE)\n",
    "\n",
    "print(\"The 95% confidence interval for the true proportion of Coke preferers is [{:.4f}, {:.4f}].\".format(ci[0], ci[1]))"
   ]
  },
  {
   "cell_type": "markdown",
   "id": "1da9d527-9a14-4b93-8e1a-5defb16a6d45",
   "metadata": {},
   "source": [
    "#### Q8. A researcher hypothesizes that a coin is biased towards tails. They flip the coin 100 times and observe 45 tails. Conduct a chi-square goodness of fit test to determine if the observed frequencies match the expected frequencies of a fair coin. Use a significance level of 0.05."
   ]
  },
  {
   "cell_type": "code",
   "execution_count": 31,
   "id": "8a355a50-17e1-486d-bf45-7448bd802dc2",
   "metadata": {},
   "outputs": [
    {
     "name": "stdout",
     "output_type": "stream",
     "text": [
      "We fail to reject the null hypothesis that the coin is fair.\n"
     ]
    }
   ],
   "source": [
    "n = 100\n",
    "tails = 45\n",
    "SL = 0.05\n",
    "\n",
    "observed_freq = [55,45]\n",
    "expected_freq = [50,50]\n",
    "dof = len(observed_freq)-1\n",
    "test_stat,p_value=stat.chisquare(observed_freq,expected_freq)\n",
    "\n",
    "chi_critical = stat.chi2.ppf(1-SL,dof)\n",
    "\n",
    "if test_stat>chi_critical:\n",
    "     print(\"We reject the null hypothesis that the coin is fair.\")\n",
    "else:\n",
    "    print(\"We fail to reject the null hypothesis that the coin is fair.\")"
   ]
  },
  {
   "cell_type": "markdown",
   "id": "7c327ea3-e0f8-49ca-9a5e-7b405b1b8963",
   "metadata": {},
   "source": [
    "#### Q9. A study was conducted to determine if there is an association between smoking status (smoker or non-smoker) and lung cancer diagnosis (yes or no). The results are shown in the contingency table below. Conduct a chi-square test for independence to determine if there is a significant association between smoking status and lung cancer diagnosis.\n",
    "\n",
    "||Lung Cancer: Yes|Lung Cancer: No|\n",
    "|--|--|--|\n",
    "|Smoker|60|140|\n",
    "|Non-Smoker|30|170|\n",
    "\n",
    "Use a significance level of 0.05."
   ]
  },
  {
   "cell_type": "code",
   "execution_count": 33,
   "id": "20b5fc40-d394-4552-8fb0-a8666f868ea9",
   "metadata": {},
   "outputs": [
    {
     "name": "stdout",
     "output_type": "stream",
     "text": [
      "We reject the null hypothesis of independence between smoking status and lung cancer diagnosis.\n"
     ]
    }
   ],
   "source": [
    "import numpy as np\n",
    "import scipy.stats as stats\n",
    "\n",
    "obs = np.array([[60, 140], [30, 170]])\n",
    "\n",
    "chi2_stat, p_value, dof, expected = stats.chi2_contingency(obs)\n",
    "\n",
    "\n",
    "alpha = 0.05\n",
    "\n",
    "if p_value < alpha:\n",
    "    print(\"We reject the null hypothesis of independence between smoking status and lung cancer diagnosis.\")\n",
    "else:\n",
    "    print(\"We fail to reject the null hypothesis of independence between smoking status and lung cancer diagnosis.\")"
   ]
  },
  {
   "cell_type": "markdown",
   "id": "f248628e-4f04-4ca4-b3f6-f1846ab7ffaf",
   "metadata": {},
   "source": [
    "#### Q10. A study was conducted to determine if the proportion of people who prefer milk chocolate, dark chocolate, or white chocolate is different in the U.S. versus the U.K. A random sample of 500 people from the U.S. and a random sample of 500 people from the U.K. were surveyed. The results are shown in the contingency table below. Conduct a chi-square test for independence to determine if there is a significant association between chocolate preference and country of origin.\n",
    "\n",
    "||Milk Chocolate|Dark Chocolate|White Chocolate|\n",
    "|---|--|--|--|\n",
    "|U.S.(n=500)|200|150|150|\n",
    "|U.K.(n=500)|225|175|100|\n",
    "\n",
    "Use a significance level of 0.01."
   ]
  },
  {
   "cell_type": "code",
   "execution_count": 35,
   "id": "02145449-1f3d-454f-98f0-c6f5f6b29651",
   "metadata": {},
   "outputs": [
    {
     "name": "stdout",
     "output_type": "stream",
     "text": [
      "We reject the null hypothesis of independence between chocolate preference and country of origin.\n"
     ]
    }
   ],
   "source": [
    "import numpy as np\n",
    "import scipy.stats as stats\n",
    "\n",
    "obs = np.array([[200, 150,150], [225, 175,100]])\n",
    "\n",
    "chi2_stat, p_value, dof, expected = stats.chi2_contingency(obs)\n",
    "\n",
    "\n",
    "alpha = 0.01\n",
    "\n",
    "if p_value < alpha:\n",
    "    print(\"We reject the null hypothesis of independence between chocolate preference and country of origin.\")\n",
    "else:\n",
    "    print(\"We fail to reject the null hypothesis of independence between chocolate preference and country of origin.\")"
   ]
  },
  {
   "cell_type": "markdown",
   "id": "f316dbec-6a2b-4561-8d46-c14596a763fb",
   "metadata": {},
   "source": [
    "#### Q11. A random sample of 30 people was selected from a population with an unknown mean and standard deviation. The sample mean was found to be 72 and the sample standard deviation was found to be 10. Conduct a hypothesis test to determine if the population mean is significantly different from 70. Use a significance level of 0.05."
   ]
  },
  {
   "cell_type": "markdown",
   "id": "62f44de1-8472-4f6b-9097-1672ab959484",
   "metadata": {},
   "source": [
    "Null Hypothesis: The population mean is equal to 70. H0: mean = 70\n",
    "\n",
    "Alternate Hypothesis: The population mean is not equal to 70. Ha: mean ≠ 70 \n",
    "\n",
    "Here,\n",
    "\n",
    "n = 30\n",
    "\n",
    "sample mean = 72\n",
    "\n",
    "std = 10\n",
    "\n",
    "mean = 70\n",
    "\n",
    "SL = 0.05\n",
    "\n",
    "for t-stat,\n",
    "\n",
    "t-stat = (sample mean - mean)/std/sqrt(n)\n",
    "\n",
    "t-stat = (72 - 70)/10/sqrt(30)\n",
    "\n",
    "t-stat = 1.095\n",
    "\n",
    "for t-critical,\n",
    "\n",
    "dof = n-1 = 30 - 1 = 29\n",
    "\n",
    "SL = 0.05\n",
    "\n",
    "from t-table,\n",
    "\n",
    "t-critical = ±2.0452\n",
    "\n",
    "Since, t-stat lies in between t-critical. We fail to reject the null hypothesis that population mean is equal to 70.There is not enough evidence to conclude that the population mean is significantly different from 70 at the 5% level of significance."
   ]
  },
  {
   "cell_type": "code",
   "execution_count": null,
   "id": "1c742726-148a-4399-a60a-349e97b81874",
   "metadata": {},
   "outputs": [],
   "source": []
  }
 ],
 "metadata": {
  "kernelspec": {
   "display_name": "Python 3 (ipykernel)",
   "language": "python",
   "name": "python3"
  },
  "language_info": {
   "codemirror_mode": {
    "name": "ipython",
    "version": 3
   },
   "file_extension": ".py",
   "mimetype": "text/x-python",
   "name": "python",
   "nbconvert_exporter": "python",
   "pygments_lexer": "ipython3",
   "version": "3.10.8"
  }
 },
 "nbformat": 4,
 "nbformat_minor": 5
}
